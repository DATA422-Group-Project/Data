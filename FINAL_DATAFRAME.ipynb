{
 "cells": [
  {
   "cell_type": "code",
   "execution_count": 1,
   "id": "fd38e4b0-f308-4421-8023-f36033c819d4",
   "metadata": {},
   "outputs": [
    {
     "name": "stderr",
     "output_type": "stream",
     "text": [
      "\n",
      "Attaching package: 'dplyr'\n",
      "\n",
      "\n",
      "The following objects are masked from 'package:stats':\n",
      "\n",
      "    filter, lag\n",
      "\n",
      "\n",
      "The following objects are masked from 'package:base':\n",
      "\n",
      "    intersect, setdiff, setequal, union\n",
      "\n",
      "\n",
      "-- \u001b[1mAttaching packages\u001b[22m --------------------------------------- tidyverse 1.3.1 --\n",
      "\n",
      "\u001b[32mv\u001b[39m \u001b[34mggplot2\u001b[39m 3.3.5     \u001b[32mv\u001b[39m \u001b[34mpurrr  \u001b[39m 0.3.4\n",
      "\u001b[32mv\u001b[39m \u001b[34mtibble \u001b[39m 3.1.3     \u001b[32mv\u001b[39m \u001b[34mstringr\u001b[39m 1.4.0\n",
      "\u001b[32mv\u001b[39m \u001b[34mtidyr  \u001b[39m 1.1.3     \u001b[32mv\u001b[39m \u001b[34mforcats\u001b[39m 0.5.1\n",
      "\u001b[32mv\u001b[39m \u001b[34mreadr  \u001b[39m 2.0.0     \n",
      "\n",
      "-- \u001b[1mConflicts\u001b[22m ------------------------------------------ tidyverse_conflicts() --\n",
      "\u001b[31mx\u001b[39m \u001b[34mdplyr\u001b[39m::\u001b[32mfilter()\u001b[39m masks \u001b[34mstats\u001b[39m::filter()\n",
      "\u001b[31mx\u001b[39m \u001b[34mdplyr\u001b[39m::\u001b[32mlag()\u001b[39m    masks \u001b[34mstats\u001b[39m::lag()\n",
      "\n",
      "Warning message:\n",
      "\"package 'countrycode' was built under R version 4.1.1\"\n"
     ]
    }
   ],
   "source": [
    "#installing packages\n",
    "library(dplyr)\n",
    "library(tidyverse)\n",
    "#install.packages(\"countrycode\")\n",
    "library(countrycode)"
   ]
  },
  {
   "cell_type": "code",
   "execution_count": 2,
   "id": "b61347eb-a8fa-441d-8612-909a1d97becc",
   "metadata": {},
   "outputs": [
    {
     "data": {
      "text/html": [
       "<table class=\"dataframe\">\n",
       "<caption>A data.frame: 6 × 5</caption>\n",
       "<thead>\n",
       "\t<tr><th></th><th scope=col>fips</th><th scope=col>tavg</th><th scope=col>prcp</th><th scope=col>iso3166</th><th scope=col>Name</th></tr>\n",
       "\t<tr><th></th><th scope=col>&lt;chr&gt;</th><th scope=col>&lt;dbl&gt;</th><th scope=col>&lt;dbl&gt;</th><th scope=col>&lt;chr&gt;</th><th scope=col>&lt;chr&gt;</th></tr>\n",
       "</thead>\n",
       "<tbody>\n",
       "\t<tr><th scope=row>1</th><td>AE</td><td>30.60948</td><td> 0.0000000</td><td>AE</td><td>United Arab Emirates</td></tr>\n",
       "\t<tr><th scope=row>2</th><td>AF</td><td>19.30219</td><td> 3.3200000</td><td>AF</td><td>Afghanistan         </td></tr>\n",
       "\t<tr><th scope=row>3</th><td>AG</td><td>22.93812</td><td> 0.7833752</td><td>DZ</td><td>Algeria             </td></tr>\n",
       "\t<tr><th scope=row>4</th><td>AJ</td><td>17.32671</td><td>10.9521967</td><td>AZ</td><td>Azerbaijan          </td></tr>\n",
       "\t<tr><th scope=row>5</th><td>AL</td><td>17.23447</td><td>        NA</td><td>AL</td><td>Albania             </td></tr>\n",
       "\t<tr><th scope=row>6</th><td>AM</td><td>10.79957</td><td> 3.0507692</td><td>AM</td><td>Armenia             </td></tr>\n",
       "</tbody>\n",
       "</table>\n"
      ],
      "text/latex": [
       "A data.frame: 6 × 5\n",
       "\\begin{tabular}{r|lllll}\n",
       "  & fips & tavg & prcp & iso3166 & Name\\\\\n",
       "  & <chr> & <dbl> & <dbl> & <chr> & <chr>\\\\\n",
       "\\hline\n",
       "\t1 & AE & 30.60948 &  0.0000000 & AE & United Arab Emirates\\\\\n",
       "\t2 & AF & 19.30219 &  3.3200000 & AF & Afghanistan         \\\\\n",
       "\t3 & AG & 22.93812 &  0.7833752 & DZ & Algeria             \\\\\n",
       "\t4 & AJ & 17.32671 & 10.9521967 & AZ & Azerbaijan          \\\\\n",
       "\t5 & AL & 17.23447 &         NA & AL & Albania             \\\\\n",
       "\t6 & AM & 10.79957 &  3.0507692 & AM & Armenia             \\\\\n",
       "\\end{tabular}\n"
      ],
      "text/markdown": [
       "\n",
       "A data.frame: 6 × 5\n",
       "\n",
       "| <!--/--> | fips &lt;chr&gt; | tavg &lt;dbl&gt; | prcp &lt;dbl&gt; | iso3166 &lt;chr&gt; | Name &lt;chr&gt; |\n",
       "|---|---|---|---|---|---|\n",
       "| 1 | AE | 30.60948 |  0.0000000 | AE | United Arab Emirates |\n",
       "| 2 | AF | 19.30219 |  3.3200000 | AF | Afghanistan          |\n",
       "| 3 | AG | 22.93812 |  0.7833752 | DZ | Algeria              |\n",
       "| 4 | AJ | 17.32671 | 10.9521967 | AZ | Azerbaijan           |\n",
       "| 5 | AL | 17.23447 |         NA | AL | Albania              |\n",
       "| 6 | AM | 10.79957 |  3.0507692 | AM | Armenia              |\n",
       "\n"
      ],
      "text/plain": [
       "  fips tavg     prcp       iso3166 Name                \n",
       "1 AE   30.60948  0.0000000 AE      United Arab Emirates\n",
       "2 AF   19.30219  3.3200000 AF      Afghanistan         \n",
       "3 AG   22.93812  0.7833752 DZ      Algeria             \n",
       "4 AJ   17.32671 10.9521967 AZ      Azerbaijan          \n",
       "5 AL   17.23447         NA AL      Albania             \n",
       "6 AM   10.79957  3.0507692 AM      Armenia             "
      ]
     },
     "metadata": {},
     "output_type": "display_data"
    },
    {
     "data": {
      "text/html": [
       "<table class=\"dataframe\">\n",
       "<caption>A data.frame: 6 × 9</caption>\n",
       "<thead>\n",
       "\t<tr><th></th><th scope=col>X</th><th scope=col>country</th><th scope=col>urbanisation_rate</th><th scope=col>urbanisation_yearly_change</th><th scope=col>gdp_per_cap</th><th scope=col>size</th><th scope=col>population</th><th scope=col>density</th><th scope=col>country_code</th></tr>\n",
       "\t<tr><th></th><th scope=col>&lt;int&gt;</th><th scope=col>&lt;chr&gt;</th><th scope=col>&lt;dbl&gt;</th><th scope=col>&lt;dbl&gt;</th><th scope=col>&lt;int&gt;</th><th scope=col>&lt;dbl&gt;</th><th scope=col>&lt;int&gt;</th><th scope=col>&lt;dbl&gt;</th><th scope=col>&lt;chr&gt;</th></tr>\n",
       "</thead>\n",
       "<tbody>\n",
       "\t<tr><th scope=row>1</th><td>1</td><td>Afghanistan   </td><td>26.3</td><td>3.34</td><td> 2065</td><td> 652230</td><td>37466414</td><td> 57.44</td><td>AFG</td></tr>\n",
       "\t<tr><th scope=row>2</th><td>2</td><td>Albania       </td><td>63.0</td><td>1.29</td><td>13965</td><td>  28748</td><td> 3088385</td><td>107.43</td><td>ALB</td></tr>\n",
       "\t<tr><th scope=row>3</th><td>3</td><td>Algeria       </td><td>74.3</td><td>1.99</td><td>11511</td><td>2381740</td><td>43576691</td><td> 18.30</td><td>DZA</td></tr>\n",
       "\t<tr><th scope=row>4</th><td>4</td><td>American Samoa</td><td>87.2</td><td>0.26</td><td>11200</td><td>    224</td><td>   46366</td><td>206.99</td><td>ASM</td></tr>\n",
       "\t<tr><th scope=row>5</th><td>5</td><td>Andorra       </td><td>87.9</td><td>0.11</td><td>49900</td><td>    468</td><td>   85645</td><td>183.00</td><td>AND</td></tr>\n",
       "\t<tr><th scope=row>6</th><td>6</td><td>Angola        </td><td>67.5</td><td>4.04</td><td> 6670</td><td>1246700</td><td>33642646</td><td> 26.99</td><td>AGO</td></tr>\n",
       "</tbody>\n",
       "</table>\n"
      ],
      "text/latex": [
       "A data.frame: 6 × 9\n",
       "\\begin{tabular}{r|lllllllll}\n",
       "  & X & country & urbanisation\\_rate & urbanisation\\_yearly\\_change & gdp\\_per\\_cap & size & population & density & country\\_code\\\\\n",
       "  & <int> & <chr> & <dbl> & <dbl> & <int> & <dbl> & <int> & <dbl> & <chr>\\\\\n",
       "\\hline\n",
       "\t1 & 1 & Afghanistan    & 26.3 & 3.34 &  2065 &  652230 & 37466414 &  57.44 & AFG\\\\\n",
       "\t2 & 2 & Albania        & 63.0 & 1.29 & 13965 &   28748 &  3088385 & 107.43 & ALB\\\\\n",
       "\t3 & 3 & Algeria        & 74.3 & 1.99 & 11511 & 2381740 & 43576691 &  18.30 & DZA\\\\\n",
       "\t4 & 4 & American Samoa & 87.2 & 0.26 & 11200 &     224 &    46366 & 206.99 & ASM\\\\\n",
       "\t5 & 5 & Andorra        & 87.9 & 0.11 & 49900 &     468 &    85645 & 183.00 & AND\\\\\n",
       "\t6 & 6 & Angola         & 67.5 & 4.04 &  6670 & 1246700 & 33642646 &  26.99 & AGO\\\\\n",
       "\\end{tabular}\n"
      ],
      "text/markdown": [
       "\n",
       "A data.frame: 6 × 9\n",
       "\n",
       "| <!--/--> | X &lt;int&gt; | country &lt;chr&gt; | urbanisation_rate &lt;dbl&gt; | urbanisation_yearly_change &lt;dbl&gt; | gdp_per_cap &lt;int&gt; | size &lt;dbl&gt; | population &lt;int&gt; | density &lt;dbl&gt; | country_code &lt;chr&gt; |\n",
       "|---|---|---|---|---|---|---|---|---|---|\n",
       "| 1 | 1 | Afghanistan    | 26.3 | 3.34 |  2065 |  652230 | 37466414 |  57.44 | AFG |\n",
       "| 2 | 2 | Albania        | 63.0 | 1.29 | 13965 |   28748 |  3088385 | 107.43 | ALB |\n",
       "| 3 | 3 | Algeria        | 74.3 | 1.99 | 11511 | 2381740 | 43576691 |  18.30 | DZA |\n",
       "| 4 | 4 | American Samoa | 87.2 | 0.26 | 11200 |     224 |    46366 | 206.99 | ASM |\n",
       "| 5 | 5 | Andorra        | 87.9 | 0.11 | 49900 |     468 |    85645 | 183.00 | AND |\n",
       "| 6 | 6 | Angola         | 67.5 | 4.04 |  6670 | 1246700 | 33642646 |  26.99 | AGO |\n",
       "\n"
      ],
      "text/plain": [
       "  X country        urbanisation_rate urbanisation_yearly_change gdp_per_cap\n",
       "1 1 Afghanistan    26.3              3.34                        2065      \n",
       "2 2 Albania        63.0              1.29                       13965      \n",
       "3 3 Algeria        74.3              1.99                       11511      \n",
       "4 4 American Samoa 87.2              0.26                       11200      \n",
       "5 5 Andorra        87.9              0.11                       49900      \n",
       "6 6 Angola         67.5              4.04                        6670      \n",
       "  size    population density country_code\n",
       "1  652230 37466414    57.44  AFG         \n",
       "2   28748  3088385   107.43  ALB         \n",
       "3 2381740 43576691    18.30  DZA         \n",
       "4     224    46366   206.99  ASM         \n",
       "5     468    85645   183.00  AND         \n",
       "6 1246700 33642646    26.99  AGO         "
      ]
     },
     "metadata": {},
     "output_type": "display_data"
    },
    {
     "data": {
      "text/html": [
       "<table class=\"dataframe\">\n",
       "<caption>A data.frame: 6 × 12</caption>\n",
       "<thead>\n",
       "\t<tr><th></th><th scope=col>X</th><th scope=col>country_code</th><th scope=col>country_name</th><th scope=col>total_cases</th><th scope=col>total_deaths</th><th scope=col>total_vaccinations</th><th scope=col>vaccinated_1dose</th><th scope=col>fully_vacccinated</th><th scope=col>total_vaccinations_per100</th><th scope=col>first_vaccine_date</th><th scope=col>last_updated_date</th><th scope=col>stringency</th></tr>\n",
       "\t<tr><th></th><th scope=col>&lt;int&gt;</th><th scope=col>&lt;chr&gt;</th><th scope=col>&lt;chr&gt;</th><th scope=col>&lt;int&gt;</th><th scope=col>&lt;int&gt;</th><th scope=col>&lt;dbl&gt;</th><th scope=col>&lt;int&gt;</th><th scope=col>&lt;int&gt;</th><th scope=col>&lt;dbl&gt;</th><th scope=col>&lt;chr&gt;</th><th scope=col>&lt;chr&gt;</th><th scope=col>&lt;dbl&gt;</th></tr>\n",
       "</thead>\n",
       "<tbody>\n",
       "\t<tr><th scope=row>1</th><td>1</td><td>USA</td><td>United States of America</td><td>44408612</td><td>715179</td><td>416110353</td><td>233521350</td><td>203896677</td><td>125.712</td><td>2020-12-14</td><td>2021-10-15</td><td>61.57</td></tr>\n",
       "\t<tr><th scope=row>2</th><td>2</td><td>IND</td><td>India                   </td><td>34081315</td><td>452290</td><td>951984373</td><td>683009792</td><td>268974581</td><td> 68.984</td><td>2021-01-16</td><td>2021-10-11</td><td>54.17</td></tr>\n",
       "\t<tr><th scope=row>3</th><td>3</td><td>BRA</td><td>Brazil                  </td><td>21597949</td><td>601574</td><td>246737803</td><td>151223500</td><td>105063574</td><td>116.079</td><td>2021-01-17</td><td>2021-10-15</td><td>40.28</td></tr>\n",
       "\t<tr><th scope=row>4</th><td>4</td><td>GBR</td><td>The United Kingdom      </td><td> 8449169</td><td>138584</td><td> 94376101</td><td> 49186920</td><td> 45073591</td><td>139.000</td><td>2020-12-21</td><td>2021-10-12</td><td>41.20</td></tr>\n",
       "\t<tr><th scope=row>5</th><td>5</td><td>RUS</td><td>Russian Federation      </td><td> 8027012</td><td>224310</td><td> 94491689</td><td> 49463056</td><td> 45028077</td><td> 64.700</td><td>NA        </td><td>2021-10-13</td><td>54.17</td></tr>\n",
       "\t<tr><th scope=row>6</th><td>6</td><td>TUR</td><td>Turkey                  </td><td> 7654277</td><td> 67623</td><td>112360409</td><td> 54497626</td><td> 46903485</td><td>133.200</td><td>NA        </td><td>2021-10-13</td><td>58.33</td></tr>\n",
       "</tbody>\n",
       "</table>\n"
      ],
      "text/latex": [
       "A data.frame: 6 × 12\n",
       "\\begin{tabular}{r|llllllllllll}\n",
       "  & X & country\\_code & country\\_name & total\\_cases & total\\_deaths & total\\_vaccinations & vaccinated\\_1dose & fully\\_vacccinated & total\\_vaccinations\\_per100 & first\\_vaccine\\_date & last\\_updated\\_date & stringency\\\\\n",
       "  & <int> & <chr> & <chr> & <int> & <int> & <dbl> & <int> & <int> & <dbl> & <chr> & <chr> & <dbl>\\\\\n",
       "\\hline\n",
       "\t1 & 1 & USA & United States of America & 44408612 & 715179 & 416110353 & 233521350 & 203896677 & 125.712 & 2020-12-14 & 2021-10-15 & 61.57\\\\\n",
       "\t2 & 2 & IND & India                    & 34081315 & 452290 & 951984373 & 683009792 & 268974581 &  68.984 & 2021-01-16 & 2021-10-11 & 54.17\\\\\n",
       "\t3 & 3 & BRA & Brazil                   & 21597949 & 601574 & 246737803 & 151223500 & 105063574 & 116.079 & 2021-01-17 & 2021-10-15 & 40.28\\\\\n",
       "\t4 & 4 & GBR & The United Kingdom       &  8449169 & 138584 &  94376101 &  49186920 &  45073591 & 139.000 & 2020-12-21 & 2021-10-12 & 41.20\\\\\n",
       "\t5 & 5 & RUS & Russian Federation       &  8027012 & 224310 &  94491689 &  49463056 &  45028077 &  64.700 & NA         & 2021-10-13 & 54.17\\\\\n",
       "\t6 & 6 & TUR & Turkey                   &  7654277 &  67623 & 112360409 &  54497626 &  46903485 & 133.200 & NA         & 2021-10-13 & 58.33\\\\\n",
       "\\end{tabular}\n"
      ],
      "text/markdown": [
       "\n",
       "A data.frame: 6 × 12\n",
       "\n",
       "| <!--/--> | X &lt;int&gt; | country_code &lt;chr&gt; | country_name &lt;chr&gt; | total_cases &lt;int&gt; | total_deaths &lt;int&gt; | total_vaccinations &lt;dbl&gt; | vaccinated_1dose &lt;int&gt; | fully_vacccinated &lt;int&gt; | total_vaccinations_per100 &lt;dbl&gt; | first_vaccine_date &lt;chr&gt; | last_updated_date &lt;chr&gt; | stringency &lt;dbl&gt; |\n",
       "|---|---|---|---|---|---|---|---|---|---|---|---|---|\n",
       "| 1 | 1 | USA | United States of America | 44408612 | 715179 | 416110353 | 233521350 | 203896677 | 125.712 | 2020-12-14 | 2021-10-15 | 61.57 |\n",
       "| 2 | 2 | IND | India                    | 34081315 | 452290 | 951984373 | 683009792 | 268974581 |  68.984 | 2021-01-16 | 2021-10-11 | 54.17 |\n",
       "| 3 | 3 | BRA | Brazil                   | 21597949 | 601574 | 246737803 | 151223500 | 105063574 | 116.079 | 2021-01-17 | 2021-10-15 | 40.28 |\n",
       "| 4 | 4 | GBR | The United Kingdom       |  8449169 | 138584 |  94376101 |  49186920 |  45073591 | 139.000 | 2020-12-21 | 2021-10-12 | 41.20 |\n",
       "| 5 | 5 | RUS | Russian Federation       |  8027012 | 224310 |  94491689 |  49463056 |  45028077 |  64.700 | NA         | 2021-10-13 | 54.17 |\n",
       "| 6 | 6 | TUR | Turkey                   |  7654277 |  67623 | 112360409 |  54497626 |  46903485 | 133.200 | NA         | 2021-10-13 | 58.33 |\n",
       "\n"
      ],
      "text/plain": [
       "  X country_code country_name             total_cases total_deaths\n",
       "1 1 USA          United States of America 44408612    715179      \n",
       "2 2 IND          India                    34081315    452290      \n",
       "3 3 BRA          Brazil                   21597949    601574      \n",
       "4 4 GBR          The United Kingdom        8449169    138584      \n",
       "5 5 RUS          Russian Federation        8027012    224310      \n",
       "6 6 TUR          Turkey                    7654277     67623      \n",
       "  total_vaccinations vaccinated_1dose fully_vacccinated\n",
       "1 416110353          233521350        203896677        \n",
       "2 951984373          683009792        268974581        \n",
       "3 246737803          151223500        105063574        \n",
       "4  94376101           49186920         45073591        \n",
       "5  94491689           49463056         45028077        \n",
       "6 112360409           54497626         46903485        \n",
       "  total_vaccinations_per100 first_vaccine_date last_updated_date stringency\n",
       "1 125.712                   2020-12-14         2021-10-15        61.57     \n",
       "2  68.984                   2021-01-16         2021-10-11        54.17     \n",
       "3 116.079                   2021-01-17         2021-10-15        40.28     \n",
       "4 139.000                   2020-12-21         2021-10-12        41.20     \n",
       "5  64.700                   NA                 2021-10-13        54.17     \n",
       "6 133.200                   NA                 2021-10-13        58.33     "
      ]
     },
     "metadata": {},
     "output_type": "display_data"
    },
    {
     "data": {
      "text/html": [
       "<table class=\"dataframe\">\n",
       "<caption>A data.frame: 6 × 2</caption>\n",
       "<thead>\n",
       "\t<tr><th></th><th scope=col>name</th><th scope=col>iso3c</th></tr>\n",
       "\t<tr><th></th><th scope=col>&lt;chr&gt;</th><th scope=col>&lt;chr&gt;</th></tr>\n",
       "</thead>\n",
       "<tbody>\n",
       "\t<tr><th scope=row>1</th><td>Australia</td><td>AUS</td></tr>\n",
       "\t<tr><th scope=row>2</th><td>Austria  </td><td>AUT</td></tr>\n",
       "\t<tr><th scope=row>3</th><td>Belgium  </td><td>BEL</td></tr>\n",
       "\t<tr><th scope=row>4</th><td>Canada   </td><td>CAN</td></tr>\n",
       "\t<tr><th scope=row>5</th><td>Chile    </td><td>CHL</td></tr>\n",
       "\t<tr><th scope=row>6</th><td>Colombia </td><td>COL</td></tr>\n",
       "</tbody>\n",
       "</table>\n"
      ],
      "text/latex": [
       "A data.frame: 6 × 2\n",
       "\\begin{tabular}{r|ll}\n",
       "  & name & iso3c\\\\\n",
       "  & <chr> & <chr>\\\\\n",
       "\\hline\n",
       "\t1 & Australia & AUS\\\\\n",
       "\t2 & Austria   & AUT\\\\\n",
       "\t3 & Belgium   & BEL\\\\\n",
       "\t4 & Canada    & CAN\\\\\n",
       "\t5 & Chile     & CHL\\\\\n",
       "\t6 & Colombia  & COL\\\\\n",
       "\\end{tabular}\n"
      ],
      "text/markdown": [
       "\n",
       "A data.frame: 6 × 2\n",
       "\n",
       "| <!--/--> | name &lt;chr&gt; | iso3c &lt;chr&gt; |\n",
       "|---|---|---|\n",
       "| 1 | Australia | AUS |\n",
       "| 2 | Austria   | AUT |\n",
       "| 3 | Belgium   | BEL |\n",
       "| 4 | Canada    | CAN |\n",
       "| 5 | Chile     | CHL |\n",
       "| 6 | Colombia  | COL |\n",
       "\n"
      ],
      "text/plain": [
       "  name      iso3c\n",
       "1 Australia AUS  \n",
       "2 Austria   AUT  \n",
       "3 Belgium   BEL  \n",
       "4 Canada    CAN  \n",
       "5 Chile     CHL  \n",
       "6 Colombia  COL  "
      ]
     },
     "metadata": {},
     "output_type": "display_data"
    },
    {
     "data": {
      "text/html": [
       "<table class=\"dataframe\">\n",
       "<caption>A data.frame: 1 × 1</caption>\n",
       "<thead>\n",
       "\t<tr><th scope=col>n</th></tr>\n",
       "\t<tr><th scope=col>&lt;int&gt;</th></tr>\n",
       "</thead>\n",
       "<tbody>\n",
       "\t<tr><td>225</td></tr>\n",
       "</tbody>\n",
       "</table>\n"
      ],
      "text/latex": [
       "A data.frame: 1 × 1\n",
       "\\begin{tabular}{l}\n",
       " n\\\\\n",
       " <int>\\\\\n",
       "\\hline\n",
       "\t 225\\\\\n",
       "\\end{tabular}\n"
      ],
      "text/markdown": [
       "\n",
       "A data.frame: 1 × 1\n",
       "\n",
       "| n &lt;int&gt; |\n",
       "|---|\n",
       "| 225 |\n",
       "\n"
      ],
      "text/plain": [
       "  n  \n",
       "1 225"
      ]
     },
     "metadata": {},
     "output_type": "display_data"
    },
    {
     "data": {
      "text/html": [
       "<table class=\"dataframe\">\n",
       "<caption>A data.frame: 1 × 1</caption>\n",
       "<thead>\n",
       "\t<tr><th scope=col>n</th></tr>\n",
       "\t<tr><th scope=col>&lt;int&gt;</th></tr>\n",
       "</thead>\n",
       "<tbody>\n",
       "\t<tr><td>231</td></tr>\n",
       "</tbody>\n",
       "</table>\n"
      ],
      "text/latex": [
       "A data.frame: 1 × 1\n",
       "\\begin{tabular}{l}\n",
       " n\\\\\n",
       " <int>\\\\\n",
       "\\hline\n",
       "\t 231\\\\\n",
       "\\end{tabular}\n"
      ],
      "text/markdown": [
       "\n",
       "A data.frame: 1 × 1\n",
       "\n",
       "| n &lt;int&gt; |\n",
       "|---|\n",
       "| 231 |\n",
       "\n"
      ],
      "text/plain": [
       "  n  \n",
       "1 231"
      ]
     },
     "metadata": {},
     "output_type": "display_data"
    }
   ],
   "source": [
    "# read the datasets\n",
    "climate_data <- read.csv(\"climate.csv\")\n",
    "population_data <- read.csv(\"PopulationData.csv\")\n",
    "covid_data <- read.csv(\"Covid_Data_New.csv\")\n",
    "oecd_data <- read.csv(\"OECD_country_codes.csv\")\n",
    "head(climate_data)\n",
    "head(population_data)\n",
    "head(covid_data)\n",
    "head(oecd_data)\n",
    "count(population_data)\n",
    "count(covid_data)"
   ]
  },
  {
   "cell_type": "code",
   "execution_count": 3,
   "id": "ab8da98a-5574-4120-bf39-e12ab996948a",
   "metadata": {},
   "outputs": [
    {
     "data": {
      "text/html": [
       "<table class=\"dataframe\">\n",
       "<caption>A data.frame: 6 × 16</caption>\n",
       "<thead>\n",
       "\t<tr><th></th><th scope=col>country_code</th><th scope=col>country_name</th><th scope=col>total_cases</th><th scope=col>total_deaths</th><th scope=col>total_vaccinations</th><th scope=col>vaccinated_1dose</th><th scope=col>fully_vacccinated</th><th scope=col>total_vaccinations_per100</th><th scope=col>first_vaccine_date</th><th scope=col>last_updated_date</th><th scope=col>stringency</th><th scope=col>population</th><th scope=col>urbanisation_rate</th><th scope=col>urbanisation_yearly_change</th><th scope=col>gdp_per_cap</th><th scope=col>density</th></tr>\n",
       "\t<tr><th></th><th scope=col>&lt;chr&gt;</th><th scope=col>&lt;chr&gt;</th><th scope=col>&lt;int&gt;</th><th scope=col>&lt;int&gt;</th><th scope=col>&lt;dbl&gt;</th><th scope=col>&lt;int&gt;</th><th scope=col>&lt;int&gt;</th><th scope=col>&lt;dbl&gt;</th><th scope=col>&lt;chr&gt;</th><th scope=col>&lt;chr&gt;</th><th scope=col>&lt;dbl&gt;</th><th scope=col>&lt;int&gt;</th><th scope=col>&lt;dbl&gt;</th><th scope=col>&lt;dbl&gt;</th><th scope=col>&lt;int&gt;</th><th scope=col>&lt;dbl&gt;</th></tr>\n",
       "</thead>\n",
       "<tbody>\n",
       "\t<tr><th scope=row>1</th><td>USA</td><td>United States of America</td><td>44408612</td><td>715179</td><td>416110353</td><td>233521350</td><td>203896677</td><td>125.712</td><td>2020-12-14</td><td>2021-10-15</td><td>61.57</td><td> 334998398</td><td>82.9</td><td>0.96</td><td>62530</td><td> 34.07</td></tr>\n",
       "\t<tr><th scope=row>2</th><td>IND</td><td>India                   </td><td>34081315</td><td>452290</td><td>951984373</td><td>683009792</td><td>268974581</td><td> 68.984</td><td>2021-01-16</td><td>2021-10-11</td><td>54.17</td><td>1339330514</td><td>35.4</td><td>2.33</td><td> 6700</td><td>407.43</td></tr>\n",
       "\t<tr><th scope=row>3</th><td>BRA</td><td>Brazil                  </td><td>21597949</td><td>601574</td><td>246737803</td><td>151223500</td><td>105063574</td><td>116.079</td><td>2021-01-17</td><td>2021-10-15</td><td>40.28</td><td> 213445417</td><td>87.3</td><td>0.87</td><td>14652</td><td> 25.06</td></tr>\n",
       "\t<tr><th scope=row>4</th><td>GBR</td><td>The United Kingdom      </td><td> 8449169</td><td>138584</td><td> 94376101</td><td> 49186920</td><td> 45073591</td><td>139.000</td><td>2020-12-21</td><td>2021-10-12</td><td>41.20</td><td>  67081000</td><td>84.2</td><td>0.80</td><td>46659</td><td>275.36</td></tr>\n",
       "\t<tr><th scope=row>5</th><td>RUS</td><td>Russian Federation      </td><td> 8027012</td><td>224310</td><td> 94491689</td><td> 49463056</td><td> 45028077</td><td> 64.700</td><td>NA        </td><td>2021-10-13</td><td>54.17</td><td> 142320790</td><td>74.9</td><td>0.11</td><td>27044</td><td>  8.32</td></tr>\n",
       "\t<tr><th scope=row>6</th><td>TUR</td><td>Turkey                  </td><td> 7654277</td><td> 67623</td><td>112360409</td><td> 54497626</td><td> 46903485</td><td>133.200</td><td>NA        </td><td>2021-10-13</td><td>58.33</td><td>  82482383</td><td>76.6</td><td>1.11</td><td>28424</td><td>105.27</td></tr>\n",
       "</tbody>\n",
       "</table>\n"
      ],
      "text/latex": [
       "A data.frame: 6 × 16\n",
       "\\begin{tabular}{r|llllllllllllllll}\n",
       "  & country\\_code & country\\_name & total\\_cases & total\\_deaths & total\\_vaccinations & vaccinated\\_1dose & fully\\_vacccinated & total\\_vaccinations\\_per100 & first\\_vaccine\\_date & last\\_updated\\_date & stringency & population & urbanisation\\_rate & urbanisation\\_yearly\\_change & gdp\\_per\\_cap & density\\\\\n",
       "  & <chr> & <chr> & <int> & <int> & <dbl> & <int> & <int> & <dbl> & <chr> & <chr> & <dbl> & <int> & <dbl> & <dbl> & <int> & <dbl>\\\\\n",
       "\\hline\n",
       "\t1 & USA & United States of America & 44408612 & 715179 & 416110353 & 233521350 & 203896677 & 125.712 & 2020-12-14 & 2021-10-15 & 61.57 &  334998398 & 82.9 & 0.96 & 62530 &  34.07\\\\\n",
       "\t2 & IND & India                    & 34081315 & 452290 & 951984373 & 683009792 & 268974581 &  68.984 & 2021-01-16 & 2021-10-11 & 54.17 & 1339330514 & 35.4 & 2.33 &  6700 & 407.43\\\\\n",
       "\t3 & BRA & Brazil                   & 21597949 & 601574 & 246737803 & 151223500 & 105063574 & 116.079 & 2021-01-17 & 2021-10-15 & 40.28 &  213445417 & 87.3 & 0.87 & 14652 &  25.06\\\\\n",
       "\t4 & GBR & The United Kingdom       &  8449169 & 138584 &  94376101 &  49186920 &  45073591 & 139.000 & 2020-12-21 & 2021-10-12 & 41.20 &   67081000 & 84.2 & 0.80 & 46659 & 275.36\\\\\n",
       "\t5 & RUS & Russian Federation       &  8027012 & 224310 &  94491689 &  49463056 &  45028077 &  64.700 & NA         & 2021-10-13 & 54.17 &  142320790 & 74.9 & 0.11 & 27044 &   8.32\\\\\n",
       "\t6 & TUR & Turkey                   &  7654277 &  67623 & 112360409 &  54497626 &  46903485 & 133.200 & NA         & 2021-10-13 & 58.33 &   82482383 & 76.6 & 1.11 & 28424 & 105.27\\\\\n",
       "\\end{tabular}\n"
      ],
      "text/markdown": [
       "\n",
       "A data.frame: 6 × 16\n",
       "\n",
       "| <!--/--> | country_code &lt;chr&gt; | country_name &lt;chr&gt; | total_cases &lt;int&gt; | total_deaths &lt;int&gt; | total_vaccinations &lt;dbl&gt; | vaccinated_1dose &lt;int&gt; | fully_vacccinated &lt;int&gt; | total_vaccinations_per100 &lt;dbl&gt; | first_vaccine_date &lt;chr&gt; | last_updated_date &lt;chr&gt; | stringency &lt;dbl&gt; | population &lt;int&gt; | urbanisation_rate &lt;dbl&gt; | urbanisation_yearly_change &lt;dbl&gt; | gdp_per_cap &lt;int&gt; | density &lt;dbl&gt; |\n",
       "|---|---|---|---|---|---|---|---|---|---|---|---|---|---|---|---|---|\n",
       "| 1 | USA | United States of America | 44408612 | 715179 | 416110353 | 233521350 | 203896677 | 125.712 | 2020-12-14 | 2021-10-15 | 61.57 |  334998398 | 82.9 | 0.96 | 62530 |  34.07 |\n",
       "| 2 | IND | India                    | 34081315 | 452290 | 951984373 | 683009792 | 268974581 |  68.984 | 2021-01-16 | 2021-10-11 | 54.17 | 1339330514 | 35.4 | 2.33 |  6700 | 407.43 |\n",
       "| 3 | BRA | Brazil                   | 21597949 | 601574 | 246737803 | 151223500 | 105063574 | 116.079 | 2021-01-17 | 2021-10-15 | 40.28 |  213445417 | 87.3 | 0.87 | 14652 |  25.06 |\n",
       "| 4 | GBR | The United Kingdom       |  8449169 | 138584 |  94376101 |  49186920 |  45073591 | 139.000 | 2020-12-21 | 2021-10-12 | 41.20 |   67081000 | 84.2 | 0.80 | 46659 | 275.36 |\n",
       "| 5 | RUS | Russian Federation       |  8027012 | 224310 |  94491689 |  49463056 |  45028077 |  64.700 | NA         | 2021-10-13 | 54.17 |  142320790 | 74.9 | 0.11 | 27044 |   8.32 |\n",
       "| 6 | TUR | Turkey                   |  7654277 |  67623 | 112360409 |  54497626 |  46903485 | 133.200 | NA         | 2021-10-13 | 58.33 |   82482383 | 76.6 | 1.11 | 28424 | 105.27 |\n",
       "\n"
      ],
      "text/plain": [
       "  country_code country_name             total_cases total_deaths\n",
       "1 USA          United States of America 44408612    715179      \n",
       "2 IND          India                    34081315    452290      \n",
       "3 BRA          Brazil                   21597949    601574      \n",
       "4 GBR          The United Kingdom        8449169    138584      \n",
       "5 RUS          Russian Federation        8027012    224310      \n",
       "6 TUR          Turkey                    7654277     67623      \n",
       "  total_vaccinations vaccinated_1dose fully_vacccinated\n",
       "1 416110353          233521350        203896677        \n",
       "2 951984373          683009792        268974581        \n",
       "3 246737803          151223500        105063574        \n",
       "4  94376101           49186920         45073591        \n",
       "5  94491689           49463056         45028077        \n",
       "6 112360409           54497626         46903485        \n",
       "  total_vaccinations_per100 first_vaccine_date last_updated_date stringency\n",
       "1 125.712                   2020-12-14         2021-10-15        61.57     \n",
       "2  68.984                   2021-01-16         2021-10-11        54.17     \n",
       "3 116.079                   2021-01-17         2021-10-15        40.28     \n",
       "4 139.000                   2020-12-21         2021-10-12        41.20     \n",
       "5  64.700                   NA                 2021-10-13        54.17     \n",
       "6 133.200                   NA                 2021-10-13        58.33     \n",
       "  population urbanisation_rate urbanisation_yearly_change gdp_per_cap density\n",
       "1  334998398 82.9              0.96                       62530        34.07 \n",
       "2 1339330514 35.4              2.33                        6700       407.43 \n",
       "3  213445417 87.3              0.87                       14652        25.06 \n",
       "4   67081000 84.2              0.80                       46659       275.36 \n",
       "5  142320790 74.9              0.11                       27044         8.32 \n",
       "6   82482383 76.6              1.11                       28424       105.27 "
      ]
     },
     "metadata": {},
     "output_type": "display_data"
    },
    {
     "data": {
      "text/html": [
       "<table class=\"dataframe\">\n",
       "<caption>A data.frame: 1 × 1</caption>\n",
       "<thead>\n",
       "\t<tr><th scope=col>n</th></tr>\n",
       "\t<tr><th scope=col>&lt;int&gt;</th></tr>\n",
       "</thead>\n",
       "<tbody>\n",
       "\t<tr><td>221</td></tr>\n",
       "</tbody>\n",
       "</table>\n"
      ],
      "text/latex": [
       "A data.frame: 1 × 1\n",
       "\\begin{tabular}{l}\n",
       " n\\\\\n",
       " <int>\\\\\n",
       "\\hline\n",
       "\t 221\\\\\n",
       "\\end{tabular}\n"
      ],
      "text/markdown": [
       "\n",
       "A data.frame: 1 × 1\n",
       "\n",
       "| n &lt;int&gt; |\n",
       "|---|\n",
       "| 221 |\n",
       "\n"
      ],
      "text/plain": [
       "  n  \n",
       "1 221"
      ]
     },
     "metadata": {},
     "output_type": "display_data"
    },
    {
     "data": {
      "text/plain": [
       " country_code       country_name        total_cases        total_deaths   \n",
       " Length:221         Length:221         Min.   :       0   Min.   :     0  \n",
       " Class :character   Class :character   1st Qu.:   10860   1st Qu.:   130  \n",
       " Mode  :character   Mode  :character   Median :  116665   Median :  1531  \n",
       "                                       Mean   : 1086427   Mean   : 22088  \n",
       "                                       3rd Qu.:  531648   3rd Qu.:  9510  \n",
       "                                       Max.   :44408612   Max.   :715179  \n",
       "                                                                          \n",
       " total_vaccinations  vaccinated_1dose    fully_vacccinated  \n",
       " Min.   :1.936e+03   Min.   :9.680e+02   Min.   :9.680e+02  \n",
       " 1st Qu.:2.183e+05   1st Qu.:1.337e+05   1st Qu.:8.982e+04  \n",
       " Median :1.790e+06   Median :8.820e+05   Median :7.085e+05  \n",
       " Mean   :3.041e+07   Mean   :1.757e+07   Mean   :1.304e+07  \n",
       " 3rd Qu.:1.094e+07   3rd Qu.:5.834e+06   3rd Qu.:4.746e+06  \n",
       " Max.   :2.228e+09   Max.   :1.155e+09   Max.   :1.015e+09  \n",
       " NA's   :6           NA's   :10          NA's   :9          \n",
       " total_vaccinations_per100 first_vaccine_date last_updated_date \n",
       " Min.   :  0.157           Length:221         Length:221        \n",
       " 1st Qu.: 29.512           Class :character   Class :character  \n",
       " Median : 85.300           Mode  :character   Mode  :character  \n",
       " Mean   : 82.505                                                \n",
       " 3rd Qu.:129.947                                                \n",
       " Max.   :243.288                                                \n",
       " NA's   :6                                                      \n",
       "   stringency      population        urbanisation_rate\n",
       " Min.   : 2.78   Min.   :1.647e+03   Min.   :  0.00   \n",
       " 1st Qu.:35.19   1st Qu.:5.895e+05   1st Qu.: 42.60   \n",
       " Median :46.76   Median :5.866e+06   Median : 62.60   \n",
       " Mean   :46.61   Mean   :3.496e+07   Mean   : 60.72   \n",
       " 3rd Qu.:57.18   3rd Qu.:2.361e+07   3rd Qu.: 81.10   \n",
       " Max.   :88.89   Max.   :1.398e+09   Max.   :100.00   \n",
       " NA's   :43                                           \n",
       " urbanisation_yearly_change  gdp_per_cap        density        \n",
       " Min.   :-1.230             Min.   :   752   Min.   :    0.03  \n",
       " 1st Qu.: 0.610             1st Qu.:  5213   1st Qu.:   34.07  \n",
       " Median : 1.340             Median : 14404   Median :   94.22  \n",
       " Mean   : 1.662             Mean   : 22968   Mean   :  322.94  \n",
       " 3rd Qu.: 2.590             3rd Qu.: 34518   3rd Qu.:  214.05  \n",
       " Max.   : 5.430             Max.   :139100   Max.   :15611.50  \n",
       "                                                               "
      ]
     },
     "metadata": {},
     "output_type": "display_data"
    }
   ],
   "source": [
    "# join the covid and population datasets into one dataframe\n",
    "Main_DataFrame1 <- inner_join(covid_data, population_data, by=c(\"country_code\")) %>%\n",
    "  select(country_code, country_name, total_cases, total_deaths, total_vaccinations, vaccinated_1dose, fully_vacccinated, \n",
    "        total_vaccinations_per100, first_vaccine_date, last_updated_date, stringency, population, urbanisation_rate, urbanisation_yearly_change,\n",
    "       gdp_per_cap,density) %>% as.data.frame()\n",
    "\n",
    "\n",
    "\n",
    "head(Main_DataFrame1)\n",
    "count(Main_DataFrame1)\n",
    "summary(Main_DataFrame1)"
   ]
  },
  {
   "cell_type": "code",
   "execution_count": 4,
   "id": "5b229ae2-4e95-48e8-a458-25b1aae6edc6",
   "metadata": {},
   "outputs": [
    {
     "name": "stderr",
     "output_type": "stream",
     "text": [
      "Warning message in countrycode_convert(sourcevar = sourcevar, origin = origin, destination = dest, :\n",
      "\"Some values were not matched unambiguously: Akrotiri, Ashmore and Cartier Islands, Baker Island, Clipperton Island, Coral Sea Islands, Dhekelia, Etorofu, Habomai, Kunashiri, and Shikotan Islands, Europa Island, Glorioso Islands, Howland Island, Jan Mayen, Jarvis Island, Johnston Atoll, Juan de Nova Island, Kingman Reef, Kosovo, Midway Islands, Navassa Island, Palmyra Atoll, Paracel Islands, Saint Martin, Spratly Islands, Tromelin Island, Wake Island, World\n",
      "\"\n"
     ]
    },
    {
     "data": {
      "text/html": [
       "<table class=\"dataframe\">\n",
       "<caption>A data.frame: 6 × 5</caption>\n",
       "<thead>\n",
       "\t<tr><th></th><th scope=col>fips</th><th scope=col>avg_temperature</th><th scope=col>precipitation</th><th scope=col>country_code</th><th scope=col>country_name</th></tr>\n",
       "\t<tr><th></th><th scope=col>&lt;chr&gt;</th><th scope=col>&lt;dbl&gt;</th><th scope=col>&lt;dbl&gt;</th><th scope=col>&lt;chr&gt;</th><th scope=col>&lt;chr&gt;</th></tr>\n",
       "</thead>\n",
       "<tbody>\n",
       "\t<tr><th scope=row>1</th><td>AE</td><td>30.60948</td><td> 0.0000000</td><td>ARE</td><td>United Arab Emirates</td></tr>\n",
       "\t<tr><th scope=row>2</th><td>AF</td><td>19.30219</td><td> 3.3200000</td><td>AFG</td><td>Afghanistan         </td></tr>\n",
       "\t<tr><th scope=row>3</th><td>AG</td><td>22.93812</td><td> 0.7833752</td><td>DZA</td><td>Algeria             </td></tr>\n",
       "\t<tr><th scope=row>4</th><td>AJ</td><td>17.32671</td><td>10.9521967</td><td>AZE</td><td>Azerbaijan          </td></tr>\n",
       "\t<tr><th scope=row>5</th><td>AL</td><td>17.23447</td><td>        NA</td><td>ALB</td><td>Albania             </td></tr>\n",
       "\t<tr><th scope=row>6</th><td>AM</td><td>10.79957</td><td> 3.0507692</td><td>ARM</td><td>Armenia             </td></tr>\n",
       "</tbody>\n",
       "</table>\n"
      ],
      "text/latex": [
       "A data.frame: 6 × 5\n",
       "\\begin{tabular}{r|lllll}\n",
       "  & fips & avg\\_temperature & precipitation & country\\_code & country\\_name\\\\\n",
       "  & <chr> & <dbl> & <dbl> & <chr> & <chr>\\\\\n",
       "\\hline\n",
       "\t1 & AE & 30.60948 &  0.0000000 & ARE & United Arab Emirates\\\\\n",
       "\t2 & AF & 19.30219 &  3.3200000 & AFG & Afghanistan         \\\\\n",
       "\t3 & AG & 22.93812 &  0.7833752 & DZA & Algeria             \\\\\n",
       "\t4 & AJ & 17.32671 & 10.9521967 & AZE & Azerbaijan          \\\\\n",
       "\t5 & AL & 17.23447 &         NA & ALB & Albania             \\\\\n",
       "\t6 & AM & 10.79957 &  3.0507692 & ARM & Armenia             \\\\\n",
       "\\end{tabular}\n"
      ],
      "text/markdown": [
       "\n",
       "A data.frame: 6 × 5\n",
       "\n",
       "| <!--/--> | fips &lt;chr&gt; | avg_temperature &lt;dbl&gt; | precipitation &lt;dbl&gt; | country_code &lt;chr&gt; | country_name &lt;chr&gt; |\n",
       "|---|---|---|---|---|---|\n",
       "| 1 | AE | 30.60948 |  0.0000000 | ARE | United Arab Emirates |\n",
       "| 2 | AF | 19.30219 |  3.3200000 | AFG | Afghanistan          |\n",
       "| 3 | AG | 22.93812 |  0.7833752 | DZA | Algeria              |\n",
       "| 4 | AJ | 17.32671 | 10.9521967 | AZE | Azerbaijan           |\n",
       "| 5 | AL | 17.23447 |         NA | ALB | Albania              |\n",
       "| 6 | AM | 10.79957 |  3.0507692 | ARM | Armenia              |\n",
       "\n"
      ],
      "text/plain": [
       "  fips avg_temperature precipitation country_code country_name        \n",
       "1 AE   30.60948         0.0000000    ARE          United Arab Emirates\n",
       "2 AF   19.30219         3.3200000    AFG          Afghanistan         \n",
       "3 AG   22.93812         0.7833752    DZA          Algeria             \n",
       "4 AJ   17.32671        10.9521967    AZE          Azerbaijan          \n",
       "5 AL   17.23447                NA    ALB          Albania             \n",
       "6 AM   10.79957         3.0507692    ARM          Armenia             "
      ]
     },
     "metadata": {},
     "output_type": "display_data"
    },
    {
     "data": {
      "text/plain": [
       "     fips           avg_temperature  precipitation    country_code      \n",
       " Length:279         Min.   :-22.06   Min.   : 0.000   Length:279        \n",
       " Class :character   1st Qu.: 14.59   1st Qu.: 2.195   Class :character  \n",
       " Mode  :character   Median : 23.71   Median : 4.580   Mode  :character  \n",
       "                    Mean   : 20.52   Mean   : 5.560                     \n",
       "                    3rd Qu.: 27.15   3rd Qu.: 8.537                     \n",
       "                    Max.   : 30.95   Max.   :20.825                     \n",
       "                    NA's   :88       NA's   :101                        \n",
       " country_name      \n",
       " Length:279        \n",
       " Class :character  \n",
       " Mode  :character  \n",
       "                   \n",
       "                   \n",
       "                   \n",
       "                   "
      ]
     },
     "metadata": {},
     "output_type": "display_data"
    },
    {
     "data": {
      "text/html": [
       "<table class=\"dataframe\">\n",
       "<caption>A data.frame: 6 × 5</caption>\n",
       "<thead>\n",
       "\t<tr><th></th><th scope=col>fips</th><th scope=col>avg_temperature</th><th scope=col>precipitation</th><th scope=col>country_code</th><th scope=col>country_name</th></tr>\n",
       "\t<tr><th></th><th scope=col>&lt;chr&gt;</th><th scope=col>&lt;dbl&gt;</th><th scope=col>&lt;dbl&gt;</th><th scope=col>&lt;chr&gt;</th><th scope=col>&lt;chr&gt;</th></tr>\n",
       "</thead>\n",
       "<tbody>\n",
       "\t<tr><th scope=row>1</th><td>AE</td><td>30.61</td><td> 0.00</td><td>ARE</td><td>United Arab Emirates</td></tr>\n",
       "\t<tr><th scope=row>2</th><td>AF</td><td>19.30</td><td> 3.32</td><td>AFG</td><td>Afghanistan         </td></tr>\n",
       "\t<tr><th scope=row>3</th><td>AG</td><td>22.94</td><td> 0.78</td><td>DZA</td><td>Algeria             </td></tr>\n",
       "\t<tr><th scope=row>4</th><td>AJ</td><td>17.33</td><td>10.95</td><td>AZE</td><td>Azerbaijan          </td></tr>\n",
       "\t<tr><th scope=row>5</th><td>AL</td><td>17.23</td><td>   NA</td><td>ALB</td><td>Albania             </td></tr>\n",
       "\t<tr><th scope=row>6</th><td>AM</td><td>10.80</td><td> 3.05</td><td>ARM</td><td>Armenia             </td></tr>\n",
       "</tbody>\n",
       "</table>\n"
      ],
      "text/latex": [
       "A data.frame: 6 × 5\n",
       "\\begin{tabular}{r|lllll}\n",
       "  & fips & avg\\_temperature & precipitation & country\\_code & country\\_name\\\\\n",
       "  & <chr> & <dbl> & <dbl> & <chr> & <chr>\\\\\n",
       "\\hline\n",
       "\t1 & AE & 30.61 &  0.00 & ARE & United Arab Emirates\\\\\n",
       "\t2 & AF & 19.30 &  3.32 & AFG & Afghanistan         \\\\\n",
       "\t3 & AG & 22.94 &  0.78 & DZA & Algeria             \\\\\n",
       "\t4 & AJ & 17.33 & 10.95 & AZE & Azerbaijan          \\\\\n",
       "\t5 & AL & 17.23 &    NA & ALB & Albania             \\\\\n",
       "\t6 & AM & 10.80 &  3.05 & ARM & Armenia             \\\\\n",
       "\\end{tabular}\n"
      ],
      "text/markdown": [
       "\n",
       "A data.frame: 6 × 5\n",
       "\n",
       "| <!--/--> | fips &lt;chr&gt; | avg_temperature &lt;dbl&gt; | precipitation &lt;dbl&gt; | country_code &lt;chr&gt; | country_name &lt;chr&gt; |\n",
       "|---|---|---|---|---|---|\n",
       "| 1 | AE | 30.61 |  0.00 | ARE | United Arab Emirates |\n",
       "| 2 | AF | 19.30 |  3.32 | AFG | Afghanistan          |\n",
       "| 3 | AG | 22.94 |  0.78 | DZA | Algeria              |\n",
       "| 4 | AJ | 17.33 | 10.95 | AZE | Azerbaijan           |\n",
       "| 5 | AL | 17.23 |    NA | ALB | Albania              |\n",
       "| 6 | AM | 10.80 |  3.05 | ARM | Armenia              |\n",
       "\n"
      ],
      "text/plain": [
       "  fips avg_temperature precipitation country_code country_name        \n",
       "1 AE   30.61            0.00         ARE          United Arab Emirates\n",
       "2 AF   19.30            3.32         AFG          Afghanistan         \n",
       "3 AG   22.94            0.78         DZA          Algeria             \n",
       "4 AJ   17.33           10.95         AZE          Azerbaijan          \n",
       "5 AL   17.23              NA         ALB          Albania             \n",
       "6 AM   10.80            3.05         ARM          Armenia             "
      ]
     },
     "metadata": {},
     "output_type": "display_data"
    }
   ],
   "source": [
    "#Change the column name in climate_data from Name to country_name\n",
    "colnames(climate_data)[colnames(climate_data) == \"iso3166\"] <- \"country_code\"\n",
    "colnames(climate_data)[colnames(climate_data) == \"Name\"] <- \"country_name\"\n",
    "colnames(climate_data)[colnames(climate_data) == \"tavg\"] <- \"avg_temperature\"\n",
    "colnames(climate_data)[colnames(climate_data) == \"prcp\"] <- \"precipitation\"\n",
    "climate_data$country_code = countrycode(climate_data$country_name, \"country.name\", \"iso3c\")\n",
    "\n",
    "head(climate_data)\n",
    "summary(climate_data)\n",
    "climate_data1 <- climate_data %>% mutate_if(is.numeric, round, digits = 2)\n",
    "head(climate_data1)"
   ]
  },
  {
   "cell_type": "code",
   "execution_count": 5,
   "id": "38af2d42-92f6-46b3-9a96-a3db71361ae0",
   "metadata": {},
   "outputs": [
    {
     "data": {
      "text/plain": [
       "     fips           avg_temperature  precipitation    country_code      \n",
       " Length:178         Min.   :-22.06   Min.   : 0.000   Length:178        \n",
       " Class :character   1st Qu.: 14.06   1st Qu.: 2.195   Class :character  \n",
       " Mode  :character   Median : 23.38   Median : 4.580   Mode  :character  \n",
       "                    Mean   : 20.27   Mean   : 5.560                     \n",
       "                    3rd Qu.: 27.15   3rd Qu.: 8.537                     \n",
       "                    Max.   : 30.77   Max.   :20.820                     \n",
       "                    NA's   :4                                           \n",
       " country_name      \n",
       " Length:178        \n",
       " Class :character  \n",
       " Mode  :character  \n",
       "                   \n",
       "                   \n",
       "                   \n",
       "                   "
      ]
     },
     "metadata": {},
     "output_type": "display_data"
    },
    {
     "data": {
      "text/html": [
       "<table class=\"dataframe\">\n",
       "<caption>A data.frame: 1 × 1</caption>\n",
       "<thead>\n",
       "\t<tr><th scope=col>n</th></tr>\n",
       "\t<tr><th scope=col>&lt;int&gt;</th></tr>\n",
       "</thead>\n",
       "<tbody>\n",
       "\t<tr><td>178</td></tr>\n",
       "</tbody>\n",
       "</table>\n"
      ],
      "text/latex": [
       "A data.frame: 1 × 1\n",
       "\\begin{tabular}{l}\n",
       " n\\\\\n",
       " <int>\\\\\n",
       "\\hline\n",
       "\t 178\\\\\n",
       "\\end{tabular}\n"
      ],
      "text/markdown": [
       "\n",
       "A data.frame: 1 × 1\n",
       "\n",
       "| n &lt;int&gt; |\n",
       "|---|\n",
       "| 178 |\n",
       "\n"
      ],
      "text/plain": [
       "  n  \n",
       "1 178"
      ]
     },
     "metadata": {},
     "output_type": "display_data"
    }
   ],
   "source": [
    "Main_DataFrame2 = filter(climate_data1, !is.na(climate_data1$precipitation))\n",
    "summary(Main_DataFrame2)\n",
    "count(Main_DataFrame2)"
   ]
  },
  {
   "cell_type": "code",
   "execution_count": 6,
   "id": "88457c79-fd23-46ba-8f46-394e90eaf64e",
   "metadata": {},
   "outputs": [
    {
     "data": {
      "text/html": [
       "<table class=\"dataframe\">\n",
       "<caption>A data.frame: 6 × 18</caption>\n",
       "<thead>\n",
       "\t<tr><th></th><th scope=col>country_code</th><th scope=col>country_name.x</th><th scope=col>population</th><th scope=col>total_cases</th><th scope=col>total_deaths</th><th scope=col>total_vaccinations</th><th scope=col>vaccinated_1dose</th><th scope=col>fully_vacccinated</th><th scope=col>total_vaccinations_per100</th><th scope=col>first_vaccine_date</th><th scope=col>last_updated_date</th><th scope=col>stringency</th><th scope=col>urbanisation_rate</th><th scope=col>urbanisation_yearly_change</th><th scope=col>gdp_per_cap</th><th scope=col>density</th><th scope=col>avg_temperature</th><th scope=col>precipitation</th></tr>\n",
       "\t<tr><th></th><th scope=col>&lt;chr&gt;</th><th scope=col>&lt;chr&gt;</th><th scope=col>&lt;int&gt;</th><th scope=col>&lt;int&gt;</th><th scope=col>&lt;int&gt;</th><th scope=col>&lt;dbl&gt;</th><th scope=col>&lt;int&gt;</th><th scope=col>&lt;int&gt;</th><th scope=col>&lt;dbl&gt;</th><th scope=col>&lt;chr&gt;</th><th scope=col>&lt;chr&gt;</th><th scope=col>&lt;dbl&gt;</th><th scope=col>&lt;dbl&gt;</th><th scope=col>&lt;dbl&gt;</th><th scope=col>&lt;int&gt;</th><th scope=col>&lt;dbl&gt;</th><th scope=col>&lt;dbl&gt;</th><th scope=col>&lt;dbl&gt;</th></tr>\n",
       "</thead>\n",
       "<tbody>\n",
       "\t<tr><th scope=row>1</th><td>USA</td><td>United States of America</td><td> 334998398</td><td>44408612</td><td>715179</td><td>416110353</td><td>233521350</td><td>203896677</td><td>125.712</td><td>2020-12-14</td><td>2021-10-15</td><td>61.57</td><td>82.9</td><td>0.96</td><td>62530</td><td> 34.07</td><td>10.47</td><td> 2.99</td></tr>\n",
       "\t<tr><th scope=row>2</th><td>IND</td><td>India                   </td><td>1339330514</td><td>34081315</td><td>452290</td><td>951984373</td><td>683009792</td><td>268974581</td><td> 68.984</td><td>2021-01-16</td><td>2021-10-11</td><td>54.17</td><td>35.4</td><td>2.33</td><td> 6700</td><td>407.43</td><td>26.99</td><td>11.19</td></tr>\n",
       "\t<tr><th scope=row>3</th><td>BRA</td><td>Brazil                  </td><td> 213445417</td><td>21597949</td><td>601574</td><td>246737803</td><td>151223500</td><td>105063574</td><td>116.079</td><td>2021-01-17</td><td>2021-10-15</td><td>40.28</td><td>87.3</td><td>0.87</td><td>14652</td><td> 25.06</td><td>24.47</td><td> 6.04</td></tr>\n",
       "\t<tr><th scope=row>4</th><td>GBR</td><td>The United Kingdom      </td><td>  67081000</td><td> 8449169</td><td>138584</td><td> 94376101</td><td> 49186920</td><td> 45073591</td><td>139.000</td><td>2020-12-21</td><td>2021-10-12</td><td>41.20</td><td>84.2</td><td>0.80</td><td>46659</td><td>275.36</td><td>10.14</td><td> 2.35</td></tr>\n",
       "\t<tr><th scope=row>5</th><td>RUS</td><td>Russian Federation      </td><td> 142320790</td><td> 8027012</td><td>224310</td><td> 94491689</td><td> 49463056</td><td> 45028077</td><td> 64.700</td><td>NA        </td><td>2021-10-13</td><td>54.17</td><td>74.9</td><td>0.11</td><td>27044</td><td>  8.32</td><td> 2.01</td><td> 1.62</td></tr>\n",
       "\t<tr><th scope=row>6</th><td>TUR</td><td>Turkey                  </td><td>  82482383</td><td> 7654277</td><td> 67623</td><td>112360409</td><td> 54497626</td><td> 46903485</td><td>133.200</td><td>NA        </td><td>2021-10-13</td><td>58.33</td><td>76.6</td><td>1.11</td><td>28424</td><td>105.27</td><td>17.05</td><td> 2.68</td></tr>\n",
       "</tbody>\n",
       "</table>\n"
      ],
      "text/latex": [
       "A data.frame: 6 × 18\n",
       "\\begin{tabular}{r|llllllllllllllllll}\n",
       "  & country\\_code & country\\_name.x & population & total\\_cases & total\\_deaths & total\\_vaccinations & vaccinated\\_1dose & fully\\_vacccinated & total\\_vaccinations\\_per100 & first\\_vaccine\\_date & last\\_updated\\_date & stringency & urbanisation\\_rate & urbanisation\\_yearly\\_change & gdp\\_per\\_cap & density & avg\\_temperature & precipitation\\\\\n",
       "  & <chr> & <chr> & <int> & <int> & <int> & <dbl> & <int> & <int> & <dbl> & <chr> & <chr> & <dbl> & <dbl> & <dbl> & <int> & <dbl> & <dbl> & <dbl>\\\\\n",
       "\\hline\n",
       "\t1 & USA & United States of America &  334998398 & 44408612 & 715179 & 416110353 & 233521350 & 203896677 & 125.712 & 2020-12-14 & 2021-10-15 & 61.57 & 82.9 & 0.96 & 62530 &  34.07 & 10.47 &  2.99\\\\\n",
       "\t2 & IND & India                    & 1339330514 & 34081315 & 452290 & 951984373 & 683009792 & 268974581 &  68.984 & 2021-01-16 & 2021-10-11 & 54.17 & 35.4 & 2.33 &  6700 & 407.43 & 26.99 & 11.19\\\\\n",
       "\t3 & BRA & Brazil                   &  213445417 & 21597949 & 601574 & 246737803 & 151223500 & 105063574 & 116.079 & 2021-01-17 & 2021-10-15 & 40.28 & 87.3 & 0.87 & 14652 &  25.06 & 24.47 &  6.04\\\\\n",
       "\t4 & GBR & The United Kingdom       &   67081000 &  8449169 & 138584 &  94376101 &  49186920 &  45073591 & 139.000 & 2020-12-21 & 2021-10-12 & 41.20 & 84.2 & 0.80 & 46659 & 275.36 & 10.14 &  2.35\\\\\n",
       "\t5 & RUS & Russian Federation       &  142320790 &  8027012 & 224310 &  94491689 &  49463056 &  45028077 &  64.700 & NA         & 2021-10-13 & 54.17 & 74.9 & 0.11 & 27044 &   8.32 &  2.01 &  1.62\\\\\n",
       "\t6 & TUR & Turkey                   &   82482383 &  7654277 &  67623 & 112360409 &  54497626 &  46903485 & 133.200 & NA         & 2021-10-13 & 58.33 & 76.6 & 1.11 & 28424 & 105.27 & 17.05 &  2.68\\\\\n",
       "\\end{tabular}\n"
      ],
      "text/markdown": [
       "\n",
       "A data.frame: 6 × 18\n",
       "\n",
       "| <!--/--> | country_code &lt;chr&gt; | country_name.x &lt;chr&gt; | population &lt;int&gt; | total_cases &lt;int&gt; | total_deaths &lt;int&gt; | total_vaccinations &lt;dbl&gt; | vaccinated_1dose &lt;int&gt; | fully_vacccinated &lt;int&gt; | total_vaccinations_per100 &lt;dbl&gt; | first_vaccine_date &lt;chr&gt; | last_updated_date &lt;chr&gt; | stringency &lt;dbl&gt; | urbanisation_rate &lt;dbl&gt; | urbanisation_yearly_change &lt;dbl&gt; | gdp_per_cap &lt;int&gt; | density &lt;dbl&gt; | avg_temperature &lt;dbl&gt; | precipitation &lt;dbl&gt; |\n",
       "|---|---|---|---|---|---|---|---|---|---|---|---|---|---|---|---|---|---|---|\n",
       "| 1 | USA | United States of America |  334998398 | 44408612 | 715179 | 416110353 | 233521350 | 203896677 | 125.712 | 2020-12-14 | 2021-10-15 | 61.57 | 82.9 | 0.96 | 62530 |  34.07 | 10.47 |  2.99 |\n",
       "| 2 | IND | India                    | 1339330514 | 34081315 | 452290 | 951984373 | 683009792 | 268974581 |  68.984 | 2021-01-16 | 2021-10-11 | 54.17 | 35.4 | 2.33 |  6700 | 407.43 | 26.99 | 11.19 |\n",
       "| 3 | BRA | Brazil                   |  213445417 | 21597949 | 601574 | 246737803 | 151223500 | 105063574 | 116.079 | 2021-01-17 | 2021-10-15 | 40.28 | 87.3 | 0.87 | 14652 |  25.06 | 24.47 |  6.04 |\n",
       "| 4 | GBR | The United Kingdom       |   67081000 |  8449169 | 138584 |  94376101 |  49186920 |  45073591 | 139.000 | 2020-12-21 | 2021-10-12 | 41.20 | 84.2 | 0.80 | 46659 | 275.36 | 10.14 |  2.35 |\n",
       "| 5 | RUS | Russian Federation       |  142320790 |  8027012 | 224310 |  94491689 |  49463056 |  45028077 |  64.700 | NA         | 2021-10-13 | 54.17 | 74.9 | 0.11 | 27044 |   8.32 |  2.01 |  1.62 |\n",
       "| 6 | TUR | Turkey                   |   82482383 |  7654277 |  67623 | 112360409 |  54497626 |  46903485 | 133.200 | NA         | 2021-10-13 | 58.33 | 76.6 | 1.11 | 28424 | 105.27 | 17.05 |  2.68 |\n",
       "\n"
      ],
      "text/plain": [
       "  country_code country_name.x           population total_cases total_deaths\n",
       "1 USA          United States of America  334998398 44408612    715179      \n",
       "2 IND          India                    1339330514 34081315    452290      \n",
       "3 BRA          Brazil                    213445417 21597949    601574      \n",
       "4 GBR          The United Kingdom         67081000  8449169    138584      \n",
       "5 RUS          Russian Federation        142320790  8027012    224310      \n",
       "6 TUR          Turkey                     82482383  7654277     67623      \n",
       "  total_vaccinations vaccinated_1dose fully_vacccinated\n",
       "1 416110353          233521350        203896677        \n",
       "2 951984373          683009792        268974581        \n",
       "3 246737803          151223500        105063574        \n",
       "4  94376101           49186920         45073591        \n",
       "5  94491689           49463056         45028077        \n",
       "6 112360409           54497626         46903485        \n",
       "  total_vaccinations_per100 first_vaccine_date last_updated_date stringency\n",
       "1 125.712                   2020-12-14         2021-10-15        61.57     \n",
       "2  68.984                   2021-01-16         2021-10-11        54.17     \n",
       "3 116.079                   2021-01-17         2021-10-15        40.28     \n",
       "4 139.000                   2020-12-21         2021-10-12        41.20     \n",
       "5  64.700                   NA                 2021-10-13        54.17     \n",
       "6 133.200                   NA                 2021-10-13        58.33     \n",
       "  urbanisation_rate urbanisation_yearly_change gdp_per_cap density\n",
       "1 82.9              0.96                       62530        34.07 \n",
       "2 35.4              2.33                        6700       407.43 \n",
       "3 87.3              0.87                       14652        25.06 \n",
       "4 84.2              0.80                       46659       275.36 \n",
       "5 74.9              0.11                       27044         8.32 \n",
       "6 76.6              1.11                       28424       105.27 \n",
       "  avg_temperature precipitation\n",
       "1 10.47            2.99        \n",
       "2 26.99           11.19        \n",
       "3 24.47            6.04        \n",
       "4 10.14            2.35        \n",
       "5  2.01            1.62        \n",
       "6 17.05            2.68        "
      ]
     },
     "metadata": {},
     "output_type": "display_data"
    },
    {
     "data": {
      "text/html": [
       "<table class=\"dataframe\">\n",
       "<caption>A data.frame: 1 × 1</caption>\n",
       "<thead>\n",
       "\t<tr><th scope=col>n</th></tr>\n",
       "\t<tr><th scope=col>&lt;int&gt;</th></tr>\n",
       "</thead>\n",
       "<tbody>\n",
       "\t<tr><td>222</td></tr>\n",
       "</tbody>\n",
       "</table>\n"
      ],
      "text/latex": [
       "A data.frame: 1 × 1\n",
       "\\begin{tabular}{l}\n",
       " n\\\\\n",
       " <int>\\\\\n",
       "\\hline\n",
       "\t 222\\\\\n",
       "\\end{tabular}\n"
      ],
      "text/markdown": [
       "\n",
       "A data.frame: 1 × 1\n",
       "\n",
       "| n &lt;int&gt; |\n",
       "|---|\n",
       "| 222 |\n",
       "\n"
      ],
      "text/plain": [
       "  n  \n",
       "1 222"
      ]
     },
     "metadata": {},
     "output_type": "display_data"
    },
    {
     "data": {
      "text/plain": [
       " country_code       country_name.x       population         total_cases      \n",
       " Length:222         Length:222         Min.   :1.647e+03   Min.   :       0  \n",
       " Class :character   Class :character   1st Qu.:5.939e+05   1st Qu.:   11014  \n",
       " Mode  :character   Mode  :character   Median :5.880e+06   Median :  119514  \n",
       "                                       Mean   :3.506e+07   Mean   : 1083731  \n",
       "                                       3rd Qu.:2.526e+07   3rd Qu.:  526754  \n",
       "                                       Max.   :1.398e+09   Max.   :44408612  \n",
       "                                                                             \n",
       "  total_deaths    total_vaccinations  vaccinated_1dose    fully_vacccinated  \n",
       " Min.   :     0   Min.   :1.936e+03   Min.   :9.680e+02   Min.   :9.680e+02  \n",
       " 1st Qu.:   130   1st Qu.:2.232e+05   1st Qu.:1.337e+05   1st Qu.:9.043e+04  \n",
       " Median :  1540   Median :1.793e+06   Median :8.942e+05   Median :7.116e+05  \n",
       " Mean   : 22071   Mean   :3.032e+07   Mean   :1.752e+07   Mean   :1.300e+07  \n",
       " 3rd Qu.:  9926   3rd Qu.:1.105e+07   3rd Qu.:5.919e+06   3rd Qu.:4.644e+06  \n",
       " Max.   :715179   Max.   :2.228e+09   Max.   :1.155e+09   Max.   :1.015e+09  \n",
       "                  NA's   :6           NA's   :10          NA's   :9          \n",
       " total_vaccinations_per100 first_vaccine_date last_updated_date \n",
       " Min.   :  0.157           Length:222         Length:222        \n",
       " 1st Qu.: 29.304           Class :character   Class :character  \n",
       " Median : 85.136           Mode  :character   Mode  :character  \n",
       " Mean   : 82.227                                                \n",
       " 3rd Qu.:129.924                                                \n",
       " Max.   :243.288                                                \n",
       " NA's   :6                                                      \n",
       "   stringency    urbanisation_rate urbanisation_yearly_change  gdp_per_cap    \n",
       " Min.   : 2.78   Min.   :  0.00    Min.   :-1.230             Min.   :   752  \n",
       " 1st Qu.:35.19   1st Qu.: 42.15    1st Qu.: 0.620             1st Qu.:  5201  \n",
       " Median :47.22   Median : 62.55    Median : 1.345             Median : 14184  \n",
       " Mean   :46.74   Mean   : 60.58    Mean   : 1.663             Mean   : 22888  \n",
       " 3rd Qu.:57.87   3rd Qu.: 81.08    3rd Qu.: 2.580             3rd Qu.: 34439  \n",
       " Max.   :88.89   Max.   :100.00    Max.   : 5.430             Max.   :139100  \n",
       " NA's   :43                                                                   \n",
       "    density         avg_temperature precipitation   \n",
       " Min.   :    0.03   Min.   :-4.15   Min.   : 0.000  \n",
       " 1st Qu.:   34.37   1st Qu.:14.13   1st Qu.: 2.355  \n",
       " Median :   93.87   Median :23.56   Median : 4.905  \n",
       " Mean   :  321.87   Mean   :20.67   Mean   : 5.723  \n",
       " 3rd Qu.:  213.50   3rd Qu.:27.20   3rd Qu.: 8.650  \n",
       " Max.   :15611.50   Max.   :30.77   Max.   :20.820  \n",
       "                    NA's   :59      NA's   :56      "
      ]
     },
     "metadata": {},
     "output_type": "display_data"
    }
   ],
   "source": [
    "# join two data frames into one data frame\n",
    "Main_DataFrame <- left_join(Main_DataFrame1, Main_DataFrame2, by = c(\"country_code\")) %>%\n",
    "  select(country_code, country_name.x, population, total_cases, total_deaths, total_vaccinations, vaccinated_1dose, fully_vacccinated, \n",
    "         total_vaccinations_per100,first_vaccine_date, last_updated_date, stringency, urbanisation_rate, urbanisation_yearly_change, gdp_per_cap, \n",
    "         density,avg_temperature,precipitation) %>%\n",
    "  as.data.frame()\n",
    "\n",
    "head(Main_DataFrame)\n",
    "count(Main_DataFrame)\n",
    "summary(Main_DataFrame)\n"
   ]
  },
  {
   "cell_type": "code",
   "execution_count": 7,
   "id": "29357d4a-f7c5-4cb0-87dc-1059d8cecf7a",
   "metadata": {},
   "outputs": [
    {
     "data": {
      "text/html": [
       "<table class=\"dataframe\">\n",
       "<caption>A data.frame: 6 × 20</caption>\n",
       "<thead>\n",
       "\t<tr><th></th><th scope=col>country_code</th><th scope=col>country_name</th><th scope=col>population</th><th scope=col>total_cases</th><th scope=col>total_deaths</th><th scope=col>total_vaccinations</th><th scope=col>vaccinated_1dose</th><th scope=col>fully_vacccinated</th><th scope=col>first_vaccine_date</th><th scope=col>last_updated_date</th><th scope=col>stringency</th><th scope=col>urbanisation_rate</th><th scope=col>urbanisation_yearly_change</th><th scope=col>gdp_per_cap</th><th scope=col>density</th><th scope=col>avg_temperature</th><th scope=col>precipitation</th><th scope=col>Infection_Rate_per_1000</th><th scope=col>Deaths_per_1000</th><th scope=col>total_vaccinations_per_1000</th></tr>\n",
       "\t<tr><th></th><th scope=col>&lt;chr&gt;</th><th scope=col>&lt;chr&gt;</th><th scope=col>&lt;int&gt;</th><th scope=col>&lt;int&gt;</th><th scope=col>&lt;int&gt;</th><th scope=col>&lt;dbl&gt;</th><th scope=col>&lt;int&gt;</th><th scope=col>&lt;int&gt;</th><th scope=col>&lt;chr&gt;</th><th scope=col>&lt;chr&gt;</th><th scope=col>&lt;dbl&gt;</th><th scope=col>&lt;dbl&gt;</th><th scope=col>&lt;dbl&gt;</th><th scope=col>&lt;int&gt;</th><th scope=col>&lt;dbl&gt;</th><th scope=col>&lt;dbl&gt;</th><th scope=col>&lt;dbl&gt;</th><th scope=col>&lt;dbl&gt;</th><th scope=col>&lt;dbl&gt;</th><th scope=col>&lt;dbl&gt;</th></tr>\n",
       "</thead>\n",
       "<tbody>\n",
       "\t<tr><th scope=row>1</th><td>USA</td><td>United States of America</td><td> 334998398</td><td>44408612</td><td>715179</td><td>416110353</td><td>233521350</td><td>203896677</td><td>2020-12-14</td><td>2021-10-15</td><td>61.57</td><td>82.9</td><td>0.96</td><td>62530</td><td> 34.07</td><td>10.47</td><td> 2.99</td><td>132.56</td><td>2.13</td><td>1242</td></tr>\n",
       "\t<tr><th scope=row>2</th><td>IND</td><td>India                   </td><td>1339330514</td><td>34081315</td><td>452290</td><td>951984373</td><td>683009792</td><td>268974581</td><td>2021-01-16</td><td>2021-10-11</td><td>54.17</td><td>35.4</td><td>2.33</td><td> 6700</td><td>407.43</td><td>26.99</td><td>11.19</td><td> 25.45</td><td>0.34</td><td> 711</td></tr>\n",
       "\t<tr><th scope=row>3</th><td>BRA</td><td>Brazil                  </td><td> 213445417</td><td>21597949</td><td>601574</td><td>246737803</td><td>151223500</td><td>105063574</td><td>2021-01-17</td><td>2021-10-15</td><td>40.28</td><td>87.3</td><td>0.87</td><td>14652</td><td> 25.06</td><td>24.47</td><td> 6.04</td><td>101.19</td><td>2.82</td><td>1156</td></tr>\n",
       "\t<tr><th scope=row>4</th><td>GBR</td><td>The United Kingdom      </td><td>  67081000</td><td> 8449169</td><td>138584</td><td> 94376101</td><td> 49186920</td><td> 45073591</td><td>2020-12-21</td><td>2021-10-12</td><td>41.20</td><td>84.2</td><td>0.80</td><td>46659</td><td>275.36</td><td>10.14</td><td> 2.35</td><td>125.95</td><td>2.07</td><td>1407</td></tr>\n",
       "\t<tr><th scope=row>5</th><td>RUS</td><td>Russian Federation      </td><td> 142320790</td><td> 8027012</td><td>224310</td><td> 94491689</td><td> 49463056</td><td> 45028077</td><td>NA        </td><td>2021-10-13</td><td>54.17</td><td>74.9</td><td>0.11</td><td>27044</td><td>  8.32</td><td> 2.01</td><td> 1.62</td><td> 56.40</td><td>1.58</td><td> 664</td></tr>\n",
       "\t<tr><th scope=row>6</th><td>TUR</td><td>Turkey                  </td><td>  82482383</td><td> 7654277</td><td> 67623</td><td>112360409</td><td> 54497626</td><td> 46903485</td><td>NA        </td><td>2021-10-13</td><td>58.33</td><td>76.6</td><td>1.11</td><td>28424</td><td>105.27</td><td>17.05</td><td> 2.68</td><td> 92.80</td><td>0.82</td><td>1362</td></tr>\n",
       "</tbody>\n",
       "</table>\n"
      ],
      "text/latex": [
       "A data.frame: 6 × 20\n",
       "\\begin{tabular}{r|llllllllllllllllllll}\n",
       "  & country\\_code & country\\_name & population & total\\_cases & total\\_deaths & total\\_vaccinations & vaccinated\\_1dose & fully\\_vacccinated & first\\_vaccine\\_date & last\\_updated\\_date & stringency & urbanisation\\_rate & urbanisation\\_yearly\\_change & gdp\\_per\\_cap & density & avg\\_temperature & precipitation & Infection\\_Rate\\_per\\_1000 & Deaths\\_per\\_1000 & total\\_vaccinations\\_per\\_1000\\\\\n",
       "  & <chr> & <chr> & <int> & <int> & <int> & <dbl> & <int> & <int> & <chr> & <chr> & <dbl> & <dbl> & <dbl> & <int> & <dbl> & <dbl> & <dbl> & <dbl> & <dbl> & <dbl>\\\\\n",
       "\\hline\n",
       "\t1 & USA & United States of America &  334998398 & 44408612 & 715179 & 416110353 & 233521350 & 203896677 & 2020-12-14 & 2021-10-15 & 61.57 & 82.9 & 0.96 & 62530 &  34.07 & 10.47 &  2.99 & 132.56 & 2.13 & 1242\\\\\n",
       "\t2 & IND & India                    & 1339330514 & 34081315 & 452290 & 951984373 & 683009792 & 268974581 & 2021-01-16 & 2021-10-11 & 54.17 & 35.4 & 2.33 &  6700 & 407.43 & 26.99 & 11.19 &  25.45 & 0.34 &  711\\\\\n",
       "\t3 & BRA & Brazil                   &  213445417 & 21597949 & 601574 & 246737803 & 151223500 & 105063574 & 2021-01-17 & 2021-10-15 & 40.28 & 87.3 & 0.87 & 14652 &  25.06 & 24.47 &  6.04 & 101.19 & 2.82 & 1156\\\\\n",
       "\t4 & GBR & The United Kingdom       &   67081000 &  8449169 & 138584 &  94376101 &  49186920 &  45073591 & 2020-12-21 & 2021-10-12 & 41.20 & 84.2 & 0.80 & 46659 & 275.36 & 10.14 &  2.35 & 125.95 & 2.07 & 1407\\\\\n",
       "\t5 & RUS & Russian Federation       &  142320790 &  8027012 & 224310 &  94491689 &  49463056 &  45028077 & NA         & 2021-10-13 & 54.17 & 74.9 & 0.11 & 27044 &   8.32 &  2.01 &  1.62 &  56.40 & 1.58 &  664\\\\\n",
       "\t6 & TUR & Turkey                   &   82482383 &  7654277 &  67623 & 112360409 &  54497626 &  46903485 & NA         & 2021-10-13 & 58.33 & 76.6 & 1.11 & 28424 & 105.27 & 17.05 &  2.68 &  92.80 & 0.82 & 1362\\\\\n",
       "\\end{tabular}\n"
      ],
      "text/markdown": [
       "\n",
       "A data.frame: 6 × 20\n",
       "\n",
       "| <!--/--> | country_code &lt;chr&gt; | country_name &lt;chr&gt; | population &lt;int&gt; | total_cases &lt;int&gt; | total_deaths &lt;int&gt; | total_vaccinations &lt;dbl&gt; | vaccinated_1dose &lt;int&gt; | fully_vacccinated &lt;int&gt; | first_vaccine_date &lt;chr&gt; | last_updated_date &lt;chr&gt; | stringency &lt;dbl&gt; | urbanisation_rate &lt;dbl&gt; | urbanisation_yearly_change &lt;dbl&gt; | gdp_per_cap &lt;int&gt; | density &lt;dbl&gt; | avg_temperature &lt;dbl&gt; | precipitation &lt;dbl&gt; | Infection_Rate_per_1000 &lt;dbl&gt; | Deaths_per_1000 &lt;dbl&gt; | total_vaccinations_per_1000 &lt;dbl&gt; |\n",
       "|---|---|---|---|---|---|---|---|---|---|---|---|---|---|---|---|---|---|---|---|---|\n",
       "| 1 | USA | United States of America |  334998398 | 44408612 | 715179 | 416110353 | 233521350 | 203896677 | 2020-12-14 | 2021-10-15 | 61.57 | 82.9 | 0.96 | 62530 |  34.07 | 10.47 |  2.99 | 132.56 | 2.13 | 1242 |\n",
       "| 2 | IND | India                    | 1339330514 | 34081315 | 452290 | 951984373 | 683009792 | 268974581 | 2021-01-16 | 2021-10-11 | 54.17 | 35.4 | 2.33 |  6700 | 407.43 | 26.99 | 11.19 |  25.45 | 0.34 |  711 |\n",
       "| 3 | BRA | Brazil                   |  213445417 | 21597949 | 601574 | 246737803 | 151223500 | 105063574 | 2021-01-17 | 2021-10-15 | 40.28 | 87.3 | 0.87 | 14652 |  25.06 | 24.47 |  6.04 | 101.19 | 2.82 | 1156 |\n",
       "| 4 | GBR | The United Kingdom       |   67081000 |  8449169 | 138584 |  94376101 |  49186920 |  45073591 | 2020-12-21 | 2021-10-12 | 41.20 | 84.2 | 0.80 | 46659 | 275.36 | 10.14 |  2.35 | 125.95 | 2.07 | 1407 |\n",
       "| 5 | RUS | Russian Federation       |  142320790 |  8027012 | 224310 |  94491689 |  49463056 |  45028077 | NA         | 2021-10-13 | 54.17 | 74.9 | 0.11 | 27044 |   8.32 |  2.01 |  1.62 |  56.40 | 1.58 |  664 |\n",
       "| 6 | TUR | Turkey                   |   82482383 |  7654277 |  67623 | 112360409 |  54497626 |  46903485 | NA         | 2021-10-13 | 58.33 | 76.6 | 1.11 | 28424 | 105.27 | 17.05 |  2.68 |  92.80 | 0.82 | 1362 |\n",
       "\n"
      ],
      "text/plain": [
       "  country_code country_name             population total_cases total_deaths\n",
       "1 USA          United States of America  334998398 44408612    715179      \n",
       "2 IND          India                    1339330514 34081315    452290      \n",
       "3 BRA          Brazil                    213445417 21597949    601574      \n",
       "4 GBR          The United Kingdom         67081000  8449169    138584      \n",
       "5 RUS          Russian Federation        142320790  8027012    224310      \n",
       "6 TUR          Turkey                     82482383  7654277     67623      \n",
       "  total_vaccinations vaccinated_1dose fully_vacccinated first_vaccine_date\n",
       "1 416110353          233521350        203896677         2020-12-14        \n",
       "2 951984373          683009792        268974581         2021-01-16        \n",
       "3 246737803          151223500        105063574         2021-01-17        \n",
       "4  94376101           49186920         45073591         2020-12-21        \n",
       "5  94491689           49463056         45028077         NA                \n",
       "6 112360409           54497626         46903485         NA                \n",
       "  last_updated_date stringency urbanisation_rate urbanisation_yearly_change\n",
       "1 2021-10-15        61.57      82.9              0.96                      \n",
       "2 2021-10-11        54.17      35.4              2.33                      \n",
       "3 2021-10-15        40.28      87.3              0.87                      \n",
       "4 2021-10-12        41.20      84.2              0.80                      \n",
       "5 2021-10-13        54.17      74.9              0.11                      \n",
       "6 2021-10-13        58.33      76.6              1.11                      \n",
       "  gdp_per_cap density avg_temperature precipitation Infection_Rate_per_1000\n",
       "1 62530        34.07  10.47            2.99         132.56                 \n",
       "2  6700       407.43  26.99           11.19          25.45                 \n",
       "3 14652        25.06  24.47            6.04         101.19                 \n",
       "4 46659       275.36  10.14            2.35         125.95                 \n",
       "5 27044         8.32   2.01            1.62          56.40                 \n",
       "6 28424       105.27  17.05            2.68          92.80                 \n",
       "  Deaths_per_1000 total_vaccinations_per_1000\n",
       "1 2.13            1242                       \n",
       "2 0.34             711                       \n",
       "3 2.82            1156                       \n",
       "4 2.07            1407                       \n",
       "5 1.58             664                       \n",
       "6 0.82            1362                       "
      ]
     },
     "metadata": {},
     "output_type": "display_data"
    },
    {
     "data": {
      "text/html": [
       "<table class=\"dataframe\">\n",
       "<caption>A data.frame: 6 × 2</caption>\n",
       "<thead>\n",
       "\t<tr><th></th><th scope=col>oecd_country_name</th><th scope=col>country_code</th></tr>\n",
       "\t<tr><th></th><th scope=col>&lt;chr&gt;</th><th scope=col>&lt;chr&gt;</th></tr>\n",
       "</thead>\n",
       "<tbody>\n",
       "\t<tr><th scope=row>1</th><td>Australia</td><td>AUS</td></tr>\n",
       "\t<tr><th scope=row>2</th><td>Austria  </td><td>AUT</td></tr>\n",
       "\t<tr><th scope=row>3</th><td>Belgium  </td><td>BEL</td></tr>\n",
       "\t<tr><th scope=row>4</th><td>Canada   </td><td>CAN</td></tr>\n",
       "\t<tr><th scope=row>5</th><td>Chile    </td><td>CHL</td></tr>\n",
       "\t<tr><th scope=row>6</th><td>Colombia </td><td>COL</td></tr>\n",
       "</tbody>\n",
       "</table>\n"
      ],
      "text/latex": [
       "A data.frame: 6 × 2\n",
       "\\begin{tabular}{r|ll}\n",
       "  & oecd\\_country\\_name & country\\_code\\\\\n",
       "  & <chr> & <chr>\\\\\n",
       "\\hline\n",
       "\t1 & Australia & AUS\\\\\n",
       "\t2 & Austria   & AUT\\\\\n",
       "\t3 & Belgium   & BEL\\\\\n",
       "\t4 & Canada    & CAN\\\\\n",
       "\t5 & Chile     & CHL\\\\\n",
       "\t6 & Colombia  & COL\\\\\n",
       "\\end{tabular}\n"
      ],
      "text/markdown": [
       "\n",
       "A data.frame: 6 × 2\n",
       "\n",
       "| <!--/--> | oecd_country_name &lt;chr&gt; | country_code &lt;chr&gt; |\n",
       "|---|---|---|\n",
       "| 1 | Australia | AUS |\n",
       "| 2 | Austria   | AUT |\n",
       "| 3 | Belgium   | BEL |\n",
       "| 4 | Canada    | CAN |\n",
       "| 5 | Chile     | CHL |\n",
       "| 6 | Colombia  | COL |\n",
       "\n"
      ],
      "text/plain": [
       "  oecd_country_name country_code\n",
       "1 Australia         AUS         \n",
       "2 Austria           AUT         \n",
       "3 Belgium           BEL         \n",
       "4 Canada            CAN         \n",
       "5 Chile             CHL         \n",
       "6 Colombia          COL         "
      ]
     },
     "metadata": {},
     "output_type": "display_data"
    },
    {
     "data": {
      "text/html": [
       "<table class=\"dataframe\">\n",
       "<caption>A data.frame: 6 × 21</caption>\n",
       "<thead>\n",
       "\t<tr><th></th><th scope=col>country_code</th><th scope=col>country_name</th><th scope=col>population</th><th scope=col>total_cases</th><th scope=col>total_deaths</th><th scope=col>total_vaccinations</th><th scope=col>vaccinated_1dose</th><th scope=col>fully_vacccinated</th><th scope=col>first_vaccine_date</th><th scope=col>last_updated_date</th><th scope=col>...</th><th scope=col>urbanisation_rate</th><th scope=col>urbanisation_yearly_change</th><th scope=col>gdp_per_cap</th><th scope=col>density</th><th scope=col>avg_temperature</th><th scope=col>precipitation</th><th scope=col>Infection_Rate_per_1000</th><th scope=col>Deaths_per_1000</th><th scope=col>total_vaccinations_per_1000</th><th scope=col>oecd_country_name</th></tr>\n",
       "\t<tr><th></th><th scope=col>&lt;chr&gt;</th><th scope=col>&lt;chr&gt;</th><th scope=col>&lt;int&gt;</th><th scope=col>&lt;int&gt;</th><th scope=col>&lt;int&gt;</th><th scope=col>&lt;dbl&gt;</th><th scope=col>&lt;int&gt;</th><th scope=col>&lt;int&gt;</th><th scope=col>&lt;chr&gt;</th><th scope=col>&lt;chr&gt;</th><th scope=col>...</th><th scope=col>&lt;dbl&gt;</th><th scope=col>&lt;dbl&gt;</th><th scope=col>&lt;int&gt;</th><th scope=col>&lt;dbl&gt;</th><th scope=col>&lt;dbl&gt;</th><th scope=col>&lt;dbl&gt;</th><th scope=col>&lt;dbl&gt;</th><th scope=col>&lt;dbl&gt;</th><th scope=col>&lt;dbl&gt;</th><th scope=col>&lt;chr&gt;</th></tr>\n",
       "</thead>\n",
       "<tbody>\n",
       "\t<tr><th scope=row>1</th><td>USA</td><td>United States of America</td><td> 334998398</td><td>44408612</td><td>715179</td><td>416110353</td><td>233521350</td><td>203896677</td><td>2020-12-14</td><td>2021-10-15</td><td>...</td><td>82.9</td><td>0.96</td><td>62530</td><td> 34.07</td><td>10.47</td><td> 2.99</td><td>132.56</td><td>2.13</td><td>1242</td><td>United States </td></tr>\n",
       "\t<tr><th scope=row>2</th><td>IND</td><td>India                   </td><td>1339330514</td><td>34081315</td><td>452290</td><td>951984373</td><td>683009792</td><td>268974581</td><td>2021-01-16</td><td>2021-10-11</td><td>...</td><td>35.4</td><td>2.33</td><td> 6700</td><td>407.43</td><td>26.99</td><td>11.19</td><td> 25.45</td><td>0.34</td><td> 711</td><td>NA            </td></tr>\n",
       "\t<tr><th scope=row>3</th><td>BRA</td><td>Brazil                  </td><td> 213445417</td><td>21597949</td><td>601574</td><td>246737803</td><td>151223500</td><td>105063574</td><td>2021-01-17</td><td>2021-10-15</td><td>...</td><td>87.3</td><td>0.87</td><td>14652</td><td> 25.06</td><td>24.47</td><td> 6.04</td><td>101.19</td><td>2.82</td><td>1156</td><td>NA            </td></tr>\n",
       "\t<tr><th scope=row>4</th><td>GBR</td><td>The United Kingdom      </td><td>  67081000</td><td> 8449169</td><td>138584</td><td> 94376101</td><td> 49186920</td><td> 45073591</td><td>2020-12-21</td><td>2021-10-12</td><td>...</td><td>84.2</td><td>0.80</td><td>46659</td><td>275.36</td><td>10.14</td><td> 2.35</td><td>125.95</td><td>2.07</td><td>1407</td><td>United Kingdom</td></tr>\n",
       "\t<tr><th scope=row>5</th><td>RUS</td><td>Russian Federation      </td><td> 142320790</td><td> 8027012</td><td>224310</td><td> 94491689</td><td> 49463056</td><td> 45028077</td><td>NA        </td><td>2021-10-13</td><td>...</td><td>74.9</td><td>0.11</td><td>27044</td><td>  8.32</td><td> 2.01</td><td> 1.62</td><td> 56.40</td><td>1.58</td><td> 664</td><td>NA            </td></tr>\n",
       "\t<tr><th scope=row>6</th><td>TUR</td><td>Turkey                  </td><td>  82482383</td><td> 7654277</td><td> 67623</td><td>112360409</td><td> 54497626</td><td> 46903485</td><td>NA        </td><td>2021-10-13</td><td>...</td><td>76.6</td><td>1.11</td><td>28424</td><td>105.27</td><td>17.05</td><td> 2.68</td><td> 92.80</td><td>0.82</td><td>1362</td><td>Turkey        </td></tr>\n",
       "</tbody>\n",
       "</table>\n"
      ],
      "text/latex": [
       "A data.frame: 6 × 21\n",
       "\\begin{tabular}{r|lllllllllllllllllllll}\n",
       "  & country\\_code & country\\_name & population & total\\_cases & total\\_deaths & total\\_vaccinations & vaccinated\\_1dose & fully\\_vacccinated & first\\_vaccine\\_date & last\\_updated\\_date & ... & urbanisation\\_rate & urbanisation\\_yearly\\_change & gdp\\_per\\_cap & density & avg\\_temperature & precipitation & Infection\\_Rate\\_per\\_1000 & Deaths\\_per\\_1000 & total\\_vaccinations\\_per\\_1000 & oecd\\_country\\_name\\\\\n",
       "  & <chr> & <chr> & <int> & <int> & <int> & <dbl> & <int> & <int> & <chr> & <chr> & ... & <dbl> & <dbl> & <int> & <dbl> & <dbl> & <dbl> & <dbl> & <dbl> & <dbl> & <chr>\\\\\n",
       "\\hline\n",
       "\t1 & USA & United States of America &  334998398 & 44408612 & 715179 & 416110353 & 233521350 & 203896677 & 2020-12-14 & 2021-10-15 & ... & 82.9 & 0.96 & 62530 &  34.07 & 10.47 &  2.99 & 132.56 & 2.13 & 1242 & United States \\\\\n",
       "\t2 & IND & India                    & 1339330514 & 34081315 & 452290 & 951984373 & 683009792 & 268974581 & 2021-01-16 & 2021-10-11 & ... & 35.4 & 2.33 &  6700 & 407.43 & 26.99 & 11.19 &  25.45 & 0.34 &  711 & NA            \\\\\n",
       "\t3 & BRA & Brazil                   &  213445417 & 21597949 & 601574 & 246737803 & 151223500 & 105063574 & 2021-01-17 & 2021-10-15 & ... & 87.3 & 0.87 & 14652 &  25.06 & 24.47 &  6.04 & 101.19 & 2.82 & 1156 & NA            \\\\\n",
       "\t4 & GBR & The United Kingdom       &   67081000 &  8449169 & 138584 &  94376101 &  49186920 &  45073591 & 2020-12-21 & 2021-10-12 & ... & 84.2 & 0.80 & 46659 & 275.36 & 10.14 &  2.35 & 125.95 & 2.07 & 1407 & United Kingdom\\\\\n",
       "\t5 & RUS & Russian Federation       &  142320790 &  8027012 & 224310 &  94491689 &  49463056 &  45028077 & NA         & 2021-10-13 & ... & 74.9 & 0.11 & 27044 &   8.32 &  2.01 &  1.62 &  56.40 & 1.58 &  664 & NA            \\\\\n",
       "\t6 & TUR & Turkey                   &   82482383 &  7654277 &  67623 & 112360409 &  54497626 &  46903485 & NA         & 2021-10-13 & ... & 76.6 & 1.11 & 28424 & 105.27 & 17.05 &  2.68 &  92.80 & 0.82 & 1362 & Turkey        \\\\\n",
       "\\end{tabular}\n"
      ],
      "text/markdown": [
       "\n",
       "A data.frame: 6 × 21\n",
       "\n",
       "| <!--/--> | country_code &lt;chr&gt; | country_name &lt;chr&gt; | population &lt;int&gt; | total_cases &lt;int&gt; | total_deaths &lt;int&gt; | total_vaccinations &lt;dbl&gt; | vaccinated_1dose &lt;int&gt; | fully_vacccinated &lt;int&gt; | first_vaccine_date &lt;chr&gt; | last_updated_date &lt;chr&gt; | ... ... | urbanisation_rate &lt;dbl&gt; | urbanisation_yearly_change &lt;dbl&gt; | gdp_per_cap &lt;int&gt; | density &lt;dbl&gt; | avg_temperature &lt;dbl&gt; | precipitation &lt;dbl&gt; | Infection_Rate_per_1000 &lt;dbl&gt; | Deaths_per_1000 &lt;dbl&gt; | total_vaccinations_per_1000 &lt;dbl&gt; | oecd_country_name &lt;chr&gt; |\n",
       "|---|---|---|---|---|---|---|---|---|---|---|---|---|---|---|---|---|---|---|---|---|---|\n",
       "| 1 | USA | United States of America |  334998398 | 44408612 | 715179 | 416110353 | 233521350 | 203896677 | 2020-12-14 | 2021-10-15 | ... | 82.9 | 0.96 | 62530 |  34.07 | 10.47 |  2.99 | 132.56 | 2.13 | 1242 | United States  |\n",
       "| 2 | IND | India                    | 1339330514 | 34081315 | 452290 | 951984373 | 683009792 | 268974581 | 2021-01-16 | 2021-10-11 | ... | 35.4 | 2.33 |  6700 | 407.43 | 26.99 | 11.19 |  25.45 | 0.34 |  711 | NA             |\n",
       "| 3 | BRA | Brazil                   |  213445417 | 21597949 | 601574 | 246737803 | 151223500 | 105063574 | 2021-01-17 | 2021-10-15 | ... | 87.3 | 0.87 | 14652 |  25.06 | 24.47 |  6.04 | 101.19 | 2.82 | 1156 | NA             |\n",
       "| 4 | GBR | The United Kingdom       |   67081000 |  8449169 | 138584 |  94376101 |  49186920 |  45073591 | 2020-12-21 | 2021-10-12 | ... | 84.2 | 0.80 | 46659 | 275.36 | 10.14 |  2.35 | 125.95 | 2.07 | 1407 | United Kingdom |\n",
       "| 5 | RUS | Russian Federation       |  142320790 |  8027012 | 224310 |  94491689 |  49463056 |  45028077 | NA         | 2021-10-13 | ... | 74.9 | 0.11 | 27044 |   8.32 |  2.01 |  1.62 |  56.40 | 1.58 |  664 | NA             |\n",
       "| 6 | TUR | Turkey                   |   82482383 |  7654277 |  67623 | 112360409 |  54497626 |  46903485 | NA         | 2021-10-13 | ... | 76.6 | 1.11 | 28424 | 105.27 | 17.05 |  2.68 |  92.80 | 0.82 | 1362 | Turkey         |\n",
       "\n"
      ],
      "text/plain": [
       "  country_code country_name             population total_cases total_deaths\n",
       "1 USA          United States of America  334998398 44408612    715179      \n",
       "2 IND          India                    1339330514 34081315    452290      \n",
       "3 BRA          Brazil                    213445417 21597949    601574      \n",
       "4 GBR          The United Kingdom         67081000  8449169    138584      \n",
       "5 RUS          Russian Federation        142320790  8027012    224310      \n",
       "6 TUR          Turkey                     82482383  7654277     67623      \n",
       "  total_vaccinations vaccinated_1dose fully_vacccinated first_vaccine_date\n",
       "1 416110353          233521350        203896677         2020-12-14        \n",
       "2 951984373          683009792        268974581         2021-01-16        \n",
       "3 246737803          151223500        105063574         2021-01-17        \n",
       "4  94376101           49186920         45073591         2020-12-21        \n",
       "5  94491689           49463056         45028077         NA                \n",
       "6 112360409           54497626         46903485         NA                \n",
       "  last_updated_date ... urbanisation_rate urbanisation_yearly_change\n",
       "1 2021-10-15        ... 82.9              0.96                      \n",
       "2 2021-10-11        ... 35.4              2.33                      \n",
       "3 2021-10-15        ... 87.3              0.87                      \n",
       "4 2021-10-12        ... 84.2              0.80                      \n",
       "5 2021-10-13        ... 74.9              0.11                      \n",
       "6 2021-10-13        ... 76.6              1.11                      \n",
       "  gdp_per_cap density avg_temperature precipitation Infection_Rate_per_1000\n",
       "1 62530        34.07  10.47            2.99         132.56                 \n",
       "2  6700       407.43  26.99           11.19          25.45                 \n",
       "3 14652        25.06  24.47            6.04         101.19                 \n",
       "4 46659       275.36  10.14            2.35         125.95                 \n",
       "5 27044         8.32   2.01            1.62          56.40                 \n",
       "6 28424       105.27  17.05            2.68          92.80                 \n",
       "  Deaths_per_1000 total_vaccinations_per_1000 oecd_country_name\n",
       "1 2.13            1242                        United States    \n",
       "2 0.34             711                        NA               \n",
       "3 2.82            1156                        NA               \n",
       "4 2.07            1407                        United Kingdom   \n",
       "5 1.58             664                        NA               \n",
       "6 0.82            1362                        Turkey           "
      ]
     },
     "metadata": {},
     "output_type": "display_data"
    },
    {
     "data": {
      "text/html": [
       "<table class=\"dataframe\">\n",
       "<caption>A data.frame: 6 × 21</caption>\n",
       "<thead>\n",
       "\t<tr><th></th><th scope=col>country_code</th><th scope=col>country_name</th><th scope=col>population</th><th scope=col>total_cases</th><th scope=col>total_deaths</th><th scope=col>total_vaccinations</th><th scope=col>vaccinated_1dose</th><th scope=col>fully_vacccinated</th><th scope=col>first_vaccine_date</th><th scope=col>last_updated_date</th><th scope=col>...</th><th scope=col>urbanisation_rate</th><th scope=col>urbanisation_yearly_change</th><th scope=col>gdp_per_cap</th><th scope=col>density</th><th scope=col>avg_temperature</th><th scope=col>precipitation</th><th scope=col>Infection_Rate_per_1000</th><th scope=col>Deaths_per_1000</th><th scope=col>total_vaccinations_per_1000</th><th scope=col>oecd_country</th></tr>\n",
       "\t<tr><th></th><th scope=col>&lt;chr&gt;</th><th scope=col>&lt;chr&gt;</th><th scope=col>&lt;int&gt;</th><th scope=col>&lt;int&gt;</th><th scope=col>&lt;int&gt;</th><th scope=col>&lt;dbl&gt;</th><th scope=col>&lt;int&gt;</th><th scope=col>&lt;int&gt;</th><th scope=col>&lt;chr&gt;</th><th scope=col>&lt;chr&gt;</th><th scope=col>...</th><th scope=col>&lt;dbl&gt;</th><th scope=col>&lt;dbl&gt;</th><th scope=col>&lt;int&gt;</th><th scope=col>&lt;dbl&gt;</th><th scope=col>&lt;dbl&gt;</th><th scope=col>&lt;dbl&gt;</th><th scope=col>&lt;dbl&gt;</th><th scope=col>&lt;dbl&gt;</th><th scope=col>&lt;dbl&gt;</th><th scope=col>&lt;chr&gt;</th></tr>\n",
       "</thead>\n",
       "<tbody>\n",
       "\t<tr><th scope=row>1</th><td>USA</td><td>United States of America</td><td> 334998398</td><td>44408612</td><td>715179</td><td>416110353</td><td>233521350</td><td>203896677</td><td>2020-12-14</td><td>2021-10-15</td><td>...</td><td>82.9</td><td>0.96</td><td>62530</td><td> 34.07</td><td>10.47</td><td> 2.99</td><td>132.56</td><td>2.13</td><td>1242</td><td>Yes</td></tr>\n",
       "\t<tr><th scope=row>2</th><td>IND</td><td>India                   </td><td>1339330514</td><td>34081315</td><td>452290</td><td>951984373</td><td>683009792</td><td>268974581</td><td>2021-01-16</td><td>2021-10-11</td><td>...</td><td>35.4</td><td>2.33</td><td> 6700</td><td>407.43</td><td>26.99</td><td>11.19</td><td> 25.45</td><td>0.34</td><td> 711</td><td>No </td></tr>\n",
       "\t<tr><th scope=row>3</th><td>BRA</td><td>Brazil                  </td><td> 213445417</td><td>21597949</td><td>601574</td><td>246737803</td><td>151223500</td><td>105063574</td><td>2021-01-17</td><td>2021-10-15</td><td>...</td><td>87.3</td><td>0.87</td><td>14652</td><td> 25.06</td><td>24.47</td><td> 6.04</td><td>101.19</td><td>2.82</td><td>1156</td><td>No </td></tr>\n",
       "\t<tr><th scope=row>4</th><td>GBR</td><td>The United Kingdom      </td><td>  67081000</td><td> 8449169</td><td>138584</td><td> 94376101</td><td> 49186920</td><td> 45073591</td><td>2020-12-21</td><td>2021-10-12</td><td>...</td><td>84.2</td><td>0.80</td><td>46659</td><td>275.36</td><td>10.14</td><td> 2.35</td><td>125.95</td><td>2.07</td><td>1407</td><td>Yes</td></tr>\n",
       "\t<tr><th scope=row>5</th><td>RUS</td><td>Russian Federation      </td><td> 142320790</td><td> 8027012</td><td>224310</td><td> 94491689</td><td> 49463056</td><td> 45028077</td><td>NA        </td><td>2021-10-13</td><td>...</td><td>74.9</td><td>0.11</td><td>27044</td><td>  8.32</td><td> 2.01</td><td> 1.62</td><td> 56.40</td><td>1.58</td><td> 664</td><td>No </td></tr>\n",
       "\t<tr><th scope=row>6</th><td>TUR</td><td>Turkey                  </td><td>  82482383</td><td> 7654277</td><td> 67623</td><td>112360409</td><td> 54497626</td><td> 46903485</td><td>NA        </td><td>2021-10-13</td><td>...</td><td>76.6</td><td>1.11</td><td>28424</td><td>105.27</td><td>17.05</td><td> 2.68</td><td> 92.80</td><td>0.82</td><td>1362</td><td>Yes</td></tr>\n",
       "</tbody>\n",
       "</table>\n"
      ],
      "text/latex": [
       "A data.frame: 6 × 21\n",
       "\\begin{tabular}{r|lllllllllllllllllllll}\n",
       "  & country\\_code & country\\_name & population & total\\_cases & total\\_deaths & total\\_vaccinations & vaccinated\\_1dose & fully\\_vacccinated & first\\_vaccine\\_date & last\\_updated\\_date & ... & urbanisation\\_rate & urbanisation\\_yearly\\_change & gdp\\_per\\_cap & density & avg\\_temperature & precipitation & Infection\\_Rate\\_per\\_1000 & Deaths\\_per\\_1000 & total\\_vaccinations\\_per\\_1000 & oecd\\_country\\\\\n",
       "  & <chr> & <chr> & <int> & <int> & <int> & <dbl> & <int> & <int> & <chr> & <chr> & ... & <dbl> & <dbl> & <int> & <dbl> & <dbl> & <dbl> & <dbl> & <dbl> & <dbl> & <chr>\\\\\n",
       "\\hline\n",
       "\t1 & USA & United States of America &  334998398 & 44408612 & 715179 & 416110353 & 233521350 & 203896677 & 2020-12-14 & 2021-10-15 & ... & 82.9 & 0.96 & 62530 &  34.07 & 10.47 &  2.99 & 132.56 & 2.13 & 1242 & Yes\\\\\n",
       "\t2 & IND & India                    & 1339330514 & 34081315 & 452290 & 951984373 & 683009792 & 268974581 & 2021-01-16 & 2021-10-11 & ... & 35.4 & 2.33 &  6700 & 407.43 & 26.99 & 11.19 &  25.45 & 0.34 &  711 & No \\\\\n",
       "\t3 & BRA & Brazil                   &  213445417 & 21597949 & 601574 & 246737803 & 151223500 & 105063574 & 2021-01-17 & 2021-10-15 & ... & 87.3 & 0.87 & 14652 &  25.06 & 24.47 &  6.04 & 101.19 & 2.82 & 1156 & No \\\\\n",
       "\t4 & GBR & The United Kingdom       &   67081000 &  8449169 & 138584 &  94376101 &  49186920 &  45073591 & 2020-12-21 & 2021-10-12 & ... & 84.2 & 0.80 & 46659 & 275.36 & 10.14 &  2.35 & 125.95 & 2.07 & 1407 & Yes\\\\\n",
       "\t5 & RUS & Russian Federation       &  142320790 &  8027012 & 224310 &  94491689 &  49463056 &  45028077 & NA         & 2021-10-13 & ... & 74.9 & 0.11 & 27044 &   8.32 &  2.01 &  1.62 &  56.40 & 1.58 &  664 & No \\\\\n",
       "\t6 & TUR & Turkey                   &   82482383 &  7654277 &  67623 & 112360409 &  54497626 &  46903485 & NA         & 2021-10-13 & ... & 76.6 & 1.11 & 28424 & 105.27 & 17.05 &  2.68 &  92.80 & 0.82 & 1362 & Yes\\\\\n",
       "\\end{tabular}\n"
      ],
      "text/markdown": [
       "\n",
       "A data.frame: 6 × 21\n",
       "\n",
       "| <!--/--> | country_code &lt;chr&gt; | country_name &lt;chr&gt; | population &lt;int&gt; | total_cases &lt;int&gt; | total_deaths &lt;int&gt; | total_vaccinations &lt;dbl&gt; | vaccinated_1dose &lt;int&gt; | fully_vacccinated &lt;int&gt; | first_vaccine_date &lt;chr&gt; | last_updated_date &lt;chr&gt; | ... ... | urbanisation_rate &lt;dbl&gt; | urbanisation_yearly_change &lt;dbl&gt; | gdp_per_cap &lt;int&gt; | density &lt;dbl&gt; | avg_temperature &lt;dbl&gt; | precipitation &lt;dbl&gt; | Infection_Rate_per_1000 &lt;dbl&gt; | Deaths_per_1000 &lt;dbl&gt; | total_vaccinations_per_1000 &lt;dbl&gt; | oecd_country &lt;chr&gt; |\n",
       "|---|---|---|---|---|---|---|---|---|---|---|---|---|---|---|---|---|---|---|---|---|---|\n",
       "| 1 | USA | United States of America |  334998398 | 44408612 | 715179 | 416110353 | 233521350 | 203896677 | 2020-12-14 | 2021-10-15 | ... | 82.9 | 0.96 | 62530 |  34.07 | 10.47 |  2.99 | 132.56 | 2.13 | 1242 | Yes |\n",
       "| 2 | IND | India                    | 1339330514 | 34081315 | 452290 | 951984373 | 683009792 | 268974581 | 2021-01-16 | 2021-10-11 | ... | 35.4 | 2.33 |  6700 | 407.43 | 26.99 | 11.19 |  25.45 | 0.34 |  711 | No  |\n",
       "| 3 | BRA | Brazil                   |  213445417 | 21597949 | 601574 | 246737803 | 151223500 | 105063574 | 2021-01-17 | 2021-10-15 | ... | 87.3 | 0.87 | 14652 |  25.06 | 24.47 |  6.04 | 101.19 | 2.82 | 1156 | No  |\n",
       "| 4 | GBR | The United Kingdom       |   67081000 |  8449169 | 138584 |  94376101 |  49186920 |  45073591 | 2020-12-21 | 2021-10-12 | ... | 84.2 | 0.80 | 46659 | 275.36 | 10.14 |  2.35 | 125.95 | 2.07 | 1407 | Yes |\n",
       "| 5 | RUS | Russian Federation       |  142320790 |  8027012 | 224310 |  94491689 |  49463056 |  45028077 | NA         | 2021-10-13 | ... | 74.9 | 0.11 | 27044 |   8.32 |  2.01 |  1.62 |  56.40 | 1.58 |  664 | No  |\n",
       "| 6 | TUR | Turkey                   |   82482383 |  7654277 |  67623 | 112360409 |  54497626 |  46903485 | NA         | 2021-10-13 | ... | 76.6 | 1.11 | 28424 | 105.27 | 17.05 |  2.68 |  92.80 | 0.82 | 1362 | Yes |\n",
       "\n"
      ],
      "text/plain": [
       "  country_code country_name             population total_cases total_deaths\n",
       "1 USA          United States of America  334998398 44408612    715179      \n",
       "2 IND          India                    1339330514 34081315    452290      \n",
       "3 BRA          Brazil                    213445417 21597949    601574      \n",
       "4 GBR          The United Kingdom         67081000  8449169    138584      \n",
       "5 RUS          Russian Federation        142320790  8027012    224310      \n",
       "6 TUR          Turkey                     82482383  7654277     67623      \n",
       "  total_vaccinations vaccinated_1dose fully_vacccinated first_vaccine_date\n",
       "1 416110353          233521350        203896677         2020-12-14        \n",
       "2 951984373          683009792        268974581         2021-01-16        \n",
       "3 246737803          151223500        105063574         2021-01-17        \n",
       "4  94376101           49186920         45073591         2020-12-21        \n",
       "5  94491689           49463056         45028077         NA                \n",
       "6 112360409           54497626         46903485         NA                \n",
       "  last_updated_date ... urbanisation_rate urbanisation_yearly_change\n",
       "1 2021-10-15        ... 82.9              0.96                      \n",
       "2 2021-10-11        ... 35.4              2.33                      \n",
       "3 2021-10-15        ... 87.3              0.87                      \n",
       "4 2021-10-12        ... 84.2              0.80                      \n",
       "5 2021-10-13        ... 74.9              0.11                      \n",
       "6 2021-10-13        ... 76.6              1.11                      \n",
       "  gdp_per_cap density avg_temperature precipitation Infection_Rate_per_1000\n",
       "1 62530        34.07  10.47            2.99         132.56                 \n",
       "2  6700       407.43  26.99           11.19          25.45                 \n",
       "3 14652        25.06  24.47            6.04         101.19                 \n",
       "4 46659       275.36  10.14            2.35         125.95                 \n",
       "5 27044         8.32   2.01            1.62          56.40                 \n",
       "6 28424       105.27  17.05            2.68          92.80                 \n",
       "  Deaths_per_1000 total_vaccinations_per_1000 oecd_country\n",
       "1 2.13            1242                        Yes         \n",
       "2 0.34             711                        No          \n",
       "3 2.82            1156                        No          \n",
       "4 2.07            1407                        Yes         \n",
       "5 1.58             664                        No          \n",
       "6 0.82            1362                        Yes         "
      ]
     },
     "metadata": {},
     "output_type": "display_data"
    }
   ],
   "source": [
    "# mutate 3 new columns\n",
    "Final_Data <- Main_DataFrame %>% mutate(Infection_Rate_per_1000 = round((total_cases/population)*1000, digits = 2),\n",
    "                                        Deaths_per_1000 = round((total_deaths/population)*1000, digits = 2), \n",
    "                                        total_vaccinations_per_1000 = round((total_vaccinations/population)*1000))%>%\n",
    "                                  rename(country_name = country_name.x)%>%\n",
    "                                  select(-9)%>%\n",
    "                                  distinct(country_code, .keep_all = TRUE)%>% as.data.frame()\n",
    "\n",
    "head(Final_Data)\n",
    "# change the column name in oecd_data from iso3c to country_code & name to oecd_country_name\n",
    "Oecd_data <- oecd_data %>% rename(country_code = iso3c , oecd_country_name = name)%>% as.data.frame()\n",
    "head(Oecd_data)\n",
    "\n",
    "Final_data1 <- left_join(Final_Data, Oecd_data, by = c(\"country_code\")) %>% as.data.frame()\n",
    "head(Final_data1)\n",
    "Final_Data2 <- Final_data1 %>% mutate(Final_data1 , oecd_country = case_when(oecd_country_name != 'NA' ~ 'Yes' , TRUE ~ 'No') ) %>% select(-21)%>%\n",
    "                                    as.data.frame()\n",
    "head(Final_Data2)"
   ]
  },
  {
   "cell_type": "code",
   "execution_count": 8,
   "id": "4ff2e0b3-5515-41bb-b13b-01700ac1920e",
   "metadata": {},
   "outputs": [
    {
     "data": {
      "text/html": [
       "<table class=\"dataframe\">\n",
       "<caption>A data.frame: 6 × 21</caption>\n",
       "<thead>\n",
       "\t<tr><th></th><th scope=col>COUNTRY_CODE</th><th scope=col>COUNTRY_NAME</th><th scope=col>POPULATION</th><th scope=col>TOTAL_CASES</th><th scope=col>TOTAL_DEATHS</th><th scope=col>TOTAL_VACCINATIONS</th><th scope=col>ONE_DOSE_VACCINATED</th><th scope=col>FULLY_VACCINATED</th><th scope=col>FIRST_VACCINE_DATE</th><th scope=col>LAST_UPDATED_DATE</th><th scope=col>...</th><th scope=col>URBANISATION_RATE</th><th scope=col>URBANISATION_YEARLY_CHANGE</th><th scope=col>GDP_PER_CAP</th><th scope=col>DENSITY</th><th scope=col>AVG_TEMPARATURE</th><th scope=col>PRECIPITATION</th><th scope=col>INFECTION_RATE_PER_1000</th><th scope=col>DEATHS_PER_1000</th><th scope=col>TOTAL_VACCINATIONS_PER_1000</th><th scope=col>OECD_COUNTRY</th></tr>\n",
       "\t<tr><th></th><th scope=col>&lt;chr&gt;</th><th scope=col>&lt;chr&gt;</th><th scope=col>&lt;int&gt;</th><th scope=col>&lt;int&gt;</th><th scope=col>&lt;int&gt;</th><th scope=col>&lt;dbl&gt;</th><th scope=col>&lt;int&gt;</th><th scope=col>&lt;int&gt;</th><th scope=col>&lt;chr&gt;</th><th scope=col>&lt;chr&gt;</th><th scope=col>...</th><th scope=col>&lt;dbl&gt;</th><th scope=col>&lt;dbl&gt;</th><th scope=col>&lt;int&gt;</th><th scope=col>&lt;dbl&gt;</th><th scope=col>&lt;dbl&gt;</th><th scope=col>&lt;dbl&gt;</th><th scope=col>&lt;dbl&gt;</th><th scope=col>&lt;dbl&gt;</th><th scope=col>&lt;dbl&gt;</th><th scope=col>&lt;chr&gt;</th></tr>\n",
       "</thead>\n",
       "<tbody>\n",
       "\t<tr><th scope=row>1</th><td>USA</td><td>United States of America</td><td> 334998398</td><td>44408612</td><td>715179</td><td>416110353</td><td>233521350</td><td>203896677</td><td>2020-12-14</td><td>2021-10-15</td><td>...</td><td>82.9</td><td>0.96</td><td>62530</td><td> 34.07</td><td>10.47</td><td> 2.99</td><td>132.56</td><td>2.13</td><td>1242</td><td>Yes</td></tr>\n",
       "\t<tr><th scope=row>2</th><td>IND</td><td>India                   </td><td>1339330514</td><td>34081315</td><td>452290</td><td>951984373</td><td>683009792</td><td>268974581</td><td>2021-01-16</td><td>2021-10-11</td><td>...</td><td>35.4</td><td>2.33</td><td> 6700</td><td>407.43</td><td>26.99</td><td>11.19</td><td> 25.45</td><td>0.34</td><td> 711</td><td>No </td></tr>\n",
       "\t<tr><th scope=row>3</th><td>BRA</td><td>Brazil                  </td><td> 213445417</td><td>21597949</td><td>601574</td><td>246737803</td><td>151223500</td><td>105063574</td><td>2021-01-17</td><td>2021-10-15</td><td>...</td><td>87.3</td><td>0.87</td><td>14652</td><td> 25.06</td><td>24.47</td><td> 6.04</td><td>101.19</td><td>2.82</td><td>1156</td><td>No </td></tr>\n",
       "\t<tr><th scope=row>4</th><td>GBR</td><td>The United Kingdom      </td><td>  67081000</td><td> 8449169</td><td>138584</td><td> 94376101</td><td> 49186920</td><td> 45073591</td><td>2020-12-21</td><td>2021-10-12</td><td>...</td><td>84.2</td><td>0.80</td><td>46659</td><td>275.36</td><td>10.14</td><td> 2.35</td><td>125.95</td><td>2.07</td><td>1407</td><td>Yes</td></tr>\n",
       "\t<tr><th scope=row>5</th><td>RUS</td><td>Russian Federation      </td><td> 142320790</td><td> 8027012</td><td>224310</td><td> 94491689</td><td> 49463056</td><td> 45028077</td><td>NA        </td><td>2021-10-13</td><td>...</td><td>74.9</td><td>0.11</td><td>27044</td><td>  8.32</td><td> 2.01</td><td> 1.62</td><td> 56.40</td><td>1.58</td><td> 664</td><td>No </td></tr>\n",
       "\t<tr><th scope=row>6</th><td>TUR</td><td>Turkey                  </td><td>  82482383</td><td> 7654277</td><td> 67623</td><td>112360409</td><td> 54497626</td><td> 46903485</td><td>NA        </td><td>2021-10-13</td><td>...</td><td>76.6</td><td>1.11</td><td>28424</td><td>105.27</td><td>17.05</td><td> 2.68</td><td> 92.80</td><td>0.82</td><td>1362</td><td>Yes</td></tr>\n",
       "</tbody>\n",
       "</table>\n"
      ],
      "text/latex": [
       "A data.frame: 6 × 21\n",
       "\\begin{tabular}{r|lllllllllllllllllllll}\n",
       "  & COUNTRY\\_CODE & COUNTRY\\_NAME & POPULATION & TOTAL\\_CASES & TOTAL\\_DEATHS & TOTAL\\_VACCINATIONS & ONE\\_DOSE\\_VACCINATED & FULLY\\_VACCINATED & FIRST\\_VACCINE\\_DATE & LAST\\_UPDATED\\_DATE & ... & URBANISATION\\_RATE & URBANISATION\\_YEARLY\\_CHANGE & GDP\\_PER\\_CAP & DENSITY & AVG\\_TEMPARATURE & PRECIPITATION & INFECTION\\_RATE\\_PER\\_1000 & DEATHS\\_PER\\_1000 & TOTAL\\_VACCINATIONS\\_PER\\_1000 & OECD\\_COUNTRY\\\\\n",
       "  & <chr> & <chr> & <int> & <int> & <int> & <dbl> & <int> & <int> & <chr> & <chr> & ... & <dbl> & <dbl> & <int> & <dbl> & <dbl> & <dbl> & <dbl> & <dbl> & <dbl> & <chr>\\\\\n",
       "\\hline\n",
       "\t1 & USA & United States of America &  334998398 & 44408612 & 715179 & 416110353 & 233521350 & 203896677 & 2020-12-14 & 2021-10-15 & ... & 82.9 & 0.96 & 62530 &  34.07 & 10.47 &  2.99 & 132.56 & 2.13 & 1242 & Yes\\\\\n",
       "\t2 & IND & India                    & 1339330514 & 34081315 & 452290 & 951984373 & 683009792 & 268974581 & 2021-01-16 & 2021-10-11 & ... & 35.4 & 2.33 &  6700 & 407.43 & 26.99 & 11.19 &  25.45 & 0.34 &  711 & No \\\\\n",
       "\t3 & BRA & Brazil                   &  213445417 & 21597949 & 601574 & 246737803 & 151223500 & 105063574 & 2021-01-17 & 2021-10-15 & ... & 87.3 & 0.87 & 14652 &  25.06 & 24.47 &  6.04 & 101.19 & 2.82 & 1156 & No \\\\\n",
       "\t4 & GBR & The United Kingdom       &   67081000 &  8449169 & 138584 &  94376101 &  49186920 &  45073591 & 2020-12-21 & 2021-10-12 & ... & 84.2 & 0.80 & 46659 & 275.36 & 10.14 &  2.35 & 125.95 & 2.07 & 1407 & Yes\\\\\n",
       "\t5 & RUS & Russian Federation       &  142320790 &  8027012 & 224310 &  94491689 &  49463056 &  45028077 & NA         & 2021-10-13 & ... & 74.9 & 0.11 & 27044 &   8.32 &  2.01 &  1.62 &  56.40 & 1.58 &  664 & No \\\\\n",
       "\t6 & TUR & Turkey                   &   82482383 &  7654277 &  67623 & 112360409 &  54497626 &  46903485 & NA         & 2021-10-13 & ... & 76.6 & 1.11 & 28424 & 105.27 & 17.05 &  2.68 &  92.80 & 0.82 & 1362 & Yes\\\\\n",
       "\\end{tabular}\n"
      ],
      "text/markdown": [
       "\n",
       "A data.frame: 6 × 21\n",
       "\n",
       "| <!--/--> | COUNTRY_CODE &lt;chr&gt; | COUNTRY_NAME &lt;chr&gt; | POPULATION &lt;int&gt; | TOTAL_CASES &lt;int&gt; | TOTAL_DEATHS &lt;int&gt; | TOTAL_VACCINATIONS &lt;dbl&gt; | ONE_DOSE_VACCINATED &lt;int&gt; | FULLY_VACCINATED &lt;int&gt; | FIRST_VACCINE_DATE &lt;chr&gt; | LAST_UPDATED_DATE &lt;chr&gt; | ... ... | URBANISATION_RATE &lt;dbl&gt; | URBANISATION_YEARLY_CHANGE &lt;dbl&gt; | GDP_PER_CAP &lt;int&gt; | DENSITY &lt;dbl&gt; | AVG_TEMPARATURE &lt;dbl&gt; | PRECIPITATION &lt;dbl&gt; | INFECTION_RATE_PER_1000 &lt;dbl&gt; | DEATHS_PER_1000 &lt;dbl&gt; | TOTAL_VACCINATIONS_PER_1000 &lt;dbl&gt; | OECD_COUNTRY &lt;chr&gt; |\n",
       "|---|---|---|---|---|---|---|---|---|---|---|---|---|---|---|---|---|---|---|---|---|---|\n",
       "| 1 | USA | United States of America |  334998398 | 44408612 | 715179 | 416110353 | 233521350 | 203896677 | 2020-12-14 | 2021-10-15 | ... | 82.9 | 0.96 | 62530 |  34.07 | 10.47 |  2.99 | 132.56 | 2.13 | 1242 | Yes |\n",
       "| 2 | IND | India                    | 1339330514 | 34081315 | 452290 | 951984373 | 683009792 | 268974581 | 2021-01-16 | 2021-10-11 | ... | 35.4 | 2.33 |  6700 | 407.43 | 26.99 | 11.19 |  25.45 | 0.34 |  711 | No  |\n",
       "| 3 | BRA | Brazil                   |  213445417 | 21597949 | 601574 | 246737803 | 151223500 | 105063574 | 2021-01-17 | 2021-10-15 | ... | 87.3 | 0.87 | 14652 |  25.06 | 24.47 |  6.04 | 101.19 | 2.82 | 1156 | No  |\n",
       "| 4 | GBR | The United Kingdom       |   67081000 |  8449169 | 138584 |  94376101 |  49186920 |  45073591 | 2020-12-21 | 2021-10-12 | ... | 84.2 | 0.80 | 46659 | 275.36 | 10.14 |  2.35 | 125.95 | 2.07 | 1407 | Yes |\n",
       "| 5 | RUS | Russian Federation       |  142320790 |  8027012 | 224310 |  94491689 |  49463056 |  45028077 | NA         | 2021-10-13 | ... | 74.9 | 0.11 | 27044 |   8.32 |  2.01 |  1.62 |  56.40 | 1.58 |  664 | No  |\n",
       "| 6 | TUR | Turkey                   |   82482383 |  7654277 |  67623 | 112360409 |  54497626 |  46903485 | NA         | 2021-10-13 | ... | 76.6 | 1.11 | 28424 | 105.27 | 17.05 |  2.68 |  92.80 | 0.82 | 1362 | Yes |\n",
       "\n"
      ],
      "text/plain": [
       "  COUNTRY_CODE COUNTRY_NAME             POPULATION TOTAL_CASES TOTAL_DEATHS\n",
       "1 USA          United States of America  334998398 44408612    715179      \n",
       "2 IND          India                    1339330514 34081315    452290      \n",
       "3 BRA          Brazil                    213445417 21597949    601574      \n",
       "4 GBR          The United Kingdom         67081000  8449169    138584      \n",
       "5 RUS          Russian Federation        142320790  8027012    224310      \n",
       "6 TUR          Turkey                     82482383  7654277     67623      \n",
       "  TOTAL_VACCINATIONS ONE_DOSE_VACCINATED FULLY_VACCINATED FIRST_VACCINE_DATE\n",
       "1 416110353          233521350           203896677        2020-12-14        \n",
       "2 951984373          683009792           268974581        2021-01-16        \n",
       "3 246737803          151223500           105063574        2021-01-17        \n",
       "4  94376101           49186920            45073591        2020-12-21        \n",
       "5  94491689           49463056            45028077        NA                \n",
       "6 112360409           54497626            46903485        NA                \n",
       "  LAST_UPDATED_DATE ... URBANISATION_RATE URBANISATION_YEARLY_CHANGE\n",
       "1 2021-10-15        ... 82.9              0.96                      \n",
       "2 2021-10-11        ... 35.4              2.33                      \n",
       "3 2021-10-15        ... 87.3              0.87                      \n",
       "4 2021-10-12        ... 84.2              0.80                      \n",
       "5 2021-10-13        ... 74.9              0.11                      \n",
       "6 2021-10-13        ... 76.6              1.11                      \n",
       "  GDP_PER_CAP DENSITY AVG_TEMPARATURE PRECIPITATION INFECTION_RATE_PER_1000\n",
       "1 62530        34.07  10.47            2.99         132.56                 \n",
       "2  6700       407.43  26.99           11.19          25.45                 \n",
       "3 14652        25.06  24.47            6.04         101.19                 \n",
       "4 46659       275.36  10.14            2.35         125.95                 \n",
       "5 27044         8.32   2.01            1.62          56.40                 \n",
       "6 28424       105.27  17.05            2.68          92.80                 \n",
       "  DEATHS_PER_1000 TOTAL_VACCINATIONS_PER_1000 OECD_COUNTRY\n",
       "1 2.13            1242                        Yes         \n",
       "2 0.34             711                        No          \n",
       "3 2.82            1156                        No          \n",
       "4 2.07            1407                        Yes         \n",
       "5 1.58             664                        No          \n",
       "6 0.82            1362                        Yes         "
      ]
     },
     "metadata": {},
     "output_type": "display_data"
    }
   ],
   "source": [
    "FINAL_DATA <- Final_Data2 %>% rename(COUNTRY_CODE = country_code, COUNTRY_NAME = country_name, OECD_COUNTRY = oecd_country, POPULATION = population, TOTAL_CASES = total_cases ,\n",
    "                       TOTAL_DEATHS = total_deaths, TOTAL_VACCINATIONS = total_vaccinations , ONE_DOSE_VACCINATED = vaccinated_1dose , \n",
    "                       FULLY_VACCINATED = fully_vacccinated , FIRST_VACCINE_DATE = first_vaccine_date, LAST_UPDATED_DATE = last_updated_date, \n",
    "                       STRINGENCY_INDEX = stringency, URBANISATION_RATE = urbanisation_rate , URBANISATION_YEARLY_CHANGE = urbanisation_yearly_change,\n",
    "                       GDP_PER_CAP = gdp_per_cap, DENSITY = density, AVG_TEMPARATURE = avg_temperature, PRECIPITATION = precipitation, INFECTION_RATE_PER_1000 = Infection_Rate_per_1000,\n",
    "                      DEATHS_PER_1000 = Deaths_per_1000, TOTAL_VACCINATIONS_PER_1000 = total_vaccinations_per_1000) \n",
    "head(FINAL_DATA)\n",
    "write_csv (FINAL_DATA, \"FINAL_DATA.csv\")"
   ]
  },
  {
   "cell_type": "code",
   "execution_count": null,
   "id": "51fa71c2-7c9c-432c-aa21-9c21c6c3b6e4",
   "metadata": {},
   "outputs": [],
   "source": []
  },
  {
   "cell_type": "code",
   "execution_count": null,
   "id": "7120b3bf-d6dd-40e3-820d-4e28bc72d8d2",
   "metadata": {},
   "outputs": [],
   "source": []
  }
 ],
 "metadata": {
  "kernelspec": {
   "display_name": "R",
   "language": "R",
   "name": "ir"
  },
  "language_info": {
   "codemirror_mode": "r",
   "file_extension": ".r",
   "mimetype": "text/x-r-source",
   "name": "R",
   "pygments_lexer": "r",
   "version": "4.1.0"
  }
 },
 "nbformat": 4,
 "nbformat_minor": 5
}
