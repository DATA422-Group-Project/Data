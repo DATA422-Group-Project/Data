{
 "cells": [
  {
   "cell_type": "code",
   "execution_count": null,
   "id": "5fd2db0a-85a7-4f1e-b7e7-f5ee52dc8fa7",
   "metadata": {},
   "outputs": [],
   "source": [
    "install.packages(\"rvest\")\n",
    "install.packages(\"dplyr\")\n",
    "install.packages(\"stringr\")"
   ]
  },
  {
   "cell_type": "code",
   "execution_count": 1,
   "id": "bfd4a738-6873-44cf-9a0a-46e31ae7c23a",
   "metadata": {},
   "outputs": [
    {
     "name": "stderr",
     "output_type": "stream",
     "text": [
      "\n",
      "Attaching package: ‘dplyr’\n",
      "\n",
      "\n",
      "The following objects are masked from ‘package:stats’:\n",
      "\n",
      "    filter, lag\n",
      "\n",
      "\n",
      "The following objects are masked from ‘package:base’:\n",
      "\n",
      "    intersect, setdiff, setequal, union\n",
      "\n",
      "\n"
     ]
    }
   ],
   "source": [
    "\n",
    "library(rvest)\n",
    "library(dplyr)\n",
    "library(stringr)"
   ]
  },
  {
   "cell_type": "code",
   "execution_count": null,
   "id": "4ff51574-0141-41a4-a61b-d81a17e21bfd",
   "metadata": {},
   "outputs": [],
   "source": [
    "#loading the website:\n",
    "link <- \"https://www.cia.gov/the-world-factbook/field/urbanization/\"\n",
    "page <- read_html(link)\n",
    "\n",
    "\n",
    "#extracting the information from wesite:\n",
    "country <- page %>% html_nodes(\".content-area-content a\") %>% html_text()\n",
    "country_urban_rate <- page %>% html_nodes(\"li p\") %>% html_text()\n",
    "\n",
    "#extracting the urbanisation rate by ountry:\n",
    "urbanisation_rate <-  str_match(country_urban_rate, \"urban population:\\\\s*(.*?)\\\\s*% of total population\")[,2]\n",
    "urbanisation_yearly_change <-  str_match(country_urban_rate, \"rate of urbanization:\\\\s*(.*?)\\\\s*% annual rate of change\")[,2]\n",
    "\n",
    "#creating a dataframe:\n",
    "urban_df <- data.frame(country, urbanisation_rate, urbanisation_yearly_change)\n"
   ]
  },
  {
   "cell_type": "code",
   "execution_count": null,
   "id": "f2290f00-4f86-4f55-a748-42ef1735d8d3",
   "metadata": {},
   "outputs": [],
   "source": [
    "#creating population dataframe:\n",
    "#loading the website:\n",
    "pop_link <- \"https://www.cia.gov/the-world-factbook/field/population/country-comparison?fbclid=IwAR2jG4pZYN8gcvnSppY9VOROoqQIiAA48EIVy24LKpwlEpoHHTNJJcalVmU\"\n",
    "pop_page <- read_html(pop_link)\n",
    "\n",
    "\n",
    "#extracting the information from wesite:\n",
    "\n",
    "pop_table <- pop_page %>% html_node(\"table\") %>% html_table()\n",
    "\n",
    "colnames(pop_table) <- c(\"rank\", \"country\", \"population\", \"date_of_Information\")\n"
   ]
  },
  {
   "cell_type": "code",
   "execution_count": null,
   "id": "3f4e61cf-47db-4c2c-a14b-7545b54097d1",
   "metadata": {},
   "outputs": [],
   "source": [
    "#check for the difference in the two list:\n",
    "setdiff(pop_table$country, urban_df$country)\n",
    "setdiff(urban_df$country, pop_table$country)"
   ]
  },
  {
   "cell_type": "code",
   "execution_count": null,
   "id": "934d909b-74ff-461a-b0b4-9c1960424945",
   "metadata": {},
   "outputs": [],
   "source": [
    "#merging datasets by country:\n",
    "\n",
    "df <- merge(pop_table, urban_df, by= \"country\")"
   ]
  },
  {
   "cell_type": "code",
   "execution_count": null,
   "id": "f9cc6345-fc0d-488e-b5aa-f0d458e55c60",
   "metadata": {},
   "outputs": [],
   "source": [
    "#creating population density to match population data:\n",
    "size_link <- \"https://www.cia.gov/the-world-factbook/field/area/country-comparison\"\n",
    "size_page <- read_html(size_link)\n",
    "\n",
    "\n",
    "#extracting the information from wesite:\n",
    "\n",
    "size_table <- size_page %>% html_node(\"table\") %>% html_table() %>% select(1:3)\n",
    "\n",
    "colnames(size_table) <- c(\"rank\", \"country\", \"size\")\n"
   ]
  },
  {
   "cell_type": "code",
   "execution_count": null,
   "id": "3b2b90ce-6361-4cce-9ab7-c1e3d3ae9fd8",
   "metadata": {},
   "outputs": [],
   "source": [
    "\n",
    "#difference:\n",
    "setdiff(size_table$country, df$country)"
   ]
  },
  {
   "cell_type": "code",
   "execution_count": null,
   "id": "fd7c2f44-e042-4637-84df-39e4d7bb0779",
   "metadata": {},
   "outputs": [],
   "source": [
    "#merge the dataframe and create population density based on size and population\n",
    "f <- merge(df, size_table, by= \"country\")\n",
    "str(df)\n",
    "\n",
    "df <- df %>% mutate(density = round(as.numeric(gsub(\",\",\"\",population))/ as.numeric(gsub(\",\",\"\",size)), 2))\n",
    "\n",
    "\n",
    "df <- df %>% select(c(1,3,5,6, 9))\n",
    "\n",
    "df"
   ]
  },
  {
   "cell_type": "code",
   "execution_count": null,
   "id": "57aa9e7d-f05b-4b7a-99da-0e591052c40c",
   "metadata": {},
   "outputs": [],
   "source": [
    "#save DF\n",
    "write.csv(df, \"DataFrame.csv\")"
   ]
  }
 ],
 "metadata": {
  "kernelspec": {
   "display_name": "R",
   "language": "R",
   "name": "ir"
  },
  "language_info": {
   "codemirror_mode": "r",
   "file_extension": ".r",
   "mimetype": "text/x-r-source",
   "name": "R",
   "pygments_lexer": "r",
   "version": "4.1.0"
  }
 },
 "nbformat": 4,
 "nbformat_minor": 5
}
