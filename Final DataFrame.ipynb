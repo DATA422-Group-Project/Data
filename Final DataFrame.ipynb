{
 "cells": [
  {
   "cell_type": "code",
   "execution_count": 3,
   "id": "fd38e4b0-f308-4421-8023-f36033c819d4",
   "metadata": {},
   "outputs": [
    {
     "name": "stderr",
     "output_type": "stream",
     "text": [
      "\n",
      "Attaching package: 'dplyr'\n",
      "\n",
      "\n",
      "The following objects are masked from 'package:stats':\n",
      "\n",
      "    filter, lag\n",
      "\n",
      "\n",
      "The following objects are masked from 'package:base':\n",
      "\n",
      "    intersect, setdiff, setequal, union\n",
      "\n",
      "\n",
      "-- \u001b[1mAttaching packages\u001b[22m --------------------------------------- tidyverse 1.3.1 --\n",
      "\n",
      "\u001b[32mv\u001b[39m \u001b[34mggplot2\u001b[39m 3.3.5     \u001b[32mv\u001b[39m \u001b[34mpurrr  \u001b[39m 0.3.4\n",
      "\u001b[32mv\u001b[39m \u001b[34mtibble \u001b[39m 3.1.3     \u001b[32mv\u001b[39m \u001b[34mstringr\u001b[39m 1.4.0\n",
      "\u001b[32mv\u001b[39m \u001b[34mtidyr  \u001b[39m 1.1.3     \u001b[32mv\u001b[39m \u001b[34mforcats\u001b[39m 0.5.1\n",
      "\u001b[32mv\u001b[39m \u001b[34mreadr  \u001b[39m 2.0.0     \n",
      "\n",
      "-- \u001b[1mConflicts\u001b[22m ------------------------------------------ tidyverse_conflicts() --\n",
      "\u001b[31mx\u001b[39m \u001b[34mdplyr\u001b[39m::\u001b[32mfilter()\u001b[39m masks \u001b[34mstats\u001b[39m::filter()\n",
      "\u001b[31mx\u001b[39m \u001b[34mdplyr\u001b[39m::\u001b[32mlag()\u001b[39m    masks \u001b[34mstats\u001b[39m::lag()\n",
      "\n",
      "Warning message:\n",
      "\"package 'countrycode' was built under R version 4.1.1\"\n"
     ]
    }
   ],
   "source": [
    "#installing packages\n",
    "library(dplyr)\n",
    "library(tidyverse)\n",
    "#install.packages(\"countrycode\")\n",
    "library(countrycode)"
   ]
  },
  {
   "cell_type": "code",
   "execution_count": 4,
   "id": "b61347eb-a8fa-441d-8612-909a1d97becc",
   "metadata": {},
   "outputs": [
    {
     "data": {
      "text/html": [
       "<table class=\"dataframe\">\n",
       "<caption>A data.frame: 6 × 5</caption>\n",
       "<thead>\n",
       "\t<tr><th></th><th scope=col>fips</th><th scope=col>tavg</th><th scope=col>prcp</th><th scope=col>iso3166</th><th scope=col>Name</th></tr>\n",
       "\t<tr><th></th><th scope=col>&lt;chr&gt;</th><th scope=col>&lt;dbl&gt;</th><th scope=col>&lt;dbl&gt;</th><th scope=col>&lt;chr&gt;</th><th scope=col>&lt;chr&gt;</th></tr>\n",
       "</thead>\n",
       "<tbody>\n",
       "\t<tr><th scope=row>1</th><td>AE</td><td>30.60948</td><td> 0.0000000</td><td>AE</td><td>United Arab Emirates</td></tr>\n",
       "\t<tr><th scope=row>2</th><td>AF</td><td>19.30219</td><td> 3.3200000</td><td>AF</td><td>Afghanistan         </td></tr>\n",
       "\t<tr><th scope=row>3</th><td>AG</td><td>22.93812</td><td> 0.7833752</td><td>DZ</td><td>Algeria             </td></tr>\n",
       "\t<tr><th scope=row>4</th><td>AJ</td><td>17.32671</td><td>10.9521967</td><td>AZ</td><td>Azerbaijan          </td></tr>\n",
       "\t<tr><th scope=row>5</th><td>AL</td><td>17.23447</td><td>        NA</td><td>AL</td><td>Albania             </td></tr>\n",
       "\t<tr><th scope=row>6</th><td>AM</td><td>10.79957</td><td> 3.0507692</td><td>AM</td><td>Armenia             </td></tr>\n",
       "</tbody>\n",
       "</table>\n"
      ],
      "text/latex": [
       "A data.frame: 6 × 5\n",
       "\\begin{tabular}{r|lllll}\n",
       "  & fips & tavg & prcp & iso3166 & Name\\\\\n",
       "  & <chr> & <dbl> & <dbl> & <chr> & <chr>\\\\\n",
       "\\hline\n",
       "\t1 & AE & 30.60948 &  0.0000000 & AE & United Arab Emirates\\\\\n",
       "\t2 & AF & 19.30219 &  3.3200000 & AF & Afghanistan         \\\\\n",
       "\t3 & AG & 22.93812 &  0.7833752 & DZ & Algeria             \\\\\n",
       "\t4 & AJ & 17.32671 & 10.9521967 & AZ & Azerbaijan          \\\\\n",
       "\t5 & AL & 17.23447 &         NA & AL & Albania             \\\\\n",
       "\t6 & AM & 10.79957 &  3.0507692 & AM & Armenia             \\\\\n",
       "\\end{tabular}\n"
      ],
      "text/markdown": [
       "\n",
       "A data.frame: 6 × 5\n",
       "\n",
       "| <!--/--> | fips &lt;chr&gt; | tavg &lt;dbl&gt; | prcp &lt;dbl&gt; | iso3166 &lt;chr&gt; | Name &lt;chr&gt; |\n",
       "|---|---|---|---|---|---|\n",
       "| 1 | AE | 30.60948 |  0.0000000 | AE | United Arab Emirates |\n",
       "| 2 | AF | 19.30219 |  3.3200000 | AF | Afghanistan          |\n",
       "| 3 | AG | 22.93812 |  0.7833752 | DZ | Algeria              |\n",
       "| 4 | AJ | 17.32671 | 10.9521967 | AZ | Azerbaijan           |\n",
       "| 5 | AL | 17.23447 |         NA | AL | Albania              |\n",
       "| 6 | AM | 10.79957 |  3.0507692 | AM | Armenia              |\n",
       "\n"
      ],
      "text/plain": [
       "  fips tavg     prcp       iso3166 Name                \n",
       "1 AE   30.60948  0.0000000 AE      United Arab Emirates\n",
       "2 AF   19.30219  3.3200000 AF      Afghanistan         \n",
       "3 AG   22.93812  0.7833752 DZ      Algeria             \n",
       "4 AJ   17.32671 10.9521967 AZ      Azerbaijan          \n",
       "5 AL   17.23447         NA AL      Albania             \n",
       "6 AM   10.79957  3.0507692 AM      Armenia             "
      ]
     },
     "metadata": {},
     "output_type": "display_data"
    },
    {
     "data": {
      "text/html": [
       "<table class=\"dataframe\">\n",
       "<caption>A data.frame: 6 × 9</caption>\n",
       "<thead>\n",
       "\t<tr><th></th><th scope=col>X</th><th scope=col>country</th><th scope=col>urbanisation_rate</th><th scope=col>urbanisation_yearly_change</th><th scope=col>gdp_per_cap</th><th scope=col>size</th><th scope=col>population</th><th scope=col>density</th><th scope=col>country_code</th></tr>\n",
       "\t<tr><th></th><th scope=col>&lt;int&gt;</th><th scope=col>&lt;chr&gt;</th><th scope=col>&lt;dbl&gt;</th><th scope=col>&lt;dbl&gt;</th><th scope=col>&lt;int&gt;</th><th scope=col>&lt;dbl&gt;</th><th scope=col>&lt;int&gt;</th><th scope=col>&lt;dbl&gt;</th><th scope=col>&lt;chr&gt;</th></tr>\n",
       "</thead>\n",
       "<tbody>\n",
       "\t<tr><th scope=row>1</th><td>1</td><td>Afghanistan   </td><td>26.3</td><td>3.34</td><td> 2065</td><td> 652230</td><td>37466414</td><td> 57.44</td><td>AFG</td></tr>\n",
       "\t<tr><th scope=row>2</th><td>2</td><td>Albania       </td><td>63.0</td><td>1.29</td><td>13965</td><td>  28748</td><td> 3088385</td><td>107.43</td><td>ALB</td></tr>\n",
       "\t<tr><th scope=row>3</th><td>3</td><td>Algeria       </td><td>74.3</td><td>1.99</td><td>11511</td><td>2381740</td><td>43576691</td><td> 18.30</td><td>DZA</td></tr>\n",
       "\t<tr><th scope=row>4</th><td>4</td><td>American Samoa</td><td>87.2</td><td>0.26</td><td>11200</td><td>    224</td><td>   46366</td><td>206.99</td><td>ASM</td></tr>\n",
       "\t<tr><th scope=row>5</th><td>5</td><td>Andorra       </td><td>87.9</td><td>0.11</td><td>49900</td><td>    468</td><td>   85645</td><td>183.00</td><td>AND</td></tr>\n",
       "\t<tr><th scope=row>6</th><td>6</td><td>Angola        </td><td>67.5</td><td>4.04</td><td> 6670</td><td>1246700</td><td>33642646</td><td> 26.99</td><td>AGO</td></tr>\n",
       "</tbody>\n",
       "</table>\n"
      ],
      "text/latex": [
       "A data.frame: 6 × 9\n",
       "\\begin{tabular}{r|lllllllll}\n",
       "  & X & country & urbanisation\\_rate & urbanisation\\_yearly\\_change & gdp\\_per\\_cap & size & population & density & country\\_code\\\\\n",
       "  & <int> & <chr> & <dbl> & <dbl> & <int> & <dbl> & <int> & <dbl> & <chr>\\\\\n",
       "\\hline\n",
       "\t1 & 1 & Afghanistan    & 26.3 & 3.34 &  2065 &  652230 & 37466414 &  57.44 & AFG\\\\\n",
       "\t2 & 2 & Albania        & 63.0 & 1.29 & 13965 &   28748 &  3088385 & 107.43 & ALB\\\\\n",
       "\t3 & 3 & Algeria        & 74.3 & 1.99 & 11511 & 2381740 & 43576691 &  18.30 & DZA\\\\\n",
       "\t4 & 4 & American Samoa & 87.2 & 0.26 & 11200 &     224 &    46366 & 206.99 & ASM\\\\\n",
       "\t5 & 5 & Andorra        & 87.9 & 0.11 & 49900 &     468 &    85645 & 183.00 & AND\\\\\n",
       "\t6 & 6 & Angola         & 67.5 & 4.04 &  6670 & 1246700 & 33642646 &  26.99 & AGO\\\\\n",
       "\\end{tabular}\n"
      ],
      "text/markdown": [
       "\n",
       "A data.frame: 6 × 9\n",
       "\n",
       "| <!--/--> | X &lt;int&gt; | country &lt;chr&gt; | urbanisation_rate &lt;dbl&gt; | urbanisation_yearly_change &lt;dbl&gt; | gdp_per_cap &lt;int&gt; | size &lt;dbl&gt; | population &lt;int&gt; | density &lt;dbl&gt; | country_code &lt;chr&gt; |\n",
       "|---|---|---|---|---|---|---|---|---|---|\n",
       "| 1 | 1 | Afghanistan    | 26.3 | 3.34 |  2065 |  652230 | 37466414 |  57.44 | AFG |\n",
       "| 2 | 2 | Albania        | 63.0 | 1.29 | 13965 |   28748 |  3088385 | 107.43 | ALB |\n",
       "| 3 | 3 | Algeria        | 74.3 | 1.99 | 11511 | 2381740 | 43576691 |  18.30 | DZA |\n",
       "| 4 | 4 | American Samoa | 87.2 | 0.26 | 11200 |     224 |    46366 | 206.99 | ASM |\n",
       "| 5 | 5 | Andorra        | 87.9 | 0.11 | 49900 |     468 |    85645 | 183.00 | AND |\n",
       "| 6 | 6 | Angola         | 67.5 | 4.04 |  6670 | 1246700 | 33642646 |  26.99 | AGO |\n",
       "\n"
      ],
      "text/plain": [
       "  X country        urbanisation_rate urbanisation_yearly_change gdp_per_cap\n",
       "1 1 Afghanistan    26.3              3.34                        2065      \n",
       "2 2 Albania        63.0              1.29                       13965      \n",
       "3 3 Algeria        74.3              1.99                       11511      \n",
       "4 4 American Samoa 87.2              0.26                       11200      \n",
       "5 5 Andorra        87.9              0.11                       49900      \n",
       "6 6 Angola         67.5              4.04                        6670      \n",
       "  size    population density country_code\n",
       "1  652230 37466414    57.44  AFG         \n",
       "2   28748  3088385   107.43  ALB         \n",
       "3 2381740 43576691    18.30  DZA         \n",
       "4     224    46366   206.99  ASM         \n",
       "5     468    85645   183.00  AND         \n",
       "6 1246700 33642646    26.99  AGO         "
      ]
     },
     "metadata": {},
     "output_type": "display_data"
    },
    {
     "data": {
      "text/html": [
       "<table class=\"dataframe\">\n",
       "<caption>A data.frame: 6 × 12</caption>\n",
       "<thead>\n",
       "\t<tr><th></th><th scope=col>X</th><th scope=col>country_code</th><th scope=col>country_name</th><th scope=col>total_cases</th><th scope=col>total_deaths</th><th scope=col>total_vaccinations</th><th scope=col>vaccinated_1dose</th><th scope=col>fully_vacccinated</th><th scope=col>total_vaccinations_per100</th><th scope=col>first_vaccine_date</th><th scope=col>last_updated_date</th><th scope=col>stringency_index</th></tr>\n",
       "\t<tr><th></th><th scope=col>&lt;int&gt;</th><th scope=col>&lt;chr&gt;</th><th scope=col>&lt;chr&gt;</th><th scope=col>&lt;int&gt;</th><th scope=col>&lt;int&gt;</th><th scope=col>&lt;dbl&gt;</th><th scope=col>&lt;int&gt;</th><th scope=col>&lt;int&gt;</th><th scope=col>&lt;dbl&gt;</th><th scope=col>&lt;chr&gt;</th><th scope=col>&lt;chr&gt;</th><th scope=col>&lt;dbl&gt;</th></tr>\n",
       "</thead>\n",
       "<tbody>\n",
       "\t<tr><th scope=row>1</th><td>1</td><td>USA</td><td>United States of America</td><td>43792254</td><td>703599</td><td>407615184</td><td>229155687</td><td>186883154</td><td>123.146</td><td>2020-12-14</td><td>2021-10-08</td><td> 93.52</td></tr>\n",
       "\t<tr><th scope=row>2</th><td>2</td><td>IND</td><td>India                   </td><td>33971607</td><td>450782</td><td>915465826</td><td>663807388</td><td>251658438</td><td> 66.338</td><td>2021-01-16</td><td>2021-10-05</td><td>100.00</td></tr>\n",
       "\t<tr><th scope=row>3</th><td>3</td><td>BRA</td><td>Brazil                  </td><td>21516967</td><td>599359</td><td>235087603</td><td>147951632</td><td> 91654941</td><td>110.599</td><td>2021-01-17</td><td>2021-10-08</td><td> 96.76</td></tr>\n",
       "\t<tr><th scope=row>4</th><td>4</td><td>GBR</td><td>The United Kingdom      </td><td> 8154310</td><td>137735</td><td> 93948903</td><td> 48956859</td><td> 44877400</td><td>138.400</td><td>2020-12-21</td><td>2021-10-05</td><td> 87.96</td></tr>\n",
       "\t<tr><th scope=row>5</th><td>5</td><td>RUS</td><td>Russian Federation      </td><td> 7804774</td><td>217372</td><td> 91151285</td><td> 48610971</td><td> 42539895</td><td> 62.500</td><td>NA        </td><td>2021-10-06</td><td> 87.04</td></tr>\n",
       "\t<tr><th scope=row>6</th><td>6</td><td>TUR</td><td>Turkey                  </td><td> 7444552</td><td> 66180</td><td>110333793</td><td> 54038516</td><td> 45664544</td><td>130.800</td><td>NA        </td><td>2021-10-06</td><td> 87.04</td></tr>\n",
       "</tbody>\n",
       "</table>\n"
      ],
      "text/latex": [
       "A data.frame: 6 × 12\n",
       "\\begin{tabular}{r|llllllllllll}\n",
       "  & X & country\\_code & country\\_name & total\\_cases & total\\_deaths & total\\_vaccinations & vaccinated\\_1dose & fully\\_vacccinated & total\\_vaccinations\\_per100 & first\\_vaccine\\_date & last\\_updated\\_date & stringency\\_index\\\\\n",
       "  & <int> & <chr> & <chr> & <int> & <int> & <dbl> & <int> & <int> & <dbl> & <chr> & <chr> & <dbl>\\\\\n",
       "\\hline\n",
       "\t1 & 1 & USA & United States of America & 43792254 & 703599 & 407615184 & 229155687 & 186883154 & 123.146 & 2020-12-14 & 2021-10-08 &  93.52\\\\\n",
       "\t2 & 2 & IND & India                    & 33971607 & 450782 & 915465826 & 663807388 & 251658438 &  66.338 & 2021-01-16 & 2021-10-05 & 100.00\\\\\n",
       "\t3 & 3 & BRA & Brazil                   & 21516967 & 599359 & 235087603 & 147951632 &  91654941 & 110.599 & 2021-01-17 & 2021-10-08 &  96.76\\\\\n",
       "\t4 & 4 & GBR & The United Kingdom       &  8154310 & 137735 &  93948903 &  48956859 &  44877400 & 138.400 & 2020-12-21 & 2021-10-05 &  87.96\\\\\n",
       "\t5 & 5 & RUS & Russian Federation       &  7804774 & 217372 &  91151285 &  48610971 &  42539895 &  62.500 & NA         & 2021-10-06 &  87.04\\\\\n",
       "\t6 & 6 & TUR & Turkey                   &  7444552 &  66180 & 110333793 &  54038516 &  45664544 & 130.800 & NA         & 2021-10-06 &  87.04\\\\\n",
       "\\end{tabular}\n"
      ],
      "text/markdown": [
       "\n",
       "A data.frame: 6 × 12\n",
       "\n",
       "| <!--/--> | X &lt;int&gt; | country_code &lt;chr&gt; | country_name &lt;chr&gt; | total_cases &lt;int&gt; | total_deaths &lt;int&gt; | total_vaccinations &lt;dbl&gt; | vaccinated_1dose &lt;int&gt; | fully_vacccinated &lt;int&gt; | total_vaccinations_per100 &lt;dbl&gt; | first_vaccine_date &lt;chr&gt; | last_updated_date &lt;chr&gt; | stringency_index &lt;dbl&gt; |\n",
       "|---|---|---|---|---|---|---|---|---|---|---|---|---|\n",
       "| 1 | 1 | USA | United States of America | 43792254 | 703599 | 407615184 | 229155687 | 186883154 | 123.146 | 2020-12-14 | 2021-10-08 |  93.52 |\n",
       "| 2 | 2 | IND | India                    | 33971607 | 450782 | 915465826 | 663807388 | 251658438 |  66.338 | 2021-01-16 | 2021-10-05 | 100.00 |\n",
       "| 3 | 3 | BRA | Brazil                   | 21516967 | 599359 | 235087603 | 147951632 |  91654941 | 110.599 | 2021-01-17 | 2021-10-08 |  96.76 |\n",
       "| 4 | 4 | GBR | The United Kingdom       |  8154310 | 137735 |  93948903 |  48956859 |  44877400 | 138.400 | 2020-12-21 | 2021-10-05 |  87.96 |\n",
       "| 5 | 5 | RUS | Russian Federation       |  7804774 | 217372 |  91151285 |  48610971 |  42539895 |  62.500 | NA         | 2021-10-06 |  87.04 |\n",
       "| 6 | 6 | TUR | Turkey                   |  7444552 |  66180 | 110333793 |  54038516 |  45664544 | 130.800 | NA         | 2021-10-06 |  87.04 |\n",
       "\n"
      ],
      "text/plain": [
       "  X country_code country_name             total_cases total_deaths\n",
       "1 1 USA          United States of America 43792254    703599      \n",
       "2 2 IND          India                    33971607    450782      \n",
       "3 3 BRA          Brazil                   21516967    599359      \n",
       "4 4 GBR          The United Kingdom        8154310    137735      \n",
       "5 5 RUS          Russian Federation        7804774    217372      \n",
       "6 6 TUR          Turkey                    7444552     66180      \n",
       "  total_vaccinations vaccinated_1dose fully_vacccinated\n",
       "1 407615184          229155687        186883154        \n",
       "2 915465826          663807388        251658438        \n",
       "3 235087603          147951632         91654941        \n",
       "4  93948903           48956859         44877400        \n",
       "5  91151285           48610971         42539895        \n",
       "6 110333793           54038516         45664544        \n",
       "  total_vaccinations_per100 first_vaccine_date last_updated_date\n",
       "1 123.146                   2020-12-14         2021-10-08       \n",
       "2  66.338                   2021-01-16         2021-10-05       \n",
       "3 110.599                   2021-01-17         2021-10-08       \n",
       "4 138.400                   2020-12-21         2021-10-05       \n",
       "5  62.500                   NA                 2021-10-06       \n",
       "6 130.800                   NA                 2021-10-06       \n",
       "  stringency_index\n",
       "1  93.52          \n",
       "2 100.00          \n",
       "3  96.76          \n",
       "4  87.96          \n",
       "5  87.04          \n",
       "6  87.04          "
      ]
     },
     "metadata": {},
     "output_type": "display_data"
    },
    {
     "data": {
      "text/html": [
       "<table class=\"dataframe\">\n",
       "<caption>A data.frame: 1 × 1</caption>\n",
       "<thead>\n",
       "\t<tr><th scope=col>n</th></tr>\n",
       "\t<tr><th scope=col>&lt;int&gt;</th></tr>\n",
       "</thead>\n",
       "<tbody>\n",
       "\t<tr><td>225</td></tr>\n",
       "</tbody>\n",
       "</table>\n"
      ],
      "text/latex": [
       "A data.frame: 1 × 1\n",
       "\\begin{tabular}{l}\n",
       " n\\\\\n",
       " <int>\\\\\n",
       "\\hline\n",
       "\t 225\\\\\n",
       "\\end{tabular}\n"
      ],
      "text/markdown": [
       "\n",
       "A data.frame: 1 × 1\n",
       "\n",
       "| n &lt;int&gt; |\n",
       "|---|\n",
       "| 225 |\n",
       "\n"
      ],
      "text/plain": [
       "  n  \n",
       "1 225"
      ]
     },
     "metadata": {},
     "output_type": "display_data"
    },
    {
     "data": {
      "text/html": [
       "<table class=\"dataframe\">\n",
       "<caption>A data.frame: 1 × 1</caption>\n",
       "<thead>\n",
       "\t<tr><th scope=col>n</th></tr>\n",
       "\t<tr><th scope=col>&lt;int&gt;</th></tr>\n",
       "</thead>\n",
       "<tbody>\n",
       "\t<tr><td>231</td></tr>\n",
       "</tbody>\n",
       "</table>\n"
      ],
      "text/latex": [
       "A data.frame: 1 × 1\n",
       "\\begin{tabular}{l}\n",
       " n\\\\\n",
       " <int>\\\\\n",
       "\\hline\n",
       "\t 231\\\\\n",
       "\\end{tabular}\n"
      ],
      "text/markdown": [
       "\n",
       "A data.frame: 1 × 1\n",
       "\n",
       "| n &lt;int&gt; |\n",
       "|---|\n",
       "| 231 |\n",
       "\n"
      ],
      "text/plain": [
       "  n  \n",
       "1 231"
      ]
     },
     "metadata": {},
     "output_type": "display_data"
    }
   ],
   "source": [
    "# read the datasets\n",
    "climate_data <- read.csv(\"climate.csv\")\n",
    "population_data <- read.csv(\"PopulationData.csv\")\n",
    "covid_data <- read.csv(\"Covid_Data_New.csv\")\n",
    "head(climate_data)\n",
    "head(population_data)\n",
    "head(covid_data)\n",
    "count(population_data)\n",
    "count(covid_data)"
   ]
  },
  {
   "cell_type": "code",
   "execution_count": 5,
   "id": "ab8da98a-5574-4120-bf39-e12ab996948a",
   "metadata": {},
   "outputs": [
    {
     "data": {
      "text/html": [
       "<table class=\"dataframe\">\n",
       "<caption>A data.frame: 6 × 16</caption>\n",
       "<thead>\n",
       "\t<tr><th></th><th scope=col>country_code</th><th scope=col>country_name</th><th scope=col>total_cases</th><th scope=col>total_deaths</th><th scope=col>total_vaccinations</th><th scope=col>vaccinated_1dose</th><th scope=col>fully_vacccinated</th><th scope=col>total_vaccinations_per100</th><th scope=col>first_vaccine_date</th><th scope=col>last_updated_date</th><th scope=col>stringency_index</th><th scope=col>population</th><th scope=col>urbanisation_rate</th><th scope=col>urbanisation_yearly_change</th><th scope=col>gdp_per_cap</th><th scope=col>density</th></tr>\n",
       "\t<tr><th></th><th scope=col>&lt;chr&gt;</th><th scope=col>&lt;chr&gt;</th><th scope=col>&lt;int&gt;</th><th scope=col>&lt;int&gt;</th><th scope=col>&lt;dbl&gt;</th><th scope=col>&lt;int&gt;</th><th scope=col>&lt;int&gt;</th><th scope=col>&lt;dbl&gt;</th><th scope=col>&lt;chr&gt;</th><th scope=col>&lt;chr&gt;</th><th scope=col>&lt;dbl&gt;</th><th scope=col>&lt;int&gt;</th><th scope=col>&lt;dbl&gt;</th><th scope=col>&lt;dbl&gt;</th><th scope=col>&lt;int&gt;</th><th scope=col>&lt;dbl&gt;</th></tr>\n",
       "</thead>\n",
       "<tbody>\n",
       "\t<tr><th scope=row>1</th><td>USA</td><td>United States of America</td><td>43792254</td><td>703599</td><td>407615184</td><td>229155687</td><td>186883154</td><td>123.146</td><td>2020-12-14</td><td>2021-10-08</td><td> 93.52</td><td> 334998398</td><td>82.9</td><td>0.96</td><td>62530</td><td> 34.07</td></tr>\n",
       "\t<tr><th scope=row>2</th><td>IND</td><td>India                   </td><td>33971607</td><td>450782</td><td>915465826</td><td>663807388</td><td>251658438</td><td> 66.338</td><td>2021-01-16</td><td>2021-10-05</td><td>100.00</td><td>1339330514</td><td>35.4</td><td>2.33</td><td> 6700</td><td>407.43</td></tr>\n",
       "\t<tr><th scope=row>3</th><td>BRA</td><td>Brazil                  </td><td>21516967</td><td>599359</td><td>235087603</td><td>147951632</td><td> 91654941</td><td>110.599</td><td>2021-01-17</td><td>2021-10-08</td><td> 96.76</td><td> 213445417</td><td>87.3</td><td>0.87</td><td>14652</td><td> 25.06</td></tr>\n",
       "\t<tr><th scope=row>4</th><td>GBR</td><td>The United Kingdom      </td><td> 8154310</td><td>137735</td><td> 93948903</td><td> 48956859</td><td> 44877400</td><td>138.400</td><td>2020-12-21</td><td>2021-10-05</td><td> 87.96</td><td>  67081000</td><td>84.2</td><td>0.80</td><td>46659</td><td>275.36</td></tr>\n",
       "\t<tr><th scope=row>5</th><td>RUS</td><td>Russian Federation      </td><td> 7804774</td><td>217372</td><td> 91151285</td><td> 48610971</td><td> 42539895</td><td> 62.500</td><td>NA        </td><td>2021-10-06</td><td> 87.04</td><td> 142320790</td><td>74.9</td><td>0.11</td><td>27044</td><td>  8.32</td></tr>\n",
       "\t<tr><th scope=row>6</th><td>TUR</td><td>Turkey                  </td><td> 7444552</td><td> 66180</td><td>110333793</td><td> 54038516</td><td> 45664544</td><td>130.800</td><td>NA        </td><td>2021-10-06</td><td> 87.04</td><td>  82482383</td><td>76.6</td><td>1.11</td><td>28424</td><td>105.27</td></tr>\n",
       "</tbody>\n",
       "</table>\n"
      ],
      "text/latex": [
       "A data.frame: 6 × 16\n",
       "\\begin{tabular}{r|llllllllllllllll}\n",
       "  & country\\_code & country\\_name & total\\_cases & total\\_deaths & total\\_vaccinations & vaccinated\\_1dose & fully\\_vacccinated & total\\_vaccinations\\_per100 & first\\_vaccine\\_date & last\\_updated\\_date & stringency\\_index & population & urbanisation\\_rate & urbanisation\\_yearly\\_change & gdp\\_per\\_cap & density\\\\\n",
       "  & <chr> & <chr> & <int> & <int> & <dbl> & <int> & <int> & <dbl> & <chr> & <chr> & <dbl> & <int> & <dbl> & <dbl> & <int> & <dbl>\\\\\n",
       "\\hline\n",
       "\t1 & USA & United States of America & 43792254 & 703599 & 407615184 & 229155687 & 186883154 & 123.146 & 2020-12-14 & 2021-10-08 &  93.52 &  334998398 & 82.9 & 0.96 & 62530 &  34.07\\\\\n",
       "\t2 & IND & India                    & 33971607 & 450782 & 915465826 & 663807388 & 251658438 &  66.338 & 2021-01-16 & 2021-10-05 & 100.00 & 1339330514 & 35.4 & 2.33 &  6700 & 407.43\\\\\n",
       "\t3 & BRA & Brazil                   & 21516967 & 599359 & 235087603 & 147951632 &  91654941 & 110.599 & 2021-01-17 & 2021-10-08 &  96.76 &  213445417 & 87.3 & 0.87 & 14652 &  25.06\\\\\n",
       "\t4 & GBR & The United Kingdom       &  8154310 & 137735 &  93948903 &  48956859 &  44877400 & 138.400 & 2020-12-21 & 2021-10-05 &  87.96 &   67081000 & 84.2 & 0.80 & 46659 & 275.36\\\\\n",
       "\t5 & RUS & Russian Federation       &  7804774 & 217372 &  91151285 &  48610971 &  42539895 &  62.500 & NA         & 2021-10-06 &  87.04 &  142320790 & 74.9 & 0.11 & 27044 &   8.32\\\\\n",
       "\t6 & TUR & Turkey                   &  7444552 &  66180 & 110333793 &  54038516 &  45664544 & 130.800 & NA         & 2021-10-06 &  87.04 &   82482383 & 76.6 & 1.11 & 28424 & 105.27\\\\\n",
       "\\end{tabular}\n"
      ],
      "text/markdown": [
       "\n",
       "A data.frame: 6 × 16\n",
       "\n",
       "| <!--/--> | country_code &lt;chr&gt; | country_name &lt;chr&gt; | total_cases &lt;int&gt; | total_deaths &lt;int&gt; | total_vaccinations &lt;dbl&gt; | vaccinated_1dose &lt;int&gt; | fully_vacccinated &lt;int&gt; | total_vaccinations_per100 &lt;dbl&gt; | first_vaccine_date &lt;chr&gt; | last_updated_date &lt;chr&gt; | stringency_index &lt;dbl&gt; | population &lt;int&gt; | urbanisation_rate &lt;dbl&gt; | urbanisation_yearly_change &lt;dbl&gt; | gdp_per_cap &lt;int&gt; | density &lt;dbl&gt; |\n",
       "|---|---|---|---|---|---|---|---|---|---|---|---|---|---|---|---|---|\n",
       "| 1 | USA | United States of America | 43792254 | 703599 | 407615184 | 229155687 | 186883154 | 123.146 | 2020-12-14 | 2021-10-08 |  93.52 |  334998398 | 82.9 | 0.96 | 62530 |  34.07 |\n",
       "| 2 | IND | India                    | 33971607 | 450782 | 915465826 | 663807388 | 251658438 |  66.338 | 2021-01-16 | 2021-10-05 | 100.00 | 1339330514 | 35.4 | 2.33 |  6700 | 407.43 |\n",
       "| 3 | BRA | Brazil                   | 21516967 | 599359 | 235087603 | 147951632 |  91654941 | 110.599 | 2021-01-17 | 2021-10-08 |  96.76 |  213445417 | 87.3 | 0.87 | 14652 |  25.06 |\n",
       "| 4 | GBR | The United Kingdom       |  8154310 | 137735 |  93948903 |  48956859 |  44877400 | 138.400 | 2020-12-21 | 2021-10-05 |  87.96 |   67081000 | 84.2 | 0.80 | 46659 | 275.36 |\n",
       "| 5 | RUS | Russian Federation       |  7804774 | 217372 |  91151285 |  48610971 |  42539895 |  62.500 | NA         | 2021-10-06 |  87.04 |  142320790 | 74.9 | 0.11 | 27044 |   8.32 |\n",
       "| 6 | TUR | Turkey                   |  7444552 |  66180 | 110333793 |  54038516 |  45664544 | 130.800 | NA         | 2021-10-06 |  87.04 |   82482383 | 76.6 | 1.11 | 28424 | 105.27 |\n",
       "\n"
      ],
      "text/plain": [
       "  country_code country_name             total_cases total_deaths\n",
       "1 USA          United States of America 43792254    703599      \n",
       "2 IND          India                    33971607    450782      \n",
       "3 BRA          Brazil                   21516967    599359      \n",
       "4 GBR          The United Kingdom        8154310    137735      \n",
       "5 RUS          Russian Federation        7804774    217372      \n",
       "6 TUR          Turkey                    7444552     66180      \n",
       "  total_vaccinations vaccinated_1dose fully_vacccinated\n",
       "1 407615184          229155687        186883154        \n",
       "2 915465826          663807388        251658438        \n",
       "3 235087603          147951632         91654941        \n",
       "4  93948903           48956859         44877400        \n",
       "5  91151285           48610971         42539895        \n",
       "6 110333793           54038516         45664544        \n",
       "  total_vaccinations_per100 first_vaccine_date last_updated_date\n",
       "1 123.146                   2020-12-14         2021-10-08       \n",
       "2  66.338                   2021-01-16         2021-10-05       \n",
       "3 110.599                   2021-01-17         2021-10-08       \n",
       "4 138.400                   2020-12-21         2021-10-05       \n",
       "5  62.500                   NA                 2021-10-06       \n",
       "6 130.800                   NA                 2021-10-06       \n",
       "  stringency_index population urbanisation_rate urbanisation_yearly_change\n",
       "1  93.52            334998398 82.9              0.96                      \n",
       "2 100.00           1339330514 35.4              2.33                      \n",
       "3  96.76            213445417 87.3              0.87                      \n",
       "4  87.96             67081000 84.2              0.80                      \n",
       "5  87.04            142320790 74.9              0.11                      \n",
       "6  87.04             82482383 76.6              1.11                      \n",
       "  gdp_per_cap density\n",
       "1 62530        34.07 \n",
       "2  6700       407.43 \n",
       "3 14652        25.06 \n",
       "4 46659       275.36 \n",
       "5 27044         8.32 \n",
       "6 28424       105.27 "
      ]
     },
     "metadata": {},
     "output_type": "display_data"
    },
    {
     "data": {
      "text/html": [
       "<table class=\"dataframe\">\n",
       "<caption>A data.frame: 1 × 1</caption>\n",
       "<thead>\n",
       "\t<tr><th scope=col>n</th></tr>\n",
       "\t<tr><th scope=col>&lt;int&gt;</th></tr>\n",
       "</thead>\n",
       "<tbody>\n",
       "\t<tr><td>221</td></tr>\n",
       "</tbody>\n",
       "</table>\n"
      ],
      "text/latex": [
       "A data.frame: 1 × 1\n",
       "\\begin{tabular}{l}\n",
       " n\\\\\n",
       " <int>\\\\\n",
       "\\hline\n",
       "\t 221\\\\\n",
       "\\end{tabular}\n"
      ],
      "text/markdown": [
       "\n",
       "A data.frame: 1 × 1\n",
       "\n",
       "| n &lt;int&gt; |\n",
       "|---|\n",
       "| 221 |\n",
       "\n"
      ],
      "text/plain": [
       "  n  \n",
       "1 221"
      ]
     },
     "metadata": {},
     "output_type": "display_data"
    },
    {
     "data": {
      "text/plain": [
       " country_code       country_name        total_cases        total_deaths   \n",
       " Length:221         Length:221         Min.   :       0   Min.   :     0  \n",
       " Class :character   Class :character   1st Qu.:    9941   1st Qu.:   125  \n",
       " Mode  :character   Mode  :character   Median :  114810   Median :  1432  \n",
       "                                       Mean   : 1073411   Mean   : 21873  \n",
       "                                       3rd Qu.:  520862   3rd Qu.:  9269  \n",
       "                                       Max.   :43792254   Max.   :703599  \n",
       "                                                                          \n",
       " total_vaccinations  vaccinated_1dose    fully_vacccinated  \n",
       " Min.   :1.936e+03   Min.   :9.680e+02   Min.   :9.680e+02  \n",
       " 1st Qu.:1.901e+05   1st Qu.:1.174e+05   1st Qu.:7.513e+04  \n",
       " Median :1.634e+06   Median :8.542e+05   Median :6.139e+05  \n",
       " Mean   :2.957e+07   Mean   :1.718e+07   Mean   :1.246e+07  \n",
       " 3rd Qu.:1.075e+07   3rd Qu.:5.796e+06   3rd Qu.:4.691e+06  \n",
       " Max.   :2.222e+09   Max.   :1.155e+09   Max.   :1.014e+09  \n",
       " NA's   :6           NA's   :10          NA's   :9          \n",
       " total_vaccinations_per100 first_vaccine_date last_updated_date \n",
       " Min.   :  0.157           Length:221         Length:221        \n",
       " 1st Qu.: 28.055           Class :character   Class :character  \n",
       " Median : 82.600           Mode  :character   Mode  :character  \n",
       " Mean   : 80.150                                                \n",
       " 3rd Qu.:127.939                                                \n",
       " Max.   :237.185                                                \n",
       " NA's   :6                                                      \n",
       " stringency_index   population        urbanisation_rate\n",
       " Min.   :  -Inf   Min.   :1.647e+03   Min.   :  0.00   \n",
       " 1st Qu.: 80.56   1st Qu.:5.895e+05   1st Qu.: 42.60   \n",
       " Median : 87.96   Median :5.866e+06   Median : 62.60   \n",
       " Mean   :  -Inf   Mean   :3.496e+07   Mean   : 60.72   \n",
       " 3rd Qu.: 93.52   3rd Qu.:2.361e+07   3rd Qu.: 81.10   \n",
       " Max.   :100.00   Max.   :1.398e+09   Max.   :100.00   \n",
       " NA's   :40                                            \n",
       " urbanisation_yearly_change  gdp_per_cap        density        \n",
       " Min.   :-1.230             Min.   :   752   Min.   :    0.03  \n",
       " 1st Qu.: 0.610             1st Qu.:  5213   1st Qu.:   34.07  \n",
       " Median : 1.340             Median : 14404   Median :   94.22  \n",
       " Mean   : 1.662             Mean   : 22968   Mean   :  322.94  \n",
       " 3rd Qu.: 2.590             3rd Qu.: 34518   3rd Qu.:  214.05  \n",
       " Max.   : 5.430             Max.   :139100   Max.   :15611.50  \n",
       "                                                               "
      ]
     },
     "metadata": {},
     "output_type": "display_data"
    }
   ],
   "source": [
    "# join the covid and population datasets into one dataframe\n",
    "Main_DataFrame1 <- inner_join(covid_data, population_data, by=c(\"country_code\")) %>%\n",
    "  select(country_code, country_name, total_cases, total_deaths, total_vaccinations, vaccinated_1dose, fully_vacccinated, \n",
    "        total_vaccinations_per100, first_vaccine_date, last_updated_date, stringency_index, population, urbanisation_rate, urbanisation_yearly_change,\n",
    "       gdp_per_cap,density) %>% as.data.frame()\n",
    "\n",
    "\n",
    "\n",
    "head(Main_DataFrame1)\n",
    "count(Main_DataFrame1)\n",
    "summary(Main_DataFrame1)"
   ]
  },
  {
   "cell_type": "code",
   "execution_count": 6,
   "id": "5b229ae2-4e95-48e8-a458-25b1aae6edc6",
   "metadata": {},
   "outputs": [
    {
     "name": "stderr",
     "output_type": "stream",
     "text": [
      "Warning message in countrycode_convert(sourcevar = sourcevar, origin = origin, destination = dest, :\n",
      "\"Some values were not matched unambiguously: Akrotiri, Ashmore and Cartier Islands, Baker Island, Clipperton Island, Coral Sea Islands, Dhekelia, Etorofu, Habomai, Kunashiri, and Shikotan Islands, Europa Island, Glorioso Islands, Howland Island, Jan Mayen, Jarvis Island, Johnston Atoll, Juan de Nova Island, Kingman Reef, Kosovo, Midway Islands, Navassa Island, Palmyra Atoll, Paracel Islands, Saint Martin, Spratly Islands, Tromelin Island, Wake Island, World\n",
      "\"\n"
     ]
    },
    {
     "data": {
      "text/html": [
       "<table class=\"dataframe\">\n",
       "<caption>A data.frame: 6 × 5</caption>\n",
       "<thead>\n",
       "\t<tr><th></th><th scope=col>fips</th><th scope=col>tavg</th><th scope=col>prcp</th><th scope=col>country_code</th><th scope=col>country_name</th></tr>\n",
       "\t<tr><th></th><th scope=col>&lt;chr&gt;</th><th scope=col>&lt;dbl&gt;</th><th scope=col>&lt;dbl&gt;</th><th scope=col>&lt;chr&gt;</th><th scope=col>&lt;chr&gt;</th></tr>\n",
       "</thead>\n",
       "<tbody>\n",
       "\t<tr><th scope=row>1</th><td>AE</td><td>30.60948</td><td> 0.0000000</td><td>ARE</td><td>United Arab Emirates</td></tr>\n",
       "\t<tr><th scope=row>2</th><td>AF</td><td>19.30219</td><td> 3.3200000</td><td>AFG</td><td>Afghanistan         </td></tr>\n",
       "\t<tr><th scope=row>3</th><td>AG</td><td>22.93812</td><td> 0.7833752</td><td>DZA</td><td>Algeria             </td></tr>\n",
       "\t<tr><th scope=row>4</th><td>AJ</td><td>17.32671</td><td>10.9521967</td><td>AZE</td><td>Azerbaijan          </td></tr>\n",
       "\t<tr><th scope=row>5</th><td>AL</td><td>17.23447</td><td>        NA</td><td>ALB</td><td>Albania             </td></tr>\n",
       "\t<tr><th scope=row>6</th><td>AM</td><td>10.79957</td><td> 3.0507692</td><td>ARM</td><td>Armenia             </td></tr>\n",
       "</tbody>\n",
       "</table>\n"
      ],
      "text/latex": [
       "A data.frame: 6 × 5\n",
       "\\begin{tabular}{r|lllll}\n",
       "  & fips & tavg & prcp & country\\_code & country\\_name\\\\\n",
       "  & <chr> & <dbl> & <dbl> & <chr> & <chr>\\\\\n",
       "\\hline\n",
       "\t1 & AE & 30.60948 &  0.0000000 & ARE & United Arab Emirates\\\\\n",
       "\t2 & AF & 19.30219 &  3.3200000 & AFG & Afghanistan         \\\\\n",
       "\t3 & AG & 22.93812 &  0.7833752 & DZA & Algeria             \\\\\n",
       "\t4 & AJ & 17.32671 & 10.9521967 & AZE & Azerbaijan          \\\\\n",
       "\t5 & AL & 17.23447 &         NA & ALB & Albania             \\\\\n",
       "\t6 & AM & 10.79957 &  3.0507692 & ARM & Armenia             \\\\\n",
       "\\end{tabular}\n"
      ],
      "text/markdown": [
       "\n",
       "A data.frame: 6 × 5\n",
       "\n",
       "| <!--/--> | fips &lt;chr&gt; | tavg &lt;dbl&gt; | prcp &lt;dbl&gt; | country_code &lt;chr&gt; | country_name &lt;chr&gt; |\n",
       "|---|---|---|---|---|---|\n",
       "| 1 | AE | 30.60948 |  0.0000000 | ARE | United Arab Emirates |\n",
       "| 2 | AF | 19.30219 |  3.3200000 | AFG | Afghanistan          |\n",
       "| 3 | AG | 22.93812 |  0.7833752 | DZA | Algeria              |\n",
       "| 4 | AJ | 17.32671 | 10.9521967 | AZE | Azerbaijan           |\n",
       "| 5 | AL | 17.23447 |         NA | ALB | Albania              |\n",
       "| 6 | AM | 10.79957 |  3.0507692 | ARM | Armenia              |\n",
       "\n"
      ],
      "text/plain": [
       "  fips tavg     prcp       country_code country_name        \n",
       "1 AE   30.60948  0.0000000 ARE          United Arab Emirates\n",
       "2 AF   19.30219  3.3200000 AFG          Afghanistan         \n",
       "3 AG   22.93812  0.7833752 DZA          Algeria             \n",
       "4 AJ   17.32671 10.9521967 AZE          Azerbaijan          \n",
       "5 AL   17.23447         NA ALB          Albania             \n",
       "6 AM   10.79957  3.0507692 ARM          Armenia             "
      ]
     },
     "metadata": {},
     "output_type": "display_data"
    },
    {
     "data": {
      "text/plain": [
       "     fips                tavg             prcp        country_code      \n",
       " Length:279         Min.   :-22.06   Min.   : 0.000   Length:279        \n",
       " Class :character   1st Qu.: 14.59   1st Qu.: 2.195   Class :character  \n",
       " Mode  :character   Median : 23.71   Median : 4.580   Mode  :character  \n",
       "                    Mean   : 20.52   Mean   : 5.560                     \n",
       "                    3rd Qu.: 27.15   3rd Qu.: 8.537                     \n",
       "                    Max.   : 30.95   Max.   :20.825                     \n",
       "                    NA's   :88       NA's   :101                        \n",
       " country_name      \n",
       " Length:279        \n",
       " Class :character  \n",
       " Mode  :character  \n",
       "                   \n",
       "                   \n",
       "                   \n",
       "                   "
      ]
     },
     "metadata": {},
     "output_type": "display_data"
    }
   ],
   "source": [
    "#Change the column name in climate_data from Name to country_name\n",
    "colnames(climate_data)[colnames(climate_data) == \"iso3166\"] <- \"country_code\"\n",
    "colnames(climate_data)[colnames(climate_data) == \"Name\"] <- \"country_name\"\n",
    "\n",
    "climate_data$country_code = countrycode(climate_data$country_name, \"country.name\", \"iso3c\")\n",
    "\n",
    "head(climate_data)\n",
    "summary(climate_data)\n"
   ]
  },
  {
   "cell_type": "code",
   "execution_count": 7,
   "id": "38af2d42-92f6-46b3-9a96-a3db71361ae0",
   "metadata": {},
   "outputs": [
    {
     "data": {
      "text/plain": [
       "     fips                tavg             prcp        country_code      \n",
       " Length:178         Min.   :-22.06   Min.   : 0.000   Length:178        \n",
       " Class :character   1st Qu.: 14.06   1st Qu.: 2.195   Class :character  \n",
       " Mode  :character   Median : 23.37   Median : 4.580   Mode  :character  \n",
       "                    Mean   : 20.27   Mean   : 5.560                     \n",
       "                    3rd Qu.: 27.14   3rd Qu.: 8.537                     \n",
       "                    Max.   : 30.77   Max.   :20.825                     \n",
       "                    NA's   :4                                           \n",
       " country_name      \n",
       " Length:178        \n",
       " Class :character  \n",
       " Mode  :character  \n",
       "                   \n",
       "                   \n",
       "                   \n",
       "                   "
      ]
     },
     "metadata": {},
     "output_type": "display_data"
    },
    {
     "data": {
      "text/html": [
       "<table class=\"dataframe\">\n",
       "<caption>A data.frame: 1 × 1</caption>\n",
       "<thead>\n",
       "\t<tr><th scope=col>n</th></tr>\n",
       "\t<tr><th scope=col>&lt;int&gt;</th></tr>\n",
       "</thead>\n",
       "<tbody>\n",
       "\t<tr><td>178</td></tr>\n",
       "</tbody>\n",
       "</table>\n"
      ],
      "text/latex": [
       "A data.frame: 1 × 1\n",
       "\\begin{tabular}{l}\n",
       " n\\\\\n",
       " <int>\\\\\n",
       "\\hline\n",
       "\t 178\\\\\n",
       "\\end{tabular}\n"
      ],
      "text/markdown": [
       "\n",
       "A data.frame: 1 × 1\n",
       "\n",
       "| n &lt;int&gt; |\n",
       "|---|\n",
       "| 178 |\n",
       "\n"
      ],
      "text/plain": [
       "  n  \n",
       "1 178"
      ]
     },
     "metadata": {},
     "output_type": "display_data"
    }
   ],
   "source": [
    "Main_DataFrame2 = filter(climate_data, !is.na(climate_data$prcp))\n",
    "summary(Main_DataFrame2)\n",
    "count(Main_DataFrame2)"
   ]
  },
  {
   "cell_type": "code",
   "execution_count": 8,
   "id": "88457c79-fd23-46ba-8f46-394e90eaf64e",
   "metadata": {},
   "outputs": [
    {
     "data": {
      "text/html": [
       "<table class=\"dataframe\">\n",
       "<caption>A data.frame: 6 × 18</caption>\n",
       "<thead>\n",
       "\t<tr><th></th><th scope=col>country_code</th><th scope=col>country_name.x</th><th scope=col>population</th><th scope=col>total_cases</th><th scope=col>total_deaths</th><th scope=col>total_vaccinations</th><th scope=col>vaccinated_1dose</th><th scope=col>fully_vacccinated</th><th scope=col>total_vaccinations_per100</th><th scope=col>first_vaccine_date</th><th scope=col>last_updated_date</th><th scope=col>stringency_index</th><th scope=col>urbanisation_rate</th><th scope=col>urbanisation_yearly_change</th><th scope=col>gdp_per_cap</th><th scope=col>density</th><th scope=col>tavg</th><th scope=col>prcp</th></tr>\n",
       "\t<tr><th></th><th scope=col>&lt;chr&gt;</th><th scope=col>&lt;chr&gt;</th><th scope=col>&lt;int&gt;</th><th scope=col>&lt;int&gt;</th><th scope=col>&lt;int&gt;</th><th scope=col>&lt;dbl&gt;</th><th scope=col>&lt;int&gt;</th><th scope=col>&lt;int&gt;</th><th scope=col>&lt;dbl&gt;</th><th scope=col>&lt;chr&gt;</th><th scope=col>&lt;chr&gt;</th><th scope=col>&lt;dbl&gt;</th><th scope=col>&lt;dbl&gt;</th><th scope=col>&lt;dbl&gt;</th><th scope=col>&lt;int&gt;</th><th scope=col>&lt;dbl&gt;</th><th scope=col>&lt;dbl&gt;</th><th scope=col>&lt;dbl&gt;</th></tr>\n",
       "</thead>\n",
       "<tbody>\n",
       "\t<tr><th scope=row>1</th><td>USA</td><td>United States of America</td><td> 334998398</td><td>43792254</td><td>703599</td><td>407615184</td><td>229155687</td><td>186883154</td><td>123.146</td><td>2020-12-14</td><td>2021-10-08</td><td> 93.52</td><td>82.9</td><td>0.96</td><td>62530</td><td> 34.07</td><td>10.465131</td><td> 2.992851</td></tr>\n",
       "\t<tr><th scope=row>2</th><td>IND</td><td>India                   </td><td>1339330514</td><td>33971607</td><td>450782</td><td>915465826</td><td>663807388</td><td>251658438</td><td> 66.338</td><td>2021-01-16</td><td>2021-10-05</td><td>100.00</td><td>35.4</td><td>2.33</td><td> 6700</td><td>407.43</td><td>26.987922</td><td>11.186954</td></tr>\n",
       "\t<tr><th scope=row>3</th><td>BRA</td><td>Brazil                  </td><td> 213445417</td><td>21516967</td><td>599359</td><td>235087603</td><td>147951632</td><td> 91654941</td><td>110.599</td><td>2021-01-17</td><td>2021-10-08</td><td> 96.76</td><td>87.3</td><td>0.87</td><td>14652</td><td> 25.06</td><td>24.467521</td><td> 6.039909</td></tr>\n",
       "\t<tr><th scope=row>4</th><td>GBR</td><td>The United Kingdom      </td><td>  67081000</td><td> 8154310</td><td>137735</td><td> 93948903</td><td> 48956859</td><td> 44877400</td><td>138.400</td><td>2020-12-21</td><td>2021-10-05</td><td> 87.96</td><td>84.2</td><td>0.80</td><td>46659</td><td>275.36</td><td>10.143019</td><td> 2.348262</td></tr>\n",
       "\t<tr><th scope=row>5</th><td>RUS</td><td>Russian Federation      </td><td> 142320790</td><td> 7804774</td><td>217372</td><td> 91151285</td><td> 48610971</td><td> 42539895</td><td> 62.500</td><td>NA        </td><td>2021-10-06</td><td> 87.04</td><td>74.9</td><td>0.11</td><td>27044</td><td>  8.32</td><td> 2.007482</td><td> 1.621112</td></tr>\n",
       "\t<tr><th scope=row>6</th><td>TUR</td><td>Turkey                  </td><td>  82482383</td><td> 7444552</td><td> 66180</td><td>110333793</td><td> 54038516</td><td> 45664544</td><td>130.800</td><td>NA        </td><td>2021-10-06</td><td> 87.04</td><td>76.6</td><td>1.11</td><td>28424</td><td>105.27</td><td>17.046552</td><td> 2.675626</td></tr>\n",
       "</tbody>\n",
       "</table>\n"
      ],
      "text/latex": [
       "A data.frame: 6 × 18\n",
       "\\begin{tabular}{r|llllllllllllllllll}\n",
       "  & country\\_code & country\\_name.x & population & total\\_cases & total\\_deaths & total\\_vaccinations & vaccinated\\_1dose & fully\\_vacccinated & total\\_vaccinations\\_per100 & first\\_vaccine\\_date & last\\_updated\\_date & stringency\\_index & urbanisation\\_rate & urbanisation\\_yearly\\_change & gdp\\_per\\_cap & density & tavg & prcp\\\\\n",
       "  & <chr> & <chr> & <int> & <int> & <int> & <dbl> & <int> & <int> & <dbl> & <chr> & <chr> & <dbl> & <dbl> & <dbl> & <int> & <dbl> & <dbl> & <dbl>\\\\\n",
       "\\hline\n",
       "\t1 & USA & United States of America &  334998398 & 43792254 & 703599 & 407615184 & 229155687 & 186883154 & 123.146 & 2020-12-14 & 2021-10-08 &  93.52 & 82.9 & 0.96 & 62530 &  34.07 & 10.465131 &  2.992851\\\\\n",
       "\t2 & IND & India                    & 1339330514 & 33971607 & 450782 & 915465826 & 663807388 & 251658438 &  66.338 & 2021-01-16 & 2021-10-05 & 100.00 & 35.4 & 2.33 &  6700 & 407.43 & 26.987922 & 11.186954\\\\\n",
       "\t3 & BRA & Brazil                   &  213445417 & 21516967 & 599359 & 235087603 & 147951632 &  91654941 & 110.599 & 2021-01-17 & 2021-10-08 &  96.76 & 87.3 & 0.87 & 14652 &  25.06 & 24.467521 &  6.039909\\\\\n",
       "\t4 & GBR & The United Kingdom       &   67081000 &  8154310 & 137735 &  93948903 &  48956859 &  44877400 & 138.400 & 2020-12-21 & 2021-10-05 &  87.96 & 84.2 & 0.80 & 46659 & 275.36 & 10.143019 &  2.348262\\\\\n",
       "\t5 & RUS & Russian Federation       &  142320790 &  7804774 & 217372 &  91151285 &  48610971 &  42539895 &  62.500 & NA         & 2021-10-06 &  87.04 & 74.9 & 0.11 & 27044 &   8.32 &  2.007482 &  1.621112\\\\\n",
       "\t6 & TUR & Turkey                   &   82482383 &  7444552 &  66180 & 110333793 &  54038516 &  45664544 & 130.800 & NA         & 2021-10-06 &  87.04 & 76.6 & 1.11 & 28424 & 105.27 & 17.046552 &  2.675626\\\\\n",
       "\\end{tabular}\n"
      ],
      "text/markdown": [
       "\n",
       "A data.frame: 6 × 18\n",
       "\n",
       "| <!--/--> | country_code &lt;chr&gt; | country_name.x &lt;chr&gt; | population &lt;int&gt; | total_cases &lt;int&gt; | total_deaths &lt;int&gt; | total_vaccinations &lt;dbl&gt; | vaccinated_1dose &lt;int&gt; | fully_vacccinated &lt;int&gt; | total_vaccinations_per100 &lt;dbl&gt; | first_vaccine_date &lt;chr&gt; | last_updated_date &lt;chr&gt; | stringency_index &lt;dbl&gt; | urbanisation_rate &lt;dbl&gt; | urbanisation_yearly_change &lt;dbl&gt; | gdp_per_cap &lt;int&gt; | density &lt;dbl&gt; | tavg &lt;dbl&gt; | prcp &lt;dbl&gt; |\n",
       "|---|---|---|---|---|---|---|---|---|---|---|---|---|---|---|---|---|---|---|\n",
       "| 1 | USA | United States of America |  334998398 | 43792254 | 703599 | 407615184 | 229155687 | 186883154 | 123.146 | 2020-12-14 | 2021-10-08 |  93.52 | 82.9 | 0.96 | 62530 |  34.07 | 10.465131 |  2.992851 |\n",
       "| 2 | IND | India                    | 1339330514 | 33971607 | 450782 | 915465826 | 663807388 | 251658438 |  66.338 | 2021-01-16 | 2021-10-05 | 100.00 | 35.4 | 2.33 |  6700 | 407.43 | 26.987922 | 11.186954 |\n",
       "| 3 | BRA | Brazil                   |  213445417 | 21516967 | 599359 | 235087603 | 147951632 |  91654941 | 110.599 | 2021-01-17 | 2021-10-08 |  96.76 | 87.3 | 0.87 | 14652 |  25.06 | 24.467521 |  6.039909 |\n",
       "| 4 | GBR | The United Kingdom       |   67081000 |  8154310 | 137735 |  93948903 |  48956859 |  44877400 | 138.400 | 2020-12-21 | 2021-10-05 |  87.96 | 84.2 | 0.80 | 46659 | 275.36 | 10.143019 |  2.348262 |\n",
       "| 5 | RUS | Russian Federation       |  142320790 |  7804774 | 217372 |  91151285 |  48610971 |  42539895 |  62.500 | NA         | 2021-10-06 |  87.04 | 74.9 | 0.11 | 27044 |   8.32 |  2.007482 |  1.621112 |\n",
       "| 6 | TUR | Turkey                   |   82482383 |  7444552 |  66180 | 110333793 |  54038516 |  45664544 | 130.800 | NA         | 2021-10-06 |  87.04 | 76.6 | 1.11 | 28424 | 105.27 | 17.046552 |  2.675626 |\n",
       "\n"
      ],
      "text/plain": [
       "  country_code country_name.x           population total_cases total_deaths\n",
       "1 USA          United States of America  334998398 43792254    703599      \n",
       "2 IND          India                    1339330514 33971607    450782      \n",
       "3 BRA          Brazil                    213445417 21516967    599359      \n",
       "4 GBR          The United Kingdom         67081000  8154310    137735      \n",
       "5 RUS          Russian Federation        142320790  7804774    217372      \n",
       "6 TUR          Turkey                     82482383  7444552     66180      \n",
       "  total_vaccinations vaccinated_1dose fully_vacccinated\n",
       "1 407615184          229155687        186883154        \n",
       "2 915465826          663807388        251658438        \n",
       "3 235087603          147951632         91654941        \n",
       "4  93948903           48956859         44877400        \n",
       "5  91151285           48610971         42539895        \n",
       "6 110333793           54038516         45664544        \n",
       "  total_vaccinations_per100 first_vaccine_date last_updated_date\n",
       "1 123.146                   2020-12-14         2021-10-08       \n",
       "2  66.338                   2021-01-16         2021-10-05       \n",
       "3 110.599                   2021-01-17         2021-10-08       \n",
       "4 138.400                   2020-12-21         2021-10-05       \n",
       "5  62.500                   NA                 2021-10-06       \n",
       "6 130.800                   NA                 2021-10-06       \n",
       "  stringency_index urbanisation_rate urbanisation_yearly_change gdp_per_cap\n",
       "1  93.52           82.9              0.96                       62530      \n",
       "2 100.00           35.4              2.33                        6700      \n",
       "3  96.76           87.3              0.87                       14652      \n",
       "4  87.96           84.2              0.80                       46659      \n",
       "5  87.04           74.9              0.11                       27044      \n",
       "6  87.04           76.6              1.11                       28424      \n",
       "  density tavg      prcp     \n",
       "1  34.07  10.465131  2.992851\n",
       "2 407.43  26.987922 11.186954\n",
       "3  25.06  24.467521  6.039909\n",
       "4 275.36  10.143019  2.348262\n",
       "5   8.32   2.007482  1.621112\n",
       "6 105.27  17.046552  2.675626"
      ]
     },
     "metadata": {},
     "output_type": "display_data"
    },
    {
     "data": {
      "text/html": [
       "<table class=\"dataframe\">\n",
       "<caption>A data.frame: 1 × 1</caption>\n",
       "<thead>\n",
       "\t<tr><th scope=col>n</th></tr>\n",
       "\t<tr><th scope=col>&lt;int&gt;</th></tr>\n",
       "</thead>\n",
       "<tbody>\n",
       "\t<tr><td>222</td></tr>\n",
       "</tbody>\n",
       "</table>\n"
      ],
      "text/latex": [
       "A data.frame: 1 × 1\n",
       "\\begin{tabular}{l}\n",
       " n\\\\\n",
       " <int>\\\\\n",
       "\\hline\n",
       "\t 222\\\\\n",
       "\\end{tabular}\n"
      ],
      "text/markdown": [
       "\n",
       "A data.frame: 1 × 1\n",
       "\n",
       "| n &lt;int&gt; |\n",
       "|---|\n",
       "| 222 |\n",
       "\n"
      ],
      "text/plain": [
       "  n  \n",
       "1 222"
      ]
     },
     "metadata": {},
     "output_type": "display_data"
    },
    {
     "data": {
      "text/plain": [
       " country_code       country_name.x       population         total_cases      \n",
       " Length:222         Length:222         Min.   :1.647e+03   Min.   :       0  \n",
       " Class :character   Class :character   1st Qu.:5.939e+05   1st Qu.:    9998  \n",
       " Mode  :character   Mode  :character   Median :5.880e+06   Median :  118087  \n",
       "                                       Mean   :3.506e+07   Mean   : 1070737  \n",
       "                                       3rd Qu.:2.526e+07   3rd Qu.:  518476  \n",
       "                                       Max.   :1.398e+09   Max.   :43792254  \n",
       "                                                                             \n",
       "  total_deaths      total_vaccinations  vaccinated_1dose    fully_vacccinated  \n",
       " Min.   :     0.0   Min.   :1.936e+03   Min.   :9.680e+02   Min.   :9.680e+02  \n",
       " 1st Qu.:   126.2   1st Qu.:1.910e+05   1st Qu.:1.187e+05   1st Qu.:7.546e+04  \n",
       " Median :  1474.5   Median :1.662e+06   Median :8.598e+05   Median :6.304e+05  \n",
       " Mean   : 21855.9   Mean   :2.949e+07   Mean   :1.714e+07   Mean   :1.242e+07  \n",
       " 3rd Qu.:  9779.0   3rd Qu.:1.098e+07   3rd Qu.:5.902e+06   3rd Qu.:4.602e+06  \n",
       " Max.   :703599.0   Max.   :2.222e+09   Max.   :1.155e+09   Max.   :1.014e+09  \n",
       "                    NA's   :6           NA's   :10          NA's   :9          \n",
       " total_vaccinations_per100 first_vaccine_date last_updated_date \n",
       " Min.   :  0.157           Length:222         Length:222        \n",
       " 1st Qu.: 26.710           Class :character   Class :character  \n",
       " Median : 82.143           Mode  :character   Mode  :character  \n",
       " Mean   : 79.883                                                \n",
       " 3rd Qu.:127.670                                                \n",
       " Max.   :237.185                                                \n",
       " NA's   :6                                                      \n",
       " stringency_index urbanisation_rate urbanisation_yearly_change  gdp_per_cap    \n",
       " Min.   :  -Inf   Min.   :  0.00    Min.   :-1.230             Min.   :   752  \n",
       " 1st Qu.: 80.56   1st Qu.: 42.15    1st Qu.: 0.620             1st Qu.:  5201  \n",
       " Median : 87.96   Median : 62.55    Median : 1.345             Median : 14184  \n",
       " Mean   :  -Inf   Mean   : 60.58    Mean   : 1.663             Mean   : 22888  \n",
       " 3rd Qu.: 93.52   3rd Qu.: 81.08    3rd Qu.: 2.580             3rd Qu.: 34439  \n",
       " Max.   :100.00   Max.   :100.00    Max.   : 5.430             Max.   :139100  \n",
       " NA's   :40                                                                    \n",
       "    density              tavg             prcp       \n",
       " Min.   :    0.03   Min.   :-4.154   Min.   : 0.000  \n",
       " 1st Qu.:   34.37   1st Qu.:14.136   1st Qu.: 2.353  \n",
       " Median :   93.87   Median :23.562   Median : 4.904  \n",
       " Mean   :  321.87   Mean   :20.669   Mean   : 5.723  \n",
       " 3rd Qu.:  213.50   3rd Qu.:27.203   3rd Qu.: 8.650  \n",
       " Max.   :15611.50   Max.   :30.771   Max.   :20.825  \n",
       "                    NA's   :59       NA's   :56      "
      ]
     },
     "metadata": {},
     "output_type": "display_data"
    }
   ],
   "source": [
    "Main_DataFrame <- left_join(Main_DataFrame1, Main_DataFrame2, by = c(\"country_code\")) %>%\n",
    "  select(country_code, country_name.x, population, total_cases, total_deaths, total_vaccinations, vaccinated_1dose, fully_vacccinated, \n",
    "         total_vaccinations_per100,first_vaccine_date, last_updated_date, stringency_index,urbanisation_rate, urbanisation_yearly_change, gdp_per_cap, \n",
    "         density,tavg,prcp) %>%\n",
    "  as.data.frame()\n",
    "\n",
    "head(Main_DataFrame)\n",
    "count(Main_DataFrame)\n",
    "summary(Main_DataFrame)\n"
   ]
  },
  {
   "cell_type": "code",
   "execution_count": 10,
   "id": "29357d4a-f7c5-4cb0-87dc-1059d8cecf7a",
   "metadata": {},
   "outputs": [
    {
     "data": {
      "text/html": [
       "<table class=\"dataframe\">\n",
       "<caption>A data.frame: 6 × 20</caption>\n",
       "<thead>\n",
       "\t<tr><th></th><th scope=col>country_code</th><th scope=col>country_name</th><th scope=col>population</th><th scope=col>total_cases</th><th scope=col>total_deaths</th><th scope=col>total_vaccinations</th><th scope=col>vaccinated_1dose</th><th scope=col>fully_vacccinated</th><th scope=col>first_vaccine_date</th><th scope=col>last_updated_date</th><th scope=col>stringency_index</th><th scope=col>urbanisation_rate</th><th scope=col>urbanisation_yearly_change</th><th scope=col>gdp_per_cap</th><th scope=col>density</th><th scope=col>tavg</th><th scope=col>prcp</th><th scope=col>Infection_Rate_per_100</th><th scope=col>Deaths_per_10000</th><th scope=col>total_vaccinations_per_100</th></tr>\n",
       "\t<tr><th></th><th scope=col>&lt;chr&gt;</th><th scope=col>&lt;chr&gt;</th><th scope=col>&lt;int&gt;</th><th scope=col>&lt;int&gt;</th><th scope=col>&lt;int&gt;</th><th scope=col>&lt;dbl&gt;</th><th scope=col>&lt;int&gt;</th><th scope=col>&lt;int&gt;</th><th scope=col>&lt;chr&gt;</th><th scope=col>&lt;chr&gt;</th><th scope=col>&lt;dbl&gt;</th><th scope=col>&lt;dbl&gt;</th><th scope=col>&lt;dbl&gt;</th><th scope=col>&lt;int&gt;</th><th scope=col>&lt;dbl&gt;</th><th scope=col>&lt;dbl&gt;</th><th scope=col>&lt;dbl&gt;</th><th scope=col>&lt;dbl&gt;</th><th scope=col>&lt;dbl&gt;</th><th scope=col>&lt;dbl&gt;</th></tr>\n",
       "</thead>\n",
       "<tbody>\n",
       "\t<tr><th scope=row>1</th><td>USA</td><td>United States of America</td><td> 334998398</td><td>43792254</td><td>703599</td><td>407615184</td><td>229155687</td><td>186883154</td><td>2020-12-14</td><td>2021-10-08</td><td> 93.52</td><td>82.9</td><td>0.96</td><td>62530</td><td> 34.07</td><td>10.465131</td><td> 2.992851</td><td>13.07</td><td>21.00</td><td>123</td></tr>\n",
       "\t<tr><th scope=row>2</th><td>IND</td><td>India                   </td><td>1339330514</td><td>33971607</td><td>450782</td><td>915465826</td><td>663807388</td><td>251658438</td><td>2021-01-16</td><td>2021-10-05</td><td>100.00</td><td>35.4</td><td>2.33</td><td> 6700</td><td>407.43</td><td>26.987922</td><td>11.186954</td><td> 2.54</td><td> 3.37</td><td> 66</td></tr>\n",
       "\t<tr><th scope=row>3</th><td>BRA</td><td>Brazil                  </td><td> 213445417</td><td>21516967</td><td>599359</td><td>235087603</td><td>147951632</td><td> 91654941</td><td>2021-01-17</td><td>2021-10-08</td><td> 96.76</td><td>87.3</td><td>0.87</td><td>14652</td><td> 25.06</td><td>24.467521</td><td> 6.039909</td><td>10.08</td><td>28.08</td><td>111</td></tr>\n",
       "\t<tr><th scope=row>4</th><td>GBR</td><td>The United Kingdom      </td><td>  67081000</td><td> 8154310</td><td>137735</td><td> 93948903</td><td> 48956859</td><td> 44877400</td><td>2020-12-21</td><td>2021-10-05</td><td> 87.96</td><td>84.2</td><td>0.80</td><td>46659</td><td>275.36</td><td>10.143019</td><td> 2.348262</td><td>12.16</td><td>20.53</td><td>138</td></tr>\n",
       "\t<tr><th scope=row>5</th><td>RUS</td><td>Russian Federation      </td><td> 142320790</td><td> 7804774</td><td>217372</td><td> 91151285</td><td> 48610971</td><td> 42539895</td><td>NA        </td><td>2021-10-06</td><td> 87.04</td><td>74.9</td><td>0.11</td><td>27044</td><td>  8.32</td><td> 2.007482</td><td> 1.621112</td><td> 5.48</td><td>15.27</td><td> 62</td></tr>\n",
       "\t<tr><th scope=row>6</th><td>TUR</td><td>Turkey                  </td><td>  82482383</td><td> 7444552</td><td> 66180</td><td>110333793</td><td> 54038516</td><td> 45664544</td><td>NA        </td><td>2021-10-06</td><td> 87.04</td><td>76.6</td><td>1.11</td><td>28424</td><td>105.27</td><td>17.046552</td><td> 2.675626</td><td> 9.03</td><td> 8.02</td><td>131</td></tr>\n",
       "</tbody>\n",
       "</table>\n"
      ],
      "text/latex": [
       "A data.frame: 6 × 20\n",
       "\\begin{tabular}{r|llllllllllllllllllll}\n",
       "  & country\\_code & country\\_name & population & total\\_cases & total\\_deaths & total\\_vaccinations & vaccinated\\_1dose & fully\\_vacccinated & first\\_vaccine\\_date & last\\_updated\\_date & stringency\\_index & urbanisation\\_rate & urbanisation\\_yearly\\_change & gdp\\_per\\_cap & density & tavg & prcp & Infection\\_Rate\\_per\\_100 & Deaths\\_per\\_10000 & total\\_vaccinations\\_per\\_100\\\\\n",
       "  & <chr> & <chr> & <int> & <int> & <int> & <dbl> & <int> & <int> & <chr> & <chr> & <dbl> & <dbl> & <dbl> & <int> & <dbl> & <dbl> & <dbl> & <dbl> & <dbl> & <dbl>\\\\\n",
       "\\hline\n",
       "\t1 & USA & United States of America &  334998398 & 43792254 & 703599 & 407615184 & 229155687 & 186883154 & 2020-12-14 & 2021-10-08 &  93.52 & 82.9 & 0.96 & 62530 &  34.07 & 10.465131 &  2.992851 & 13.07 & 21.00 & 123\\\\\n",
       "\t2 & IND & India                    & 1339330514 & 33971607 & 450782 & 915465826 & 663807388 & 251658438 & 2021-01-16 & 2021-10-05 & 100.00 & 35.4 & 2.33 &  6700 & 407.43 & 26.987922 & 11.186954 &  2.54 &  3.37 &  66\\\\\n",
       "\t3 & BRA & Brazil                   &  213445417 & 21516967 & 599359 & 235087603 & 147951632 &  91654941 & 2021-01-17 & 2021-10-08 &  96.76 & 87.3 & 0.87 & 14652 &  25.06 & 24.467521 &  6.039909 & 10.08 & 28.08 & 111\\\\\n",
       "\t4 & GBR & The United Kingdom       &   67081000 &  8154310 & 137735 &  93948903 &  48956859 &  44877400 & 2020-12-21 & 2021-10-05 &  87.96 & 84.2 & 0.80 & 46659 & 275.36 & 10.143019 &  2.348262 & 12.16 & 20.53 & 138\\\\\n",
       "\t5 & RUS & Russian Federation       &  142320790 &  7804774 & 217372 &  91151285 &  48610971 &  42539895 & NA         & 2021-10-06 &  87.04 & 74.9 & 0.11 & 27044 &   8.32 &  2.007482 &  1.621112 &  5.48 & 15.27 &  62\\\\\n",
       "\t6 & TUR & Turkey                   &   82482383 &  7444552 &  66180 & 110333793 &  54038516 &  45664544 & NA         & 2021-10-06 &  87.04 & 76.6 & 1.11 & 28424 & 105.27 & 17.046552 &  2.675626 &  9.03 &  8.02 & 131\\\\\n",
       "\\end{tabular}\n"
      ],
      "text/markdown": [
       "\n",
       "A data.frame: 6 × 20\n",
       "\n",
       "| <!--/--> | country_code &lt;chr&gt; | country_name &lt;chr&gt; | population &lt;int&gt; | total_cases &lt;int&gt; | total_deaths &lt;int&gt; | total_vaccinations &lt;dbl&gt; | vaccinated_1dose &lt;int&gt; | fully_vacccinated &lt;int&gt; | first_vaccine_date &lt;chr&gt; | last_updated_date &lt;chr&gt; | stringency_index &lt;dbl&gt; | urbanisation_rate &lt;dbl&gt; | urbanisation_yearly_change &lt;dbl&gt; | gdp_per_cap &lt;int&gt; | density &lt;dbl&gt; | tavg &lt;dbl&gt; | prcp &lt;dbl&gt; | Infection_Rate_per_100 &lt;dbl&gt; | Deaths_per_10000 &lt;dbl&gt; | total_vaccinations_per_100 &lt;dbl&gt; |\n",
       "|---|---|---|---|---|---|---|---|---|---|---|---|---|---|---|---|---|---|---|---|---|\n",
       "| 1 | USA | United States of America |  334998398 | 43792254 | 703599 | 407615184 | 229155687 | 186883154 | 2020-12-14 | 2021-10-08 |  93.52 | 82.9 | 0.96 | 62530 |  34.07 | 10.465131 |  2.992851 | 13.07 | 21.00 | 123 |\n",
       "| 2 | IND | India                    | 1339330514 | 33971607 | 450782 | 915465826 | 663807388 | 251658438 | 2021-01-16 | 2021-10-05 | 100.00 | 35.4 | 2.33 |  6700 | 407.43 | 26.987922 | 11.186954 |  2.54 |  3.37 |  66 |\n",
       "| 3 | BRA | Brazil                   |  213445417 | 21516967 | 599359 | 235087603 | 147951632 |  91654941 | 2021-01-17 | 2021-10-08 |  96.76 | 87.3 | 0.87 | 14652 |  25.06 | 24.467521 |  6.039909 | 10.08 | 28.08 | 111 |\n",
       "| 4 | GBR | The United Kingdom       |   67081000 |  8154310 | 137735 |  93948903 |  48956859 |  44877400 | 2020-12-21 | 2021-10-05 |  87.96 | 84.2 | 0.80 | 46659 | 275.36 | 10.143019 |  2.348262 | 12.16 | 20.53 | 138 |\n",
       "| 5 | RUS | Russian Federation       |  142320790 |  7804774 | 217372 |  91151285 |  48610971 |  42539895 | NA         | 2021-10-06 |  87.04 | 74.9 | 0.11 | 27044 |   8.32 |  2.007482 |  1.621112 |  5.48 | 15.27 |  62 |\n",
       "| 6 | TUR | Turkey                   |   82482383 |  7444552 |  66180 | 110333793 |  54038516 |  45664544 | NA         | 2021-10-06 |  87.04 | 76.6 | 1.11 | 28424 | 105.27 | 17.046552 |  2.675626 |  9.03 |  8.02 | 131 |\n",
       "\n"
      ],
      "text/plain": [
       "  country_code country_name             population total_cases total_deaths\n",
       "1 USA          United States of America  334998398 43792254    703599      \n",
       "2 IND          India                    1339330514 33971607    450782      \n",
       "3 BRA          Brazil                    213445417 21516967    599359      \n",
       "4 GBR          The United Kingdom         67081000  8154310    137735      \n",
       "5 RUS          Russian Federation        142320790  7804774    217372      \n",
       "6 TUR          Turkey                     82482383  7444552     66180      \n",
       "  total_vaccinations vaccinated_1dose fully_vacccinated first_vaccine_date\n",
       "1 407615184          229155687        186883154         2020-12-14        \n",
       "2 915465826          663807388        251658438         2021-01-16        \n",
       "3 235087603          147951632         91654941         2021-01-17        \n",
       "4  93948903           48956859         44877400         2020-12-21        \n",
       "5  91151285           48610971         42539895         NA                \n",
       "6 110333793           54038516         45664544         NA                \n",
       "  last_updated_date stringency_index urbanisation_rate\n",
       "1 2021-10-08         93.52           82.9             \n",
       "2 2021-10-05        100.00           35.4             \n",
       "3 2021-10-08         96.76           87.3             \n",
       "4 2021-10-05         87.96           84.2             \n",
       "5 2021-10-06         87.04           74.9             \n",
       "6 2021-10-06         87.04           76.6             \n",
       "  urbanisation_yearly_change gdp_per_cap density tavg      prcp     \n",
       "1 0.96                       62530        34.07  10.465131  2.992851\n",
       "2 2.33                        6700       407.43  26.987922 11.186954\n",
       "3 0.87                       14652        25.06  24.467521  6.039909\n",
       "4 0.80                       46659       275.36  10.143019  2.348262\n",
       "5 0.11                       27044         8.32   2.007482  1.621112\n",
       "6 1.11                       28424       105.27  17.046552  2.675626\n",
       "  Infection_Rate_per_100 Deaths_per_10000 total_vaccinations_per_100\n",
       "1 13.07                  21.00            123                       \n",
       "2  2.54                   3.37             66                       \n",
       "3 10.08                  28.08            111                       \n",
       "4 12.16                  20.53            138                       \n",
       "5  5.48                  15.27             62                       \n",
       "6  9.03                   8.02            131                       "
      ]
     },
     "metadata": {},
     "output_type": "display_data"
    },
    {
     "data": {
      "text/plain": [
       " country_code       country_name         population         total_cases      \n",
       " Length:220         Length:220         Min.   :1.647e+03   Min.   :       0  \n",
       " Class :character   Class :character   1st Qu.:5.599e+05   1st Qu.:    9912  \n",
       " Mode  :character   Mode  :character   Median :5.880e+06   Median :  111237  \n",
       "                                       Mean   :3.511e+07   Mean   : 1076273  \n",
       "                                       3rd Qu.:2.416e+07   3rd Qu.:  522242  \n",
       "                                       Max.   :1.398e+09   Max.   :43792254  \n",
       "                                                                             \n",
       "  total_deaths    total_vaccinations  vaccinated_1dose    fully_vacccinated  \n",
       " Min.   :     0   Min.   :1.936e+03   Min.   :9.680e+02   Min.   :9.680e+02  \n",
       " 1st Qu.:   124   1st Qu.:1.901e+05   1st Qu.:1.174e+05   1st Qu.:7.513e+04  \n",
       " Median :  1416   Median :1.634e+06   Median :8.542e+05   Median :6.139e+05  \n",
       " Mean   : 21952   Mean   :2.957e+07   Mean   :1.718e+07   Mean   :1.246e+07  \n",
       " 3rd Qu.:  9439   3rd Qu.:1.075e+07   3rd Qu.:5.796e+06   3rd Qu.:4.691e+06  \n",
       " Max.   :703599   Max.   :2.222e+09   Max.   :1.155e+09   Max.   :1.014e+09  \n",
       "                  NA's   :5           NA's   :9           NA's   :8          \n",
       " first_vaccine_date last_updated_date  stringency_index urbanisation_rate\n",
       " Length:220         Length:220         Min.   :  -Inf   Min.   :  0.00   \n",
       " Class :character   Class :character   1st Qu.: 80.56   1st Qu.: 42.45   \n",
       " Mode  :character   Mode  :character   Median : 87.96   Median : 62.55   \n",
       "                                       Mean   :  -Inf   Mean   : 60.64   \n",
       "                                       3rd Qu.: 93.52   3rd Qu.: 81.12   \n",
       "                                       Max.   :100.00   Max.   :100.00   \n",
       "                                       NA's   :40                        \n",
       " urbanisation_yearly_change  gdp_per_cap        density        \n",
       " Min.   :-1.230             Min.   :   752   Min.   :    0.03  \n",
       " 1st Qu.: 0.610             1st Qu.:  5209   1st Qu.:   33.55  \n",
       " Median : 1.335             Median : 14478   Median :   93.87  \n",
       " Mean   : 1.657             Mean   : 23044   Mean   :  322.12  \n",
       " 3rd Qu.: 2.560             3rd Qu.: 34612   3rd Qu.:  212.39  \n",
       " Max.   : 5.430             Max.   :139100   Max.   :15611.50  \n",
       "                                                               \n",
       "      tavg             prcp        Infection_Rate_per_100 Deaths_per_10000 \n",
       " Min.   :-4.154   Min.   : 0.000   Min.   : 0.000         Min.   : 0.0000  \n",
       " 1st Qu.:14.059   1st Qu.: 2.348   1st Qu.: 0.415         1st Qu.: 0.5475  \n",
       " Median :23.374   Median : 4.800   Median : 3.185         Median : 3.9850  \n",
       " Mean   :20.621   Mean   : 5.651   Mean   : 4.902         Mean   : 7.8084  \n",
       " 3rd Qu.:27.155   3rd Qu.: 8.647   3rd Qu.: 8.100         3rd Qu.:12.7650  \n",
       " Max.   :30.771   Max.   :20.825   Max.   :22.680         Max.   :61.9700  \n",
       " NA's   :58       NA's   :55                                               \n",
       " total_vaccinations_per_100\n",
       " Min.   :  0.00            \n",
       " 1st Qu.: 28.00            \n",
       " Median : 83.00            \n",
       " Mean   : 80.16            \n",
       " 3rd Qu.:127.50            \n",
       " Max.   :237.00            \n",
       " NA's   :5                 "
      ]
     },
     "metadata": {},
     "output_type": "display_data"
    }
   ],
   "source": [
    "Final_Data <- Main_DataFrame %>% mutate(Infection_Rate_per_100 = round((total_cases/population) * 100, digits = 2),\n",
    "                                        Deaths_per_10000 = round((total_deaths/population)*10000, digits = 2), \n",
    "                                        total_vaccinations_per_100 = round(total_vaccinations_per100))%>%\n",
    "                                  rename(country_name = country_name.x)%>%\n",
    "                                  select(-9)%>%\n",
    "                                  distinct(country_code, .keep_all = TRUE)\n",
    "head(Final_Data)\n",
    "summary(Final_Data)\n",
    "write_csv (Final_Data, \"FinalData.csv\")\n",
    "              "
   ]
  },
  {
   "cell_type": "code",
   "execution_count": null,
   "id": "51fa71c2-7c9c-432c-aa21-9c21c6c3b6e4",
   "metadata": {},
   "outputs": [],
   "source": []
  }
 ],
 "metadata": {
  "kernelspec": {
   "display_name": "R",
   "language": "R",
   "name": "ir"
  },
  "language_info": {
   "codemirror_mode": "r",
   "file_extension": ".r",
   "mimetype": "text/x-r-source",
   "name": "R",
   "pygments_lexer": "r",
   "version": "4.1.0"
  }
 },
 "nbformat": 4,
 "nbformat_minor": 5
}
